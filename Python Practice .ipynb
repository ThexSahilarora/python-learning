{
 "cells": [
  {
   "cell_type": "code",
   "execution_count": 9,
   "id": "3687119c-2aab-4d2b-a233-ede5d1690fc3",
   "metadata": {},
   "outputs": [
    {
     "name": "stdout",
     "output_type": "stream",
     "text": [
      "14\n"
     ]
    }
   ],
   "source": [
    "print(12+2)"
   ]
  },
  {
   "cell_type": "code",
   "execution_count": 2,
   "id": "ee3eb1fe-2ebd-41e2-94e0-180281b649d2",
   "metadata": {},
   "outputs": [
    {
     "name": "stdout",
     "output_type": "stream",
     "text": [
      "hi\n"
     ]
    }
   ],
   "source": [
    "print('hi')"
   ]
  },
  {
   "cell_type": "code",
   "execution_count": 3,
   "id": "4048d941-fc5f-488a-9edb-6be21561d952",
   "metadata": {},
   "outputs": [
    {
     "name": "stdout",
     "output_type": "stream",
     "text": [
      "sahilarora\n"
     ]
    }
   ],
   "source": [
    "print(\"sahil\" + \"arora\")"
   ]
  },
  {
   "cell_type": "code",
   "execution_count": 4,
   "id": "0cc7806b-7172-4368-88e9-557d225afa8e",
   "metadata": {},
   "outputs": [
    {
     "name": "stdout",
     "output_type": "stream",
     "text": [
      "sahil 13\n"
     ]
    }
   ],
   "source": [
    "print(\"sahil\", 13)"
   ]
  },
  {
   "cell_type": "code",
   "execution_count": 5,
   "id": "219c9f61-3090-49e8-9fc0-30935a565675",
   "metadata": {},
   "outputs": [
    {
     "name": "stdout",
     "output_type": "stream",
     "text": [
      "sahil56\n"
     ]
    }
   ],
   "source": [
    "print(\"sahil\" + str(56))"
   ]
  },
  {
   "cell_type": "code",
   "execution_count": 6,
   "id": "b15b6343-2adc-45a1-8390-09e9cb49b64c",
   "metadata": {},
   "outputs": [],
   "source": [
    "a = \"sahil gamdi\""
   ]
  },
  {
   "cell_type": "code",
   "execution_count": 10,
   "id": "13c7d5cc-8d2c-4e8a-bab6-7da7653d8944",
   "metadata": {},
   "outputs": [
    {
     "name": "stdout",
     "output_type": "stream",
     "text": [
      "<class 'str'>\n"
     ]
    }
   ],
   "source": [
    "print(type(a))"
   ]
  },
  {
   "cell_type": "code",
   "execution_count": 11,
   "id": "d301324d-60f0-4105-bfa7-e869ce0521cd",
   "metadata": {},
   "outputs": [
    {
     "name": "stdout",
     "output_type": "stream",
     "text": [
      "<class 'float'>\n"
     ]
    }
   ],
   "source": [
    "a = 12.4\n",
    "print(type(a))"
   ]
  },
  {
   "cell_type": "code",
   "execution_count": 12,
   "id": "eeaadb27-a966-42be-bc09-086f9f70fcfe",
   "metadata": {},
   "outputs": [
    {
     "name": "stdout",
     "output_type": "stream",
     "text": [
      "<class 'bool'>\n"
     ]
    }
   ],
   "source": [
    "b = True\n",
    "print(type(b))"
   ]
  },
  {
   "cell_type": "code",
   "execution_count": 13,
   "id": "3807106d-cc74-4b20-80de-59dc45afeb5e",
   "metadata": {},
   "outputs": [
    {
     "ename": "SyntaxError",
     "evalue": "cannot assign to expression here. Maybe you meant '==' instead of '='? (3450877726.py, line 1)",
     "output_type": "error",
     "traceback": [
      "\u001b[1;36m  Cell \u001b[1;32mIn[13], line 1\u001b[1;36m\u001b[0m\n\u001b[1;33m    a-13=23\u001b[0m\n\u001b[1;37m    ^\u001b[0m\n\u001b[1;31mSyntaxError\u001b[0m\u001b[1;31m:\u001b[0m cannot assign to expression here. Maybe you meant '==' instead of '='?\n"
     ]
    }
   ],
   "source": [
    "a-13=23\n",
    "print(a-13)"
   ]
  },
  {
   "cell_type": "code",
   "execution_count": 14,
   "id": "5dc21426-2fe2-4d47-a770-1a80d26f56f2",
   "metadata": {},
   "outputs": [
    {
     "name": "stdout",
     "output_type": "stream",
     "text": [
      "56\n"
     ]
    }
   ],
   "source": [
    "a_12=56\n",
    "print(a_12)"
   ]
  },
  {
   "cell_type": "code",
   "execution_count": 16,
   "id": "c6feb465-8ed0-433c-867b-18e033761282",
   "metadata": {},
   "outputs": [
    {
     "name": "stdout",
     "output_type": "stream",
     "text": [
      "hello\n",
      "how\n"
     ]
    }
   ],
   "source": [
    "print(\"hello\")\n",
    "#print(\"by\")\n",
    "print(\"how\")"
   ]
  },
  {
   "cell_type": "code",
   "execution_count": 17,
   "id": "2d75a62a-6d72-40dd-93d9-b68da6e1c418",
   "metadata": {},
   "outputs": [
    {
     "name": "stdout",
     "output_type": "stream",
     "text": [
      "12.3\n"
     ]
    }
   ],
   "source": [
    "a = 12\n",
    "a= \"sahil\"\n",
    "a = 12.3\n",
    "print(a)"
   ]
  },
  {
   "cell_type": "code",
   "execution_count": 18,
   "id": "5a05c3e3-4e3a-4273-a65f-fb72fb2cb50d",
   "metadata": {},
   "outputs": [
    {
     "name": "stdout",
     "output_type": "stream",
     "text": [
      "12\n",
      "3\n",
      "11\n"
     ]
    }
   ],
   "source": [
    "a = 12\n",
    "b = 3\n",
    "c = 11\n",
    "print(a)\n",
    "print(b)\n",
    "print(c)"
   ]
  },
  {
   "cell_type": "code",
   "execution_count": 21,
   "id": "0065ba39-823c-4be0-a121-18025291c470",
   "metadata": {},
   "outputs": [
    {
     "name": "stdout",
     "output_type": "stream",
     "text": [
      "12 11 65\n"
     ]
    }
   ],
   "source": [
    "a,b,c= 12,11,65\n",
    "print(a)\n",
    "print(b)\n",
    "print(c)"
   ]
  },
  {
   "cell_type": "code",
   "execution_count": 23,
   "id": "3622d452-ec19-40ad-9f30-3e18b923cf5e",
   "metadata": {},
   "outputs": [
    {
     "name": "stdout",
     "output_type": "stream",
     "text": [
      "12 11 65\n"
     ]
    }
   ],
   "source": [
    "a,b,c= 12,11,65\n",
    "print(a,b,c)\n",
    "\n"
   ]
  },
  {
   "cell_type": "code",
   "execution_count": 24,
   "id": "b244e9d7-1c23-4610-b25b-eeac73a3e656",
   "metadata": {},
   "outputs": [
    {
     "name": "stdout",
     "output_type": "stream",
     "text": [
      " 12 \n",
      " 11 \n",
      " 65\n"
     ]
    }
   ],
   "source": [
    "a,b,c= 12,11,65\n",
    "print(\"\", a, \"\\n\", b, \"\\n\", c)"
   ]
  },
  {
   "cell_type": "code",
   "execution_count": 29,
   "id": "7eaebc10-30bb-4a90-9c12-858785355fa8",
   "metadata": {},
   "outputs": [
    {
     "name": "stdout",
     "output_type": "stream",
     "text": [
      "sahilgamdi\n"
     ]
    }
   ],
   "source": [
    "print(\"sahil\"+\"gamdi\")"
   ]
  },
  {
   "cell_type": "code",
   "execution_count": 26,
   "id": "a18ebb1d-49b1-4b52-9a0f-acbfa149906f",
   "metadata": {},
   "outputs": [
    {
     "name": "stdout",
     "output_type": "stream",
     "text": [
      "sahil gamdi\n"
     ]
    }
   ],
   "source": [
    "print(\"sahil\", \"gamdi\")"
   ]
  },
  {
   "cell_type": "code",
   "execution_count": 28,
   "id": "9bd44249-cbfd-46d9-9ae2-a545644afd98",
   "metadata": {},
   "outputs": [
    {
     "name": "stdout",
     "output_type": "stream",
     "text": [
      "sahil   gamdi\n"
     ]
    }
   ],
   "source": [
    "print(\"sahil\" + \"   gamdi\")"
   ]
  },
  {
   "cell_type": "code",
   "execution_count": 30,
   "id": "bdee9c9b-d51a-4587-a196-8c7b8c298e74",
   "metadata": {},
   "outputs": [
    {
     "name": "stdout",
     "output_type": "stream",
     "text": [
      "12\n",
      "12\n",
      "12\n"
     ]
    }
   ],
   "source": [
    "a =12\n",
    "b=12\n",
    "c=12\n",
    "print(a)\n",
    "print(b)\n",
    "print(c)\n"
   ]
  },
  {
   "cell_type": "code",
   "execution_count": 31,
   "id": "a8553521-6825-46d7-ac7b-1333c2880438",
   "metadata": {},
   "outputs": [
    {
     "name": "stdout",
     "output_type": "stream",
     "text": [
      "12\n",
      "12\n",
      "12\n"
     ]
    }
   ],
   "source": [
    "a=b=c=12\n",
    "print(a)\n",
    "print(b)\n",
    "print(c)"
   ]
  },
  {
   "cell_type": "code",
   "execution_count": 33,
   "id": "4b88028d-8bb0-492a-85ca-17c5f443a9ce",
   "metadata": {},
   "outputs": [
    {
     "name": "stdout",
     "output_type": "stream",
     "text": [
      "my name is \n",
      " sahil \t arora\n"
     ]
    }
   ],
   "source": [
    "a = \"my name is \\n sahil \\t arora\"\n",
    "print(a)"
   ]
  },
  {
   "cell_type": "code",
   "execution_count": 35,
   "id": "b91f477a-babc-4cde-b472-7c9785b3067d",
   "metadata": {},
   "outputs": [
    {
     "name": "stdout",
     "output_type": "stream",
     "text": [
      "my age is 22 and my name is sahil\n"
     ]
    }
   ],
   "source": [
    "age = 22\n",
    "name = \"sahil\"\n",
    "message = \"my age is {} and my name is {}\".format(age,name)\n",
    "print(message)"
   ]
  },
  {
   "cell_type": "code",
   "execution_count": 36,
   "id": "96696ebf-c893-4e2c-94ac-c196f7b37fec",
   "metadata": {},
   "outputs": [
    {
     "name": "stdout",
     "output_type": "stream",
     "text": [
      "my age is 22 and my name is sahil\n"
     ]
    }
   ],
   "source": [
    "age = 22\n",
    "name = \"sahil\"\n",
    "message = \"my age is {} and my name is {}\"\n",
    "print(message.format(age,name))"
   ]
  },
  {
   "cell_type": "code",
   "execution_count": 2,
   "id": "48362884-d81e-4143-bf22-4788748dce57",
   "metadata": {},
   "outputs": [
    {
     "name": "stdin",
     "output_type": "stream",
     "text": [
      "enter your name sahil\n"
     ]
    },
    {
     "name": "stdout",
     "output_type": "stream",
     "text": [
      "sahil\n",
      "<class 'str'>\n"
     ]
    }
   ],
   "source": [
    "a=input(\"enter your name\")\n",
    "print(a)\n",
    "print(type(a))"
   ]
  },
  {
   "cell_type": "code",
   "execution_count": 5,
   "id": "1be2ad49-14b7-49c8-8985-ec1a152eb2bf",
   "metadata": {},
   "outputs": [
    {
     "name": "stdin",
     "output_type": "stream",
     "text": [
      "enter your 1st value 12\n",
      "enter your iind value 5\n"
     ]
    },
    {
     "name": "stdout",
     "output_type": "stream",
     "text": [
      "sum is 125\n"
     ]
    }
   ],
   "source": [
    "a= input(\"enter your 1st value\")\n",
    "b= input(\"enter your iind value\")\n",
    "c= a+b\n",
    "print(\"sum is\" , c)"
   ]
  },
  {
   "cell_type": "code",
   "execution_count": 4,
   "id": "e14fbbe6-d956-4db3-add6-b1b7d35b4827",
   "metadata": {},
   "outputs": [
    {
     "name": "stdin",
     "output_type": "stream",
     "text": [
      "enter your 1st value 12\n",
      "enter your iind value 5\n"
     ]
    },
    {
     "name": "stdout",
     "output_type": "stream",
     "text": [
      "sum is 17\n"
     ]
    }
   ],
   "source": [
    "a= input(\"enter your 1st value\")\n",
    "b= input(\"enter your iind value\")\n",
    "c= int(a)+int(b)\n",
    "print(\"sum is\" , c)"
   ]
  },
  {
   "cell_type": "code",
   "execution_count": 7,
   "id": "1756aa7e-e851-46e4-858d-3be6723072c5",
   "metadata": {},
   "outputs": [
    {
     "name": "stdin",
     "output_type": "stream",
     "text": [
      "enter your 1st value 12\n",
      "enter your iind value 5\n"
     ]
    },
    {
     "name": "stdout",
     "output_type": "stream",
     "text": [
      "sum is 17\n"
     ]
    }
   ],
   "source": [
    "a= int(input(\"enter your 1st value\"))\n",
    "b= int(input(\"enter your iind value\"))\n",
    "c= a+b\n",
    "print(\"sum is\" , c)"
   ]
  },
  {
   "cell_type": "code",
   "execution_count": null,
   "id": "816e741f-5b64-4e81-a567-8b823694c17f",
   "metadata": {},
   "outputs": [],
   "source": []
  }
 ],
 "metadata": {
  "kernelspec": {
   "display_name": "Python [conda env:base] *",
   "language": "python",
   "name": "conda-base-py"
  },
  "language_info": {
   "codemirror_mode": {
    "name": "ipython",
    "version": 3
   },
   "file_extension": ".py",
   "mimetype": "text/x-python",
   "name": "python",
   "nbconvert_exporter": "python",
   "pygments_lexer": "ipython3",
   "version": "3.13.5"
  }
 },
 "nbformat": 4,
 "nbformat_minor": 5
}
