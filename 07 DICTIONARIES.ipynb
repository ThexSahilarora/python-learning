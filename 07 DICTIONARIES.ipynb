{
 "cells": [
  {
   "cell_type": "markdown",
   "id": "ca33feec-be50-4e4f-9f58-7f40b111cf4e",
   "metadata": {},
   "source": [
    "# DICTIONARIES "
   ]
  },
  {
   "cell_type": "code",
   "execution_count": 10,
   "id": "4f7dda64-1c2f-47e8-99c0-720b155bb4f0",
   "metadata": {},
   "outputs": [],
   "source": [
    "#  dictionaries requires curly brackets"
   ]
  },
  {
   "cell_type": "code",
   "execution_count": 3,
   "id": "f6b1d728-2c4f-4d44-86a8-797fd279c5f7",
   "metadata": {},
   "outputs": [],
   "source": [
    "d = {\"name\": \"shubham\", \"age\": 24, \"education\" : \"B.tech\"}"
   ]
  },
  {
   "cell_type": "code",
   "execution_count": 4,
   "id": "82a6a3cc-1ff1-439e-bed6-be0888699339",
   "metadata": {},
   "outputs": [
    {
     "data": {
      "text/plain": [
       "{'name': 'shubham', 'age': 24, 'education': 'B.tech'}"
      ]
     },
     "execution_count": 4,
     "metadata": {},
     "output_type": "execute_result"
    }
   ],
   "source": [
    "d"
   ]
  },
  {
   "cell_type": "code",
   "execution_count": 5,
   "id": "c05db455-2bdb-48b5-9137-873b93bf04ac",
   "metadata": {},
   "outputs": [
    {
     "data": {
      "text/plain": [
       "dict_keys(['name', 'age', 'education'])"
      ]
     },
     "execution_count": 5,
     "metadata": {},
     "output_type": "execute_result"
    }
   ],
   "source": [
    "d.keys()"
   ]
  },
  {
   "cell_type": "code",
   "execution_count": 6,
   "id": "273c20ce-ab9a-4877-ac93-411a28ca7f7c",
   "metadata": {},
   "outputs": [
    {
     "data": {
      "text/plain": [
       "3"
      ]
     },
     "execution_count": 6,
     "metadata": {},
     "output_type": "execute_result"
    }
   ],
   "source": [
    "len(d)"
   ]
  },
  {
   "cell_type": "code",
   "execution_count": 7,
   "id": "b5ebe6c8-e868-4022-9a44-955b985d4d09",
   "metadata": {},
   "outputs": [
    {
     "data": {
      "text/plain": [
       "dict_values(['shubham', 24, 'B.tech'])"
      ]
     },
     "execution_count": 7,
     "metadata": {},
     "output_type": "execute_result"
    }
   ],
   "source": [
    "d.values()"
   ]
  },
  {
   "cell_type": "code",
   "execution_count": 8,
   "id": "b6ee69cd-3242-4ee1-abb7-73f920d9257e",
   "metadata": {},
   "outputs": [
    {
     "data": {
      "text/plain": [
       "'shubham'"
      ]
     },
     "execution_count": 8,
     "metadata": {},
     "output_type": "execute_result"
    }
   ],
   "source": [
    "d[ 'name']"
   ]
  },
  {
   "cell_type": "code",
   "execution_count": 9,
   "id": "96d4f312-7cf8-4ce1-8899-71d818c16af0",
   "metadata": {},
   "outputs": [
    {
     "data": {
      "text/plain": [
       "'B.tech'"
      ]
     },
     "execution_count": 9,
     "metadata": {},
     "output_type": "execute_result"
    }
   ],
   "source": [
    "d['education']"
   ]
  },
  {
   "cell_type": "code",
   "execution_count": 11,
   "id": "669c2dfd-b042-40e5-93ba-7dfc3720261c",
   "metadata": {},
   "outputs": [],
   "source": [
    "m = {\"name\": \"sahil\", \"age\": \"22\", \"education\" : \"B.Com\"}"
   ]
  },
  {
   "cell_type": "code",
   "execution_count": 12,
   "id": "e0edab7b-e182-4252-af71-b2d7a1ed2bec",
   "metadata": {},
   "outputs": [
    {
     "data": {
      "text/plain": [
       "{'name': 'sahil', 'age': '22', 'education': 'B.Com'}"
      ]
     },
     "execution_count": 12,
     "metadata": {},
     "output_type": "execute_result"
    }
   ],
   "source": [
    "m"
   ]
  },
  {
   "cell_type": "code",
   "execution_count": 13,
   "id": "2b182841-bb29-4eab-86c3-67993415329b",
   "metadata": {},
   "outputs": [
    {
     "data": {
      "text/plain": [
       "dict_keys(['name', 'age', 'education'])"
      ]
     },
     "execution_count": 13,
     "metadata": {},
     "output_type": "execute_result"
    }
   ],
   "source": [
    "m.keys()"
   ]
  },
  {
   "cell_type": "code",
   "execution_count": 14,
   "id": "88c883c5-2b11-47ce-a372-66e435b80b37",
   "metadata": {},
   "outputs": [
    {
     "data": {
      "text/plain": [
       "dict_values(['sahil', '22', 'B.Com'])"
      ]
     },
     "execution_count": 14,
     "metadata": {},
     "output_type": "execute_result"
    }
   ],
   "source": [
    "m.values()"
   ]
  },
  {
   "cell_type": "code",
   "execution_count": 15,
   "id": "1a850ded-5de6-49d5-86da-e5e367a427a5",
   "metadata": {},
   "outputs": [
    {
     "data": {
      "text/plain": [
       "3"
      ]
     },
     "execution_count": 15,
     "metadata": {},
     "output_type": "execute_result"
    }
   ],
   "source": [
    "len(m)"
   ]
  },
  {
   "cell_type": "code",
   "execution_count": 16,
   "id": "63793664-d3ba-4202-9fcb-6b021d4747c3",
   "metadata": {},
   "outputs": [],
   "source": [
    "#  keys can only have sting and int"
   ]
  },
  {
   "cell_type": "code",
   "execution_count": 22,
   "id": "2fe530f7-e91a-4c69-a905-ce0d84281e33",
   "metadata": {},
   "outputs": [
    {
     "ename": "SyntaxError",
     "evalue": "invalid syntax. Perhaps you forgot a comma? (3015854769.py, line 1)",
     "output_type": "error",
     "traceback": [
      "\u001b[1;36m  Cell \u001b[1;32mIn[22], line 1\u001b[1;36m\u001b[0m\n\u001b[1;33m    di = {1: {\"name\" : \"mohan\", \"age\": \"23\", \"department\": \"house department\"} 2: {\"name\": \"sandeep\", \"age\": \"55\", \"education\": \"B.BA\"} 3:{\"name\": \"rohani\", \"age\": \"65\", \"education\": \"B.SC\", \"dogs\" : [\"romiiee\", \"clero\"]} }\u001b[0m\n\u001b[1;37m             ^\u001b[0m\n\u001b[1;31mSyntaxError\u001b[0m\u001b[1;31m:\u001b[0m invalid syntax. Perhaps you forgot a comma?\n"
     ]
    }
   ],
   "source": [
    "di = {1: {\"name\" : \"mohan\", \"age\": \"23\", \"department\": \"house department\"} 2: {\"name\": \"sandeep\", \"age\": \"55\", \"education\": \"B.BA\"} 3:{\"name\": \"rohani\", \"age\": \"65\", \"education\": \"B.SC\", \"dogs\" : [\"romiiee\", \"clero\"]} }"
   ]
  },
  {
   "cell_type": "code",
   "execution_count": 23,
   "id": "c6a803dc-fcb8-4f5e-b39d-735018daad50",
   "metadata": {},
   "outputs": [
    {
     "data": {
      "text/plain": [
       "{'name': 'shubham', 'age': 24, 'education': 'B.tech'}"
      ]
     },
     "execution_count": 23,
     "metadata": {},
     "output_type": "execute_result"
    }
   ],
   "source": [
    "d"
   ]
  },
  {
   "cell_type": "code",
   "execution_count": 24,
   "id": "b9684c62-3c2c-48ba-b25f-4b4bdd4e85c9",
   "metadata": {},
   "outputs": [],
   "source": [
    "d[\"wife\"] = \"sonia\""
   ]
  },
  {
   "cell_type": "code",
   "execution_count": 25,
   "id": "6211e76b-ea42-4685-bc3e-b5912172be1a",
   "metadata": {},
   "outputs": [
    {
     "data": {
      "text/plain": [
       "{'name': 'shubham', 'age': 24, 'education': 'B.tech', 'wife': 'sonia'}"
      ]
     },
     "execution_count": 25,
     "metadata": {},
     "output_type": "execute_result"
    }
   ],
   "source": [
    "d"
   ]
  },
  {
   "cell_type": "code",
   "execution_count": 26,
   "id": "bf4fecaa-7d35-40b1-bad1-69ce3125ef5c",
   "metadata": {},
   "outputs": [],
   "source": [
    "d[\"wife\"]= \"kamla\""
   ]
  },
  {
   "cell_type": "code",
   "execution_count": 27,
   "id": "2f5280c0-45f4-41bf-84fe-b2e1c49cdda6",
   "metadata": {},
   "outputs": [
    {
     "data": {
      "text/plain": [
       "{'name': 'shubham', 'age': 24, 'education': 'B.tech', 'wife': 'kamla'}"
      ]
     },
     "execution_count": 27,
     "metadata": {},
     "output_type": "execute_result"
    }
   ],
   "source": [
    "d"
   ]
  },
  {
   "cell_type": "code",
   "execution_count": 35,
   "id": "9fc40e2f-4548-4916-a93e-46649128abe6",
   "metadata": {},
   "outputs": [],
   "source": [
    "d[3]='wife'"
   ]
  },
  {
   "cell_type": "markdown",
   "id": "f3ddfd7d-33c2-4209-8ea4-c2dd3f9a43f1",
   "metadata": {},
   "source": [
    "d"
   ]
  },
  {
   "cell_type": "code",
   "execution_count": 39,
   "id": "944ca698-bf14-40ee-9be0-e716f82d10b9",
   "metadata": {},
   "outputs": [
    {
     "data": {
      "text/plain": [
       "'l'"
      ]
     },
     "execution_count": 39,
     "metadata": {},
     "output_type": "execute_result"
    }
   ],
   "source": [
    "d['wife'][3]"
   ]
  },
  {
   "cell_type": "code",
   "execution_count": 41,
   "id": "d38b2dfa-3ed8-4637-ab5e-c69edb7de0da",
   "metadata": {},
   "outputs": [],
   "source": [
    "\n",
    "d[\"details\"]= 1"
   ]
  },
  {
   "cell_type": "code",
   "execution_count": 42,
   "id": "39491b91-65c8-43ed-925b-fad6013468aa",
   "metadata": {},
   "outputs": [
    {
     "data": {
      "text/plain": [
       "{'name': 'shubham',\n",
       " 'age': 24,\n",
       " 'education': 'B.tech',\n",
       " 'wife': 'kamla',\n",
       " 3: 'wife',\n",
       " 'details': 1}"
      ]
     },
     "execution_count": 42,
     "metadata": {},
     "output_type": "execute_result"
    }
   ],
   "source": [
    "d"
   ]
  },
  {
   "cell_type": "markdown",
   "id": "fca6b93a-190f-472c-b675-18c29752290e",
   "metadata": {},
   "source": [
    "# sets"
   ]
  },
  {
   "cell_type": "code",
   "execution_count": 48,
   "id": "e8a91dd7-2414-4dbb-840a-b5acb1131f0e",
   "metadata": {},
   "outputs": [
    {
     "data": {
      "text/plain": [
       "{1, 2, 5, 6}"
      ]
     },
     "execution_count": 48,
     "metadata": {},
     "output_type": "execute_result"
    }
   ],
   "source": [
    "{1, 1, 1, 2, 2, 5, 6, 6, 5}"
   ]
  },
  {
   "cell_type": "code",
   "execution_count": 50,
   "id": "bf2f68f7-c756-4f24-adba-17564c898b0b",
   "metadata": {},
   "outputs": [
    {
     "data": {
      "text/plain": [
       "dict"
      ]
     },
     "execution_count": 50,
     "metadata": {},
     "output_type": "execute_result"
    }
   ],
   "source": [
    "type(d)"
   ]
  },
  {
   "cell_type": "code",
   "execution_count": null,
   "id": "c9ddb208-205c-4463-b5e2-e577f560237e",
   "metadata": {},
   "outputs": [],
   "source": []
  }
 ],
 "metadata": {
  "kernelspec": {
   "display_name": "Python [conda env:base] *",
   "language": "python",
   "name": "conda-base-py"
  },
  "language_info": {
   "codemirror_mode": {
    "name": "ipython",
    "version": 3
   },
   "file_extension": ".py",
   "mimetype": "text/x-python",
   "name": "python",
   "nbconvert_exporter": "python",
   "pygments_lexer": "ipython3",
   "version": "3.13.5"
  }
 },
 "nbformat": 4,
 "nbformat_minor": 5
}
