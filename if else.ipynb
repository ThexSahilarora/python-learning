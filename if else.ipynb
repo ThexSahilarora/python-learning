{
 "cells": [
  {
   "cell_type": "code",
   "execution_count": null,
   "id": "109eb54d-aedb-4c79-ba5c-fe581f3c2691",
   "metadata": {},
   "outputs": [],
   "source": [
    "## TYPE CASTING"
   ]
  },
  {
   "cell_type": "code",
   "execution_count": 2,
   "id": "d0713a34-4415-4bb1-beea-a20b4561ae07",
   "metadata": {},
   "outputs": [
    {
     "data": {
      "text/plain": [
       "'50.6'"
      ]
     },
     "execution_count": 2,
     "metadata": {},
     "output_type": "execute_result"
    }
   ],
   "source": [
    "str(50.6)"
   ]
  },
  {
   "cell_type": "code",
   "execution_count": 3,
   "id": "91906415-6c14-4a1c-9e29-9ab470a6c9d8",
   "metadata": {},
   "outputs": [
    {
     "data": {
      "text/plain": [
       "50"
      ]
     },
     "execution_count": 3,
     "metadata": {},
     "output_type": "execute_result"
    }
   ],
   "source": [
    "int(50.6)"
   ]
  },
  {
   "cell_type": "code",
   "execution_count": 4,
   "id": "083d2d02-d7da-4d82-9fa2-c9a8a1c22d1e",
   "metadata": {},
   "outputs": [
    {
     "data": {
      "text/plain": [
       "50"
      ]
     },
     "execution_count": 4,
     "metadata": {},
     "output_type": "execute_result"
    }
   ],
   "source": [
    "int(float(50.6))"
   ]
  },
  {
   "cell_type": "markdown",
   "id": "f84de66c-560d-4ca9-8124-2c7e2dd3ca97",
   "metadata": {},
   "source": [
    "# PRINT"
   ]
  },
  {
   "cell_type": "code",
   "execution_count": 5,
   "id": "8df90052-e8cd-4249-9bcc-5e61737387c9",
   "metadata": {},
   "outputs": [
    {
     "name": "stdout",
     "output_type": "stream",
     "text": [
      "5\n"
     ]
    }
   ],
   "source": [
    "print(5)"
   ]
  },
  {
   "cell_type": "code",
   "execution_count": 6,
   "id": "3eb69704-c91f-4692-8915-48ea9b6154c2",
   "metadata": {},
   "outputs": [
    {
     "name": "stdout",
     "output_type": "stream",
     "text": [
      "5\n"
     ]
    }
   ],
   "source": [
    "a = print(5)"
   ]
  },
  {
   "cell_type": "code",
   "execution_count": 7,
   "id": "5dd9060f-6ece-4291-8adf-1284e83aa82f",
   "metadata": {},
   "outputs": [],
   "source": [
    "a"
   ]
  },
  {
   "cell_type": "code",
   "execution_count": 9,
   "id": "6c39320f-f915-4a01-bd64-e94bff355022",
   "metadata": {},
   "outputs": [],
   "source": [
    "a = None"
   ]
  },
  {
   "cell_type": "code",
   "execution_count": 10,
   "id": "988d05c4-d72e-41c9-83aa-3bc70f4493cd",
   "metadata": {},
   "outputs": [],
   "source": [
    "a"
   ]
  },
  {
   "cell_type": "code",
   "execution_count": 12,
   "id": "3a92f8a3-e622-474e-bd1d-570ad1c50ca3",
   "metadata": {},
   "outputs": [
    {
     "name": "stdout",
     "output_type": "stream",
     "text": [
      "5 3 shubham singh\n"
     ]
    }
   ],
   "source": [
    "print(5, 3, \"shubham\", \"singh\")"
   ]
  },
  {
   "cell_type": "code",
   "execution_count": 14,
   "id": "7d6c785f-149d-4b13-9f99-2bf3e0e5e392",
   "metadata": {},
   "outputs": [
    {
     "name": "stdout",
     "output_type": "stream",
     "text": [
      "5 * 3 * The * sahil\n"
     ]
    }
   ],
   "source": [
    "print(5, 3, \"The\", \"sahil\", sep = \" * \")"
   ]
  },
  {
   "cell_type": "code",
   "execution_count": 15,
   "id": "b49ebdaf-c910-40df-a66b-a2ada14e89bc",
   "metadata": {},
   "outputs": [
    {
     "name": "stdout",
     "output_type": "stream",
     "text": [
      "50 60 70 80*30 - 40\n"
     ]
    }
   ],
   "source": [
    "print(50, 60, 70 ,80, end = \"*\")\n",
    "print(30, end = \" - \")\n",
    "print(40)\n"
   ]
  },
  {
   "cell_type": "code",
   "execution_count": 16,
   "id": "022dbcbe-1470-41e8-9b73-5756df067797",
   "metadata": {},
   "outputs": [],
   "source": [
    "name = \"shubham\""
   ]
  },
  {
   "cell_type": "code",
   "execution_count": 17,
   "id": "046ef70a-cf05-4a30-8348-6ba4c6758703",
   "metadata": {},
   "outputs": [],
   "source": [
    "age = 22"
   ]
  },
  {
   "cell_type": "code",
   "execution_count": 20,
   "id": "d09725e6-6de1-406e-b5e5-bd961ca3d018",
   "metadata": {},
   "outputs": [
    {
     "name": "stdout",
     "output_type": "stream",
     "text": [
      "shubham  22\n"
     ]
    }
   ],
   "source": [
    "print(f'{name}  {age}')"
   ]
  },
  {
   "cell_type": "code",
   "execution_count": 21,
   "id": "745e3ba4-0117-4073-a751-81ec70160770",
   "metadata": {},
   "outputs": [
    {
     "data": {
      "text/plain": [
       "'hello everyone'"
      ]
     },
     "execution_count": 21,
     "metadata": {},
     "output_type": "execute_result"
    }
   ],
   "source": [
    "\"hello everyone\""
   ]
  },
  {
   "cell_type": "code",
   "execution_count": 23,
   "id": "129c6c7d-8a6b-41f1-a695-c3c9babad258",
   "metadata": {},
   "outputs": [
    {
     "data": {
      "text/plain": [
       "'hello \\neveryone'"
      ]
     },
     "execution_count": 23,
     "metadata": {},
     "output_type": "execute_result"
    }
   ],
   "source": [
    "\"\"\"hello \n",
    "everyone\"\"\""
   ]
  },
  {
   "cell_type": "code",
   "execution_count": 26,
   "id": "43d561a7-92ab-448e-83a1-36c3cb38a138",
   "metadata": {},
   "outputs": [],
   "source": [
    "a = \"hello sah\\til\""
   ]
  },
  {
   "cell_type": "code",
   "execution_count": 27,
   "id": "3c50c64f-7829-47c7-ab35-fcac1cd26d97",
   "metadata": {},
   "outputs": [
    {
     "name": "stdout",
     "output_type": "stream",
     "text": [
      "hello sah\til\n"
     ]
    }
   ],
   "source": [
    "print(a)"
   ]
  },
  {
   "cell_type": "raw",
   "id": "09ab815f-11ee-4473-b19c-8d5b0bf544f3",
   "metadata": {},
   "source": []
  },
  {
   "cell_type": "code",
   "execution_count": 28,
   "id": "81afdd4a-9e20-40f2-a2ab-7a89e48bbdd6",
   "metadata": {},
   "outputs": [
    {
     "name": "stdout",
     "output_type": "stream",
     "text": [
      "a\\ t b\n"
     ]
    }
   ],
   "source": [
    "print('a\\\\ t b')"
   ]
  },
  {
   "cell_type": "code",
   "execution_count": 30,
   "id": "353c8887-c0ea-4828-bc6f-3881b9b81d8e",
   "metadata": {},
   "outputs": [
    {
     "name": "stdout",
     "output_type": "stream",
     "text": [
      "😃\n"
     ]
    }
   ],
   "source": [
    "print(\"\\U0001F603\")"
   ]
  },
  {
   "cell_type": "code",
   "execution_count": 31,
   "id": "91a36dfc-9261-4cbf-b80a-a3d0794afd96",
   "metadata": {},
   "outputs": [
    {
     "name": "stdout",
     "output_type": "stream",
     "text": [
      "😀\n"
     ]
    }
   ],
   "source": [
    "print(\"\\U0001F600\")"
   ]
  },
  {
   "cell_type": "code",
   "execution_count": 32,
   "id": "85be1fdd-eb63-4ec7-8826-b143df510b48",
   "metadata": {},
   "outputs": [
    {
     "ename": "IndentationError",
     "evalue": "unexpected indent (3934395661.py, line 2)",
     "output_type": "error",
     "traceback": [
      "\u001b[1;36m  Cell \u001b[1;32mIn[32], line 2\u001b[1;36m\u001b[0m\n\u001b[1;33m    1 kb =  bytes\u001b[0m\n\u001b[1;37m    ^\u001b[0m\n\u001b[1;31mIndentationError\u001b[0m\u001b[1;31m:\u001b[0m unexpected indent\n"
     ]
    }
   ],
   "source": [
    "#  kb - killo byte\n",
    " 1 kb =  bytes "
   ]
  },
  {
   "cell_type": "code",
   "execution_count": 36,
   "id": "b369e8b7-a836-4d2c-87a1-abb2579f6354",
   "metadata": {},
   "outputs": [
    {
     "data": {
      "text/plain": [
       "b'\\x00\\x00\\x00\\x00\\x00\\x00\\x00\\x00\\x00\\x00'"
      ]
     },
     "execution_count": 36,
     "metadata": {},
     "output_type": "execute_result"
    }
   ],
   "source": [
    "bytes(10)"
   ]
  },
  {
   "cell_type": "code",
   "execution_count": 37,
   "id": "15e2bd40-d278-449a-8819-73eca48e0aa5",
   "metadata": {},
   "outputs": [
    {
     "ename": "SyntaxError",
     "evalue": "invalid decimal literal (1373005651.py, line 1)",
     "output_type": "error",
     "traceback": [
      "\u001b[1;36m  Cell \u001b[1;32mIn[37], line 1\u001b[1;36m\u001b[0m\n\u001b[1;33m    1mb = 1024 KB\u001b[0m\n\u001b[1;37m    ^\u001b[0m\n\u001b[1;31mSyntaxError\u001b[0m\u001b[1;31m:\u001b[0m invalid decimal literal\n"
     ]
    }
   ],
   "source": [
    "1MB = 1024 KB"
   ]
  },
  {
   "cell_type": "code",
   "execution_count": null,
   "id": "8bdcc697-7227-4785-992c-117a5755cb05",
   "metadata": {},
   "outputs": [],
   "source": [
    "0 or 1 - bit\n",
    "8 bit - 1 byte\n",
    "1024  byte - 1 kb\n",
    "1024 kb - 1 mb\n",
    "1024 mb - 1 gb\n",
    "1024 gb- 1 tb\n",
    "1024 tb - 1 pb  \n"
   ]
  },
  {
   "cell_type": "code",
   "execution_count": 39,
   "id": "5c181129-d0f2-40b2-9781-251404b38d54",
   "metadata": {},
   "outputs": [
    {
     "name": "stdout",
     "output_type": "stream",
     "text": [
      "🤣\n"
     ]
    }
   ],
   "source": [
    "print(\"\\U0001F923\")"
   ]
  },
  {
   "cell_type": "code",
   "execution_count": 40,
   "id": "0e1c61ab-6cd7-429d-a38b-f58d9aa9c540",
   "metadata": {},
   "outputs": [
    {
     "data": {
      "text/plain": [
       "129315"
      ]
     },
     "execution_count": 40,
     "metadata": {},
     "output_type": "execute_result"
    }
   ],
   "source": [
    "ord('🤣')"
   ]
  },
  {
   "cell_type": "code",
   "execution_count": 41,
   "id": "177c9819-7a4c-4a01-b085-d93079d1cf9c",
   "metadata": {},
   "outputs": [
    {
     "data": {
      "text/plain": [
       "1"
      ]
     },
     "execution_count": 41,
     "metadata": {},
     "output_type": "execute_result"
    }
   ],
   "source": [
    "0 or 1\n"
   ]
  },
  {
   "cell_type": "code",
   "execution_count": 42,
   "id": "9d4e1717-bf36-4748-95f5-4ee608ce1b31",
   "metadata": {},
   "outputs": [
    {
     "data": {
      "text/plain": [
       "1"
      ]
     },
     "execution_count": 42,
     "metadata": {},
     "output_type": "execute_result"
    }
   ],
   "source": [
    "int(True)"
   ]
  },
  {
   "cell_type": "code",
   "execution_count": 43,
   "id": "bfb593b4-c107-48a0-b063-b85a1b6c7c40",
   "metadata": {},
   "outputs": [
    {
     "data": {
      "text/plain": [
       "0"
      ]
     },
     "execution_count": 43,
     "metadata": {},
     "output_type": "execute_result"
    }
   ],
   "source": [
    "int(False)"
   ]
  },
  {
   "cell_type": "markdown",
   "id": "7ee12476-c686-4d4b-8ae7-96e146e645bd",
   "metadata": {},
   "source": [
    "# BOOLEANS"
   ]
  },
  {
   "cell_type": "code",
   "execution_count": 45,
   "id": "63b4f5a3-5469-4e4d-b8a5-9fdc92df932d",
   "metadata": {},
   "outputs": [
    {
     "data": {
      "text/plain": [
       "True"
      ]
     },
     "execution_count": 45,
     "metadata": {},
     "output_type": "execute_result"
    }
   ],
   "source": [
    "bool(-5)"
   ]
  },
  {
   "cell_type": "code",
   "execution_count": 46,
   "id": "54da9607-451e-4ed0-a821-a460e5c4f8fc",
   "metadata": {},
   "outputs": [
    {
     "data": {
      "text/plain": [
       "False"
      ]
     },
     "execution_count": 46,
     "metadata": {},
     "output_type": "execute_result"
    }
   ],
   "source": [
    "bool(0)"
   ]
  },
  {
   "cell_type": "code",
   "execution_count": 47,
   "id": "0ed75860-2bd1-4e5e-b4b0-0bf9edc7e975",
   "metadata": {},
   "outputs": [
    {
     "data": {
      "text/plain": [
       "True"
      ]
     },
     "execution_count": 47,
     "metadata": {},
     "output_type": "execute_result"
    }
   ],
   "source": [
    "bool(-99)"
   ]
  },
  {
   "cell_type": "code",
   "execution_count": 48,
   "id": "7210e214-90f2-4459-ab59-fa8db7c09cc3",
   "metadata": {},
   "outputs": [
    {
     "data": {
      "text/plain": [
       "bool"
      ]
     },
     "execution_count": 48,
     "metadata": {},
     "output_type": "execute_result"
    }
   ],
   "source": [
    "type(True)"
   ]
  },
  {
   "cell_type": "code",
   "execution_count": 50,
   "id": "19816477-1975-4c65-8303-ff30ee653d34",
   "metadata": {},
   "outputs": [
    {
     "data": {
      "text/plain": [
       "bool"
      ]
     },
     "execution_count": 50,
     "metadata": {},
     "output_type": "execute_result"
    }
   ],
   "source": [
    "type(False)"
   ]
  },
  {
   "cell_type": "code",
   "execution_count": 51,
   "id": "ae7a657d-16ed-4575-a0e6-51c03890dd04",
   "metadata": {},
   "outputs": [
    {
     "data": {
      "text/plain": [
       "False"
      ]
     },
     "execution_count": 51,
     "metadata": {},
     "output_type": "execute_result"
    }
   ],
   "source": [
    "bool(\"\")"
   ]
  },
  {
   "cell_type": "code",
   "execution_count": 52,
   "id": "dfc1a33a-b6c6-419f-85ae-eb9d8d9432fd",
   "metadata": {},
   "outputs": [
    {
     "data": {
      "text/plain": [
       "True"
      ]
     },
     "execution_count": 52,
     "metadata": {},
     "output_type": "execute_result"
    }
   ],
   "source": [
    "bool(\" \")"
   ]
  },
  {
   "cell_type": "code",
   "execution_count": 53,
   "id": "a1538080-da1e-4d87-840c-8d04a31b1154",
   "metadata": {},
   "outputs": [
    {
     "data": {
      "text/plain": [
       "False"
      ]
     },
     "execution_count": 53,
     "metadata": {},
     "output_type": "execute_result"
    }
   ],
   "source": [
    "bool ([])"
   ]
  },
  {
   "cell_type": "code",
   "execution_count": 55,
   "id": "d2bb7045-a51e-444b-8e8a-74f330723984",
   "metadata": {},
   "outputs": [
    {
     "data": {
      "text/plain": [
       "True"
      ]
     },
     "execution_count": 55,
     "metadata": {},
     "output_type": "execute_result"
    }
   ],
   "source": [
    "bool([-10])"
   ]
  },
  {
   "cell_type": "markdown",
   "id": "9cdb4659-5026-48c0-87bf-c91e4f2cfbe1",
   "metadata": {},
   "source": [
    "# IF ELIF ELSE"
   ]
  },
  {
   "cell_type": "code",
   "execution_count": 60,
   "id": "00f39cca-3a29-47bb-8628-e5bd4a55f9b0",
   "metadata": {},
   "outputs": [],
   "source": [
    "age = 17\n"
   ]
  },
  {
   "cell_type": "code",
   "execution_count": 62,
   "id": "c3e40b79-95ec-4592-9187-d89bd7b9d3a0",
   "metadata": {},
   "outputs": [],
   "source": [
    "if age > 18:\n",
    "    print(\"welcome\")"
   ]
  },
  {
   "cell_type": "code",
   "execution_count": 63,
   "id": "68f7d099-a9b0-48a0-a168-5276bc87dcd8",
   "metadata": {},
   "outputs": [
    {
     "data": {
      "text/plain": [
       "False"
      ]
     },
     "execution_count": 63,
     "metadata": {},
     "output_type": "execute_result"
    }
   ],
   "source": [
    "5 > 10"
   ]
  },
  {
   "cell_type": "code",
   "execution_count": 64,
   "id": "a5c5f336-2035-4101-b9bb-c8b24be7c5cf",
   "metadata": {},
   "outputs": [
    {
     "data": {
      "text/plain": [
       "True"
      ]
     },
     "execution_count": 64,
     "metadata": {},
     "output_type": "execute_result"
    }
   ],
   "source": [
    "10 > 5"
   ]
  },
  {
   "cell_type": "code",
   "execution_count": 65,
   "id": "1697de2f-45e4-49a0-9e33-af14eb9b379a",
   "metadata": {},
   "outputs": [
    {
     "data": {
      "text/plain": [
       "False"
      ]
     },
     "execution_count": 65,
     "metadata": {},
     "output_type": "execute_result"
    }
   ],
   "source": [
    "5 > 5"
   ]
  },
  {
   "cell_type": "code",
   "execution_count": 68,
   "id": "9a0ee193-9369-48e2-b970-cf3e60ed9ed4",
   "metadata": {},
   "outputs": [],
   "source": [
    "age = 18"
   ]
  },
  {
   "cell_type": "code",
   "execution_count": 69,
   "id": "8d77d5b8-ab2a-4a64-a7c5-2c7bc77e084a",
   "metadata": {},
   "outputs": [
    {
     "data": {
      "text/plain": [
       "True"
      ]
     },
     "execution_count": 69,
     "metadata": {},
     "output_type": "execute_result"
    }
   ],
   "source": [
    "age == 18"
   ]
  },
  {
   "cell_type": "code",
   "execution_count": 70,
   "id": "c19a044f-fd21-44fe-9c07-d5ce49978011",
   "metadata": {},
   "outputs": [
    {
     "data": {
      "text/plain": [
       "True"
      ]
     },
     "execution_count": 70,
     "metadata": {},
     "output_type": "execute_result"
    }
   ],
   "source": [
    "5 == 5"
   ]
  },
  {
   "cell_type": "code",
   "execution_count": 71,
   "id": "2c23c370-2a67-4cab-a3ef-70e725dae4a3",
   "metadata": {},
   "outputs": [],
   "source": [
    "password = 123456789"
   ]
  },
  {
   "cell_type": "code",
   "execution_count": 75,
   "id": "315bbb28-e5ee-45f1-88e5-8c1110133f15",
   "metadata": {},
   "outputs": [
    {
     "name": "stdout",
     "output_type": "stream",
     "text": [
      "connect\n"
     ]
    }
   ],
   "source": [
    "if password == 123456789:\n",
    "  print('connect')"
   ]
  },
  {
   "cell_type": "code",
   "execution_count": 83,
   "id": "a10a2794-54f7-4890-a35f-efa417739e63",
   "metadata": {},
   "outputs": [
    {
     "data": {
      "text/plain": [
       "False"
      ]
     },
     "execution_count": 83,
     "metadata": {},
     "output_type": "execute_result"
    }
   ],
   "source": [
    "10 < 10"
   ]
  },
  {
   "cell_type": "code",
   "execution_count": 86,
   "id": "fcd65c6f-d364-420d-b1d6-f49a8336efe0",
   "metadata": {},
   "outputs": [],
   "source": [
    "age = 21"
   ]
  },
  {
   "cell_type": "code",
   "execution_count": 87,
   "id": "57470d93-bdd3-4d08-ba5a-f902c123b0ae",
   "metadata": {},
   "outputs": [
    {
     "data": {
      "text/plain": [
       "True"
      ]
     },
     "execution_count": 87,
     "metadata": {},
     "output_type": "execute_result"
    }
   ],
   "source": [
    "age >= 20"
   ]
  },
  {
   "cell_type": "code",
   "execution_count": 90,
   "id": "bcecb468-43b6-4234-93f9-1067d5903584",
   "metadata": {},
   "outputs": [
    {
     "data": {
      "text/plain": [
       "True"
      ]
     },
     "execution_count": 90,
     "metadata": {},
     "output_type": "execute_result"
    }
   ],
   "source": [
    "age !=22"
   ]
  },
  {
   "cell_type": "code",
   "execution_count": 98,
   "id": "f2e4958d-2d6d-449f-af4b-038d46e33f56",
   "metadata": {},
   "outputs": [],
   "source": [
    "age = 198"
   ]
  },
  {
   "cell_type": "code",
   "execution_count": 100,
   "id": "1683363e-7b23-479e-8f9c-9added0f181e",
   "metadata": {},
   "outputs": [
    {
     "name": "stdout",
     "output_type": "stream",
     "text": [
      "welcome\n"
     ]
    }
   ],
   "source": [
    "if age > 18:\n",
    "   print(\"welcome\")"
   ]
  },
  {
   "cell_type": "code",
   "execution_count": 101,
   "id": "ce9259c2-10cc-4e82-a0cb-c43dbfe9b8bd",
   "metadata": {},
   "outputs": [
    {
     "name": "stdout",
     "output_type": "stream",
     "text": [
      "welcome\n"
     ]
    }
   ],
   "source": [
    "if True:\n",
    "    print('welcome')"
   ]
  },
  {
   "cell_type": "code",
   "execution_count": 113,
   "id": "6b2b1cce-d1c5-457d-bed0-03e9c9c33942",
   "metadata": {},
   "outputs": [],
   "source": [
    "marks = 99"
   ]
  },
  {
   "cell_type": "code",
   "execution_count": 114,
   "id": "d3a58c3e-2ae1-49af-a392-b78fb64b59da",
   "metadata": {},
   "outputs": [
    {
     "name": "stdout",
     "output_type": "stream",
     "text": [
      "A\n"
     ]
    }
   ],
   "source": [
    "if marks >= 90:\n",
    "    print('A')\n",
    "elif marks >= 75:\n",
    "    print ('B')\n",
    "elif marks >= 60:\n",
    "    print ('C')\n",
    "elif marks >= 40:\n",
    "    print('D')\n",
    "else:\n",
    "    print('FAIL')"
   ]
  },
  {
   "cell_type": "code",
   "execution_count": 1,
   "id": "c611f476-7e54-4a46-87cb-2d4c6f9255b5",
   "metadata": {},
   "outputs": [],
   "source": [
    "# 2, 3, 5"
   ]
  },
  {
   "cell_type": "code",
   "execution_count": 2,
   "id": "d149d880-97c4-404d-a1c2-2ea33b0eb8f2",
   "metadata": {},
   "outputs": [],
   "source": [
    "#  positive number or negative"
   ]
  },
  {
   "cell_type": "code",
   "execution_count": 7,
   "id": "2618cf51-323f-4568-97f0-a0458d37d3e2",
   "metadata": {},
   "outputs": [
    {
     "name": "stdout",
     "output_type": "stream",
     "text": [
      "zero\n"
     ]
    }
   ],
   "source": [
    "n = 0\n",
    "\n",
    "if n >  0:\n",
    "    print(\"positive\")\n",
    "elif  n < 0:\n",
    "    print(\"negative\")\n",
    "else:\n",
    "    print(\"zero\")"
   ]
  },
  {
   "cell_type": "code",
   "execution_count": 9,
   "id": "543b295d-391f-45cb-b062-0fc6e23dc7da",
   "metadata": {},
   "outputs": [
    {
     "name": "stdout",
     "output_type": "stream",
     "text": [
      "hello\n",
      "hi\n"
     ]
    }
   ],
   "source": [
    "n = 10\n",
    "m = 15\n",
    "\n",
    "if m > n:\n",
    "    print(\"hello\")\n",
    "    print(\"hi\")"
   ]
  },
  {
   "cell_type": "code",
   "execution_count": 12,
   "id": "0ef47a41-792f-4386-a039-bca53b04054e",
   "metadata": {},
   "outputs": [
    {
     "name": "stdout",
     "output_type": "stream",
     "text": [
      "hello\n",
      "hi\n"
     ]
    }
   ],
   "source": [
    "print('hello')\n",
    "print('hi')"
   ]
  },
  {
   "cell_type": "code",
   "execution_count": 16,
   "id": "e874ed61-4296-4cf6-9877-7d081f8da08c",
   "metadata": {},
   "outputs": [
    {
     "name": "stdout",
     "output_type": "stream",
     "text": [
      "hi\n"
     ]
    }
   ],
   "source": [
    "n = 115\n",
    "m = 5\n",
    "\n",
    "if m > n:\n",
    "    print(\"hello\")\n",
    "print(\"hi\")"
   ]
  },
  {
   "cell_type": "code",
   "execution_count": 19,
   "id": "bcb75580-ce87-4190-8fb8-180c93dc3704",
   "metadata": {},
   "outputs": [
    {
     "name": "stdout",
     "output_type": "stream",
     "text": [
      "bye\n",
      "hi\n"
     ]
    }
   ],
   "source": [
    "n = 10\n",
    "m = 5\n",
    "\n",
    "if m > n:\n",
    "    print(\"hello\")\n",
    "else: \n",
    "    print(\"bye\")\n",
    "print(\"hi\")"
   ]
  },
  {
   "cell_type": "code",
   "execution_count": 23,
   "id": "24262bb9-178d-4da5-a6e6-49f3f151d4e5",
   "metadata": {},
   "outputs": [
    {
     "name": "stdout",
     "output_type": "stream",
     "text": [
      "hello\n",
      "bye\n"
     ]
    }
   ],
   "source": [
    "m = 10\n",
    "n = 20\n",
    "o = 15\n",
    "\n",
    "if o > n:\n",
    "    print('hi')\n",
    "elif o > m:\n",
    "    print(\"hello\")\n",
    "print(\"bye\")"
   ]
  },
  {
   "cell_type": "code",
   "execution_count": null,
   "id": "d8215f35-5510-4051-a5aa-ff0f42907a0e",
   "metadata": {},
   "outputs": [],
   "source": []
  },
  {
   "cell_type": "code",
   "execution_count": null,
   "id": "e70ad417-02fb-4d3d-b06e-4c80e58631fd",
   "metadata": {},
   "outputs": [],
   "source": []
  },
  {
   "cell_type": "code",
   "execution_count": null,
   "id": "b500f27e-3a7d-4f9a-be88-5742f149c1fd",
   "metadata": {},
   "outputs": [],
   "source": []
  },
  {
   "cell_type": "code",
   "execution_count": null,
   "id": "cd10c742-c870-466d-b3f5-a0edd0be48a5",
   "metadata": {},
   "outputs": [],
   "source": []
  },
  {
   "cell_type": "code",
   "execution_count": null,
   "id": "acefa6e1-4edd-45c9-9ab8-d6a3ce73315a",
   "metadata": {},
   "outputs": [],
   "source": []
  },
  {
   "cell_type": "code",
   "execution_count": null,
   "id": "4c553aca-f970-406c-9f75-df53ac3f4c35",
   "metadata": {},
   "outputs": [],
   "source": []
  },
  {
   "cell_type": "code",
   "execution_count": null,
   "id": "8735a2b3-80f4-4995-a14d-af2ea638b58b",
   "metadata": {},
   "outputs": [],
   "source": []
  },
  {
   "cell_type": "code",
   "execution_count": 24,
   "id": "3884aaf7-e2ff-4604-a8b6-45fd52d22bf6",
   "metadata": {},
   "outputs": [
    {
     "data": {
      "text/plain": [
       "4.2"
      ]
     },
     "execution_count": 24,
     "metadata": {},
     "output_type": "execute_result"
    }
   ],
   "source": [
    "21/5"
   ]
  },
  {
   "cell_type": "code",
   "execution_count": 25,
   "id": "a2b9dfb4-9efc-4034-af07-71ee2911c7da",
   "metadata": {},
   "outputs": [
    {
     "data": {
      "text/plain": [
       "0"
      ]
     },
     "execution_count": 25,
     "metadata": {},
     "output_type": "execute_result"
    }
   ],
   "source": [
    "21 % 7"
   ]
  },
  {
   "cell_type": "code",
   "execution_count": 28,
   "id": "5ef5f10d-f3bf-4d29-a77a-ebd044af511e",
   "metadata": {},
   "outputs": [
    {
     "name": "stdout",
     "output_type": "stream",
     "text": [
      "divison\n"
     ]
    }
   ],
   "source": [
    "if 28 % 7 == 0:\n",
    "    print('divison')"
   ]
  },
  {
   "cell_type": "code",
   "execution_count": 30,
   "id": "4a1ee7f5-e96a-4c97-b72c-a9660afaf20f",
   "metadata": {},
   "outputs": [
    {
     "name": "stdout",
     "output_type": "stream",
     "text": [
      "odd\n"
     ]
    }
   ],
   "source": [
    "n = 21\n",
    "if n % 2 == 0:\n",
    "    print(\"even\")\n",
    "else:\n",
    "    print(\"odd\")"
   ]
  },
  {
   "cell_type": "code",
   "execution_count": 33,
   "id": "9b181fa4-f19e-49dd-b18c-9901aacfbb52",
   "metadata": {},
   "outputs": [],
   "source": [
    "n = 20"
   ]
  },
  {
   "cell_type": "code",
   "execution_count": 34,
   "id": "4c4008d5-e921-4172-962c-86a842260b9c",
   "metadata": {},
   "outputs": [
    {
     "name": "stdout",
     "output_type": "stream",
     "text": [
      "divisible by 2\n"
     ]
    }
   ],
   "source": [
    "if n % 2 == 0:\n",
    "    print(\"divisible by 2\")\n",
    "else:\n",
    "    print(\"not divisible  by 2\")"
   ]
  },
  {
   "cell_type": "code",
   "execution_count": 35,
   "id": "4dbb33b2-621d-4b5f-8894-b91e6334428f",
   "metadata": {},
   "outputs": [],
   "source": [
    "m = 21"
   ]
  },
  {
   "cell_type": "code",
   "execution_count": 36,
   "id": "c680c251-f23e-4623-90dd-cbd3c5d9f11c",
   "metadata": {},
   "outputs": [
    {
     "name": "stdout",
     "output_type": "stream",
     "text": [
      "not divisible  by 2\n"
     ]
    }
   ],
   "source": [
    "if m % 2 == 0:\n",
    "    print(\"divisible by 2\")\n",
    "else:\n",
    "    print(\"not divisible  by 2\")"
   ]
  },
  {
   "cell_type": "code",
   "execution_count": 37,
   "id": "851a7529-02b7-4773-863e-912cc9837532",
   "metadata": {},
   "outputs": [],
   "source": [
    "n = 12"
   ]
  },
  {
   "cell_type": "code",
   "execution_count": 39,
   "id": "aaf3a5d2-c713-4da7-ab67-350005265f29",
   "metadata": {},
   "outputs": [
    {
     "name": "stdout",
     "output_type": "stream",
     "text": [
      "divisible by 2 and 3\n"
     ]
    }
   ],
   "source": [
    "if n % 2 ==0:\n",
    "    # divisible by 2\n",
    "    if n % 3 ==0:\n",
    "        #  divisible by 3\n",
    "        print(\"divisible by 2 and 3\")\n",
    "    else:\n",
    "        print(\"divisible by 2 not 3\")\n",
    "elif n % 3 ==0:\n",
    "    print('divisible by 3 not  2')\n",
    "else:\n",
    "    print('not divisible by 2 and 3')"
   ]
  },
  {
   "cell_type": "code",
   "execution_count": 18,
   "id": "6b10145f-22b8-478a-9d94-c65bb217e890",
   "metadata": {},
   "outputs": [],
   "source": [
    "city = \"agra\""
   ]
  },
  {
   "cell_type": "code",
   "execution_count": 31,
   "id": "3d214c75-a92b-44fb-b7e4-b2a264d39c11",
   "metadata": {},
   "outputs": [],
   "source": [
    "age = 41.5"
   ]
  },
  {
   "cell_type": "code",
   "execution_count": 32,
   "id": "431585dd-accb-4e5a-ab59-0cdc58b85de0",
   "metadata": {},
   "outputs": [
    {
     "name": "stdout",
     "output_type": "stream",
     "text": [
      "thik ho tum\n"
     ]
    }
   ],
   "source": [
    "if city == \"haryana\":\n",
    "    if age > 20:\n",
    "        print(\"welcome to haryana\")\n",
    "    else:\n",
    "        print(\"go away\")\n",
    "\n",
    "elif city == \"delhi\":\n",
    "    if age < 20:\n",
    "        print(\"welcome to delhi\")\n",
    "    else:\n",
    "        print(\"go away from delhi\")\n",
    "elif city == \"agra\":\n",
    "    if age > 40:\n",
    "        print(\"thik ho tum\")\n",
    "    else:\n",
    "        print(\"heyyyyy\")"
   ]
  },
  {
   "cell_type": "code",
   "execution_count": null,
   "id": "f8eaee47-6aaa-4cdd-940f-4eabd99becdb",
   "metadata": {},
   "outputs": [],
   "source": []
  },
  {
   "cell_type": "code",
   "execution_count": null,
   "id": "398888f5-51f5-4c24-b1d1-17ff2dead402",
   "metadata": {},
   "outputs": [],
   "source": []
  }
 ],
 "metadata": {
  "kernelspec": {
   "display_name": "Python [conda env:base] *",
   "language": "python",
   "name": "conda-base-py"
  },
  "language_info": {
   "codemirror_mode": {
    "name": "ipython",
    "version": 3
   },
   "file_extension": ".py",
   "mimetype": "text/x-python",
   "name": "python",
   "nbconvert_exporter": "python",
   "pygments_lexer": "ipython3",
   "version": "3.13.5"
  }
 },
 "nbformat": 4,
 "nbformat_minor": 5
}
