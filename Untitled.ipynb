{
 "cells": [
  {
   "cell_type": "code",
   "execution_count": 9,
   "id": "eca0f7f5-fb9b-4838-b19a-f09a673a4706",
   "metadata": {},
   "outputs": [
    {
     "name": "stdout",
     "output_type": "stream",
     "text": [
      "24  %  1  =  24.0\n",
      "24  %  2  =  12.0\n",
      "24  %  3  =  8.0\n",
      "24  %  4  =  6.0\n",
      "24  %  5  =  4.8\n",
      "24  %  6  =  4.0\n",
      "24  %  7  =  3.4285714285714284\n",
      "24  %  8  =  3.0\n",
      "24  %  9  =  2.6666666666666665\n",
      "24  %  10  =  2.4\n",
      "24  %  11  =  2.1818181818181817\n",
      "24  %  12  =  2.0\n",
      "24  %  13  =  1.8461538461538463\n",
      "24  %  14  =  1.7142857142857142\n",
      "24  %  15  =  1.6\n",
      "24  %  16  =  1.5\n",
      "24  %  17  =  1.411764705882353\n",
      "24  %  18  =  1.3333333333333333\n",
      "24  %  19  =  1.263157894736842\n",
      "24  %  20  =  1.2\n",
      "24  %  21  =  1.1428571428571428\n",
      "24  %  22  =  1.0909090909090908\n",
      "24  %  23  =  1.0434782608695652\n",
      "24  %  24  =  1.0\n"
     ]
    }
   ],
   "source": [
    "n = 24\n",
    "i = 1\n",
    "while i <= n:\n",
    "    print (n, \" % \", i, \" = \", n/i)\n",
    "    i += 1"
   ]
  },
  {
   "cell_type": "code",
   "execution_count": 17,
   "id": "0c98d16b-493e-4919-b907-e45f2f8dd214",
   "metadata": {},
   "outputs": [
    {
     "name": "stdout",
     "output_type": "stream",
     "text": [
      "10 9\n"
     ]
    }
   ],
   "source": [
    "a = [2, 5, 6, 9, 4, 3, 7, 10, 8]\n",
    "l = a[0]\n",
    "s = a[0]\n",
    "i = 0\n",
    "n = len(a)\n",
    "while i < n:\n",
    "    #print(i)\n",
    "    if a[i] > l:\n",
    "        s = l\n",
    "        l = a[i]\n",
    "\n",
    "    elif a[i] > s:\n",
    "        s = a[i]\n",
    "        \n",
    "    i += 1\n",
    "print(l, s)\n"
   ]
  },
  {
   "cell_type": "code",
   "execution_count": 32,
   "id": "d091c0e9-9fa5-4b05-b14f-1f3350721389",
   "metadata": {},
   "outputs": [
    {
     "name": "stdout",
     "output_type": "stream",
     "text": [
      "0  0  0  0  0  \n",
      "1  1  1  1  1  \n",
      "2  2  2  2  2  \n",
      "3  3  3  3  3  \n",
      "4  4  4  4  4  \n"
     ]
    }
   ],
   "source": [
    "i = 0\n",
    "n = 5\n",
    "while i < n:\n",
    "    j = 0\n",
    "    m = 5\n",
    "    while j < m:\n",
    "        print(i,  end = \"  \")\n",
    "        j += 1\n",
    "        \n",
    "    print()\n",
    "    i += 1      "
   ]
  },
  {
   "cell_type": "code",
   "execution_count": 35,
   "id": "fdfb56b5-989d-4add-8a01-539ad7e38e65",
   "metadata": {},
   "outputs": [
    {
     "name": "stdout",
     "output_type": "stream",
     "text": [
      "0 shubham\n",
      "0 s\n",
      "1 h\n",
      "2 u\n",
      "3 b\n",
      "4 h\n",
      "5 a\n",
      "6 m\n",
      "1 abhi\n",
      "0 a\n",
      "1 b\n",
      "2 h\n",
      "3 i\n",
      "2 akash\n",
      "0 a\n",
      "1 k\n",
      "2 a\n",
      "3 s\n",
      "4 h\n"
     ]
    }
   ],
   "source": [
    "l = [\"shubham\", \"abhi\", \"akash\"]\n",
    "i= 0\n",
    "n = len(l)\n",
    "while i < n:\n",
    "    print(i, l[i])\n",
    "    j = 0\n",
    "    m = len(l[i])\n",
    "    while j < m:\n",
    "        print(j, l[i][j])\n",
    "        j += 1\n",
    "\n",
    "    i +=1"
   ]
  },
  {
   "cell_type": "code",
   "execution_count": null,
   "id": "9df42b34-96e4-43c7-8dd4-8eff49fdf8ee",
   "metadata": {},
   "outputs": [],
   "source": []
  }
 ],
 "metadata": {
  "kernelspec": {
   "display_name": "Python [conda env:base] *",
   "language": "python",
   "name": "conda-base-py"
  },
  "language_info": {
   "codemirror_mode": {
    "name": "ipython",
    "version": 3
   },
   "file_extension": ".py",
   "mimetype": "text/x-python",
   "name": "python",
   "nbconvert_exporter": "python",
   "pygments_lexer": "ipython3",
   "version": "3.13.5"
  }
 },
 "nbformat": 4,
 "nbformat_minor": 5
}
