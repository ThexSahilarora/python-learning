{
 "cells": [
  {
   "cell_type": "code",
   "execution_count": 2,
   "id": "18eaabdb-2aa3-4cc9-9261-407529d17e9c",
   "metadata": {},
   "outputs": [
    {
     "data": {
      "text/plain": [
       "7"
      ]
     },
     "execution_count": 2,
     "metadata": {},
     "output_type": "execute_result"
    }
   ],
   "source": [
    "len (\"shubham\")"
   ]
  },
  {
   "cell_type": "markdown",
   "id": "2f03369b-5bc6-4509-bb70-c170f7f7eadf",
   "metadata": {},
   "source": [
    "print(5)\n"
   ]
  },
  {
   "cell_type": "code",
   "execution_count": 3,
   "id": "9031d0be-ce14-4683-8065-23b88b5abba3",
   "metadata": {},
   "outputs": [],
   "source": [
    "a =5\n",
    "b=6\n"
   ]
  },
  {
   "cell_type": "code",
   "execution_count": 4,
   "id": "b3837bbb-1af2-4277-be1d-c826a8b24f6f",
   "metadata": {},
   "outputs": [
    {
     "data": {
      "text/plain": [
       "5"
      ]
     },
     "execution_count": 4,
     "metadata": {},
     "output_type": "execute_result"
    }
   ],
   "source": [
    "a\n"
   ]
  },
  {
   "cell_type": "code",
   "execution_count": 5,
   "id": "b20f89da-46b8-4ca2-a8ee-95e97d1da2b2",
   "metadata": {},
   "outputs": [
    {
     "data": {
      "text/plain": [
       "6"
      ]
     },
     "execution_count": 5,
     "metadata": {},
     "output_type": "execute_result"
    }
   ],
   "source": [
    "b"
   ]
  },
  {
   "cell_type": "code",
   "execution_count": 6,
   "id": "c66d92ed-8958-4aaa-b42d-edcb2c4736fc",
   "metadata": {},
   "outputs": [
    {
     "name": "stdout",
     "output_type": "stream",
     "text": [
      "5\n",
      "6\n"
     ]
    }
   ],
   "source": [
    "print(a)\n",
    "print(b)"
   ]
  },
  {
   "cell_type": "code",
   "execution_count": 7,
   "id": "65b4f8c9-8875-4838-832a-07263f5d6913",
   "metadata": {},
   "outputs": [
    {
     "data": {
      "text/plain": [
       "5"
      ]
     },
     "execution_count": 7,
     "metadata": {},
     "output_type": "execute_result"
    }
   ],
   "source": [
    "5"
   ]
  },
  {
   "cell_type": "code",
   "execution_count": 10,
   "id": "1299930d-585b-4a2a-aa0a-a656b32e7c5e",
   "metadata": {},
   "outputs": [
    {
     "name": "stdout",
     "output_type": "stream",
     "text": [
      "5\n"
     ]
    }
   ],
   "source": [
    "a=print(5)"
   ]
  },
  {
   "cell_type": "code",
   "execution_count": 13,
   "id": "ebbfface-bc11-4e94-b483-fea5ada48d95",
   "metadata": {},
   "outputs": [],
   "source": [
    "a"
   ]
  },
  {
   "cell_type": "code",
   "execution_count": 15,
   "id": "50d1bc5c-aae0-4794-a109-8fffd5041a68",
   "metadata": {},
   "outputs": [
    {
     "name": "stdout",
     "output_type": "stream",
     "text": [
      "None\n"
     ]
    }
   ],
   "source": [
    "print(a)"
   ]
  },
  {
   "cell_type": "code",
   "execution_count": 43,
   "id": "19b168b7-7585-4188-834d-03e1bbe7422e",
   "metadata": {},
   "outputs": [
    {
     "name": "stdin",
     "output_type": "stream",
     "text": [
      "enter your name sahil\n"
     ]
    }
   ],
   "source": [
    "name=input('enter your name')"
   ]
  },
  {
   "cell_type": "code",
   "execution_count": 46,
   "id": "51b756b0-aac9-4803-98bd-9b015b5e50ad",
   "metadata": {},
   "outputs": [
    {
     "data": {
      "text/plain": [
       "'sahil'"
      ]
     },
     "execution_count": 46,
     "metadata": {},
     "output_type": "execute_result"
    }
   ],
   "source": [
    "name\n"
   ]
  },
  {
   "cell_type": "code",
   "execution_count": 48,
   "id": "5e5182ee-d90c-4298-808e-3429660aed9c",
   "metadata": {},
   "outputs": [
    {
     "name": "stdin",
     "output_type": "stream",
     "text": [
      " hi how are you\n"
     ]
    }
   ],
   "source": [
    "name = input()\n",
    "l = len(name)//2\n",
    "new = name[:1] + name[1:][::-1]"
   ]
  },
  {
   "cell_type": "code",
   "execution_count": 49,
   "id": "2fda5cad-c9ba-46b4-84c5-f1e55e864451",
   "metadata": {},
   "outputs": [
    {
     "data": {
      "text/plain": [
       "'huoy era woh i'"
      ]
     },
     "execution_count": 49,
     "metadata": {},
     "output_type": "execute_result"
    }
   ],
   "source": [
    "new"
   ]
  },
  {
   "cell_type": "code",
   "execution_count": null,
   "id": "80b51882-dac6-48a0-9b65-f6fa5651681d",
   "metadata": {},
   "outputs": [],
   "source": []
  }
 ],
 "metadata": {
  "kernelspec": {
   "display_name": "Python [conda env:base] *",
   "language": "python",
   "name": "conda-base-py"
  },
  "language_info": {
   "codemirror_mode": {
    "name": "ipython",
    "version": 3
   },
   "file_extension": ".py",
   "mimetype": "text/x-python",
   "name": "python",
   "nbconvert_exporter": "python",
   "pygments_lexer": "ipython3",
   "version": "3.13.5"
  }
 },
 "nbformat": 4,
 "nbformat_minor": 5
}
