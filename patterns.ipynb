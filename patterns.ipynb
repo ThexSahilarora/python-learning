{
 "cells": [
  {
   "cell_type": "code",
   "execution_count": 3,
   "id": "af42e515-6770-4084-9ca1-51889cab134d",
   "metadata": {},
   "outputs": [
    {
     "name": "stdout",
     "output_type": "stream",
     "text": [
      "0\n",
      "11\n",
      "222\n",
      "3333\n",
      "44444\n"
     ]
    }
   ],
   "source": [
    "i = 0\n",
    "n = 5\n",
    "\n",
    "while  i < n:\n",
    "    j = 0\n",
    "    while j < i+1:\n",
    "        print(i, end=\"\")\n",
    "        j += 1\n",
    "\n",
    "    print()\n",
    "    i+=1"
   ]
  },
  {
   "cell_type": "code",
   "execution_count": null,
   "id": "8910c874-985d-4440-ba98-3b72dbb25486",
   "metadata": {},
   "outputs": [],
   "source": []
  }
 ],
 "metadata": {
  "kernelspec": {
   "display_name": "Python [conda env:base] *",
   "language": "python",
   "name": "conda-base-py"
  },
  "language_info": {
   "codemirror_mode": {
    "name": "ipython",
    "version": 3
   },
   "file_extension": ".py",
   "mimetype": "text/x-python",
   "name": "python",
   "nbconvert_exporter": "python",
   "pygments_lexer": "ipython3",
   "version": "3.13.5"
  }
 },
 "nbformat": 4,
 "nbformat_minor": 5
}
