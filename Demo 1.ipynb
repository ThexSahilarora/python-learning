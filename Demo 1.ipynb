{
 "cells": [
  {
   "cell_type": "code",
   "execution_count": 4,
   "id": "21e028eb-80a9-4bed-bff9-982c88481dd5",
   "metadata": {},
   "outputs": [
    {
     "name": "stdout",
     "output_type": "stream",
     "text": [
      "<class 'str'>\n"
     ]
    }
   ],
   "source": [
    "print(type('sahil'))"
   ]
  },
  {
   "cell_type": "code",
   "execution_count": 8,
   "id": "45a942c0-9f6c-42fd-9711-2afd29d3dec1",
   "metadata": {},
   "outputs": [
    {
     "name": "stdout",
     "output_type": "stream",
     "text": [
      "<class 'bool'>\n"
     ]
    }
   ],
   "source": [
    "print(type(True))"
   ]
  },
  {
   "cell_type": "code",
   "execution_count": 9,
   "id": "790a62f4-2956-432f-a10c-e1bc67c5198f",
   "metadata": {},
   "outputs": [
    {
     "name": "stdout",
     "output_type": "stream",
     "text": [
      "<class 'float'>\n"
     ]
    }
   ],
   "source": [
    "print(type(12.0))"
   ]
  },
  {
   "cell_type": "code",
   "execution_count": 12,
   "id": "e094eea1-b827-4d43-8c36-09827a16603f",
   "metadata": {},
   "outputs": [
    {
     "name": "stdout",
     "output_type": "stream",
     "text": [
      "<class 'float'>\n"
     ]
    }
   ],
   "source": [
    "print(type(12.0))\n",
    "# print is a keyword\n",
    "# type is a function\n",
    "# # 12.0 is a function"
   ]
  },
  {
   "cell_type": "code",
   "execution_count": 18,
   "id": "b82f7196-fa46-4c24-bb98-42cf79080b83",
   "metadata": {},
   "outputs": [],
   "source": [
    "name = 'akarsh'"
   ]
  },
  {
   "cell_type": "code",
   "execution_count": 19,
   "id": "30f62ea0-445b-455d-b6d8-5284aa09d6cb",
   "metadata": {},
   "outputs": [
    {
     "data": {
      "text/plain": [
       "'akarsh'"
      ]
     },
     "execution_count": 19,
     "metadata": {},
     "output_type": "execute_result"
    }
   ],
   "source": [
    "name"
   ]
  },
  {
   "cell_type": "code",
   "execution_count": 20,
   "id": "929aa487-251f-4d21-b046-836e023d2be0",
   "metadata": {},
   "outputs": [],
   "source": [
    "stu_name =  name"
   ]
  },
  {
   "cell_type": "code",
   "execution_count": 22,
   "id": "ab30df32-a7ca-418a-b0f3-cda9022e6a9c",
   "metadata": {},
   "outputs": [
    {
     "data": {
      "text/plain": [
       "'akarsh'"
      ]
     },
     "execution_count": 22,
     "metadata": {},
     "output_type": "execute_result"
    }
   ],
   "source": [
    "stu_name"
   ]
  },
  {
   "cell_type": "code",
   "execution_count": 23,
   "id": "d2676e21-a718-455a-af29-e12ba7b3df18",
   "metadata": {},
   "outputs": [
    {
     "name": "stdout",
     "output_type": "stream",
     "text": [
      "sum of a and b is 22\n"
     ]
    }
   ],
   "source": [
    "a = 12\n",
    "b = 10\n",
    "sum = a+b\n",
    "print('sum of a and b is', sum)"
   ]
  },
  {
   "cell_type": "markdown",
   "id": "4f03151e-d72f-444a-b453-502f69ab4754",
   "metadata": {},
   "source": [
    "## Type casting"
   ]
  },
  {
   "cell_type": "markdown",
   "id": "24290fd7-044d-45b0-ae69-0c533dd7f34f",
   "metadata": {},
   "source": [
    "### a = \"5\"\n",
    "b =  int(a)\n",
    "print(type(a))\n",
    "\n",
    "print (a + \"5\")"
   ]
  },
  {
   "cell_type": "code",
   "execution_count": 33,
   "id": "8b6defdb-bac6-466e-9576-b6279056afdd",
   "metadata": {},
   "outputs": [
    {
     "name": "stdout",
     "output_type": "stream",
     "text": [
      "<class 'int'>\n",
      "3\n"
     ]
    }
   ],
   "source": [
    "x = 3.99\n",
    "i = int(x)\n",
    "print(type(i))\n",
    "print(i)"
   ]
  },
  {
   "cell_type": "code",
   "execution_count": 37,
   "id": "af85925a-401b-40b2-84c0-c6a7f1f2ce0e",
   "metadata": {},
   "outputs": [
    {
     "name": "stdout",
     "output_type": "stream",
     "text": [
      "<class 'float'>\n",
      "45.0\n"
     ]
    }
   ],
   "source": [
    "i = 45\n",
    "f = float(i)\n",
    "print (type(f))\n",
    "print(f)"
   ]
  },
  {
   "cell_type": "code",
   "execution_count": null,
   "id": "daa71e8d-93e6-4c8e-bffd-385ceaa73333",
   "metadata": {},
   "outputs": [],
   "source": []
  }
 ],
 "metadata": {
  "kernelspec": {
   "display_name": "Python [conda env:base] *",
   "language": "python",
   "name": "conda-base-py"
  },
  "language_info": {
   "codemirror_mode": {
    "name": "ipython",
    "version": 3
   },
   "file_extension": ".py",
   "mimetype": "text/x-python",
   "name": "python",
   "nbconvert_exporter": "python",
   "pygments_lexer": "ipython3",
   "version": "3.13.5"
  }
 },
 "nbformat": 4,
 "nbformat_minor": 5
}
