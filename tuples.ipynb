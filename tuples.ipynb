{
 "cells": [
  {
   "cell_type": "markdown",
   "id": "bcc6d4eb-4e14-44dc-a97a-2fafd69c2b2d",
   "metadata": {},
   "source": [
    "# Tuples"
   ]
  },
  {
   "cell_type": "code",
   "execution_count": 1,
   "id": "fd0a148d-3494-4b42-9dc2-1a3afbc0d5e9",
   "metadata": {},
   "outputs": [],
   "source": [
    "dogs = (\"tom\", \"kutta\", \"doggy\")"
   ]
  },
  {
   "cell_type": "code",
   "execution_count": 2,
   "id": "3054ca32-fe0d-42d5-b99e-d2726855ee14",
   "metadata": {},
   "outputs": [
    {
     "data": {
      "text/plain": [
       "('tom', 'kutta', 'doggy')"
      ]
     },
     "execution_count": 2,
     "metadata": {},
     "output_type": "execute_result"
    }
   ],
   "source": [
    "dogs"
   ]
  },
  {
   "cell_type": "code",
   "execution_count": 3,
   "id": "1adb8957-f844-4b67-bed9-7d3a9bcf9c83",
   "metadata": {},
   "outputs": [
    {
     "data": {
      "text/plain": [
       "(2, 8, 3)"
      ]
     },
     "execution_count": 3,
     "metadata": {},
     "output_type": "execute_result"
    }
   ],
   "source": [
    "2, 8, 3"
   ]
  },
  {
   "cell_type": "code",
   "execution_count": 4,
   "id": "174b5fdd-3d18-4286-ab90-875d275f71c8",
   "metadata": {},
   "outputs": [
    {
     "data": {
      "text/plain": [
       "(('tom', 'kutta', 'doggy'), 8, 10)"
      ]
     },
     "execution_count": 4,
     "metadata": {},
     "output_type": "execute_result"
    }
   ],
   "source": [
    "dogs, 8, 10"
   ]
  },
  {
   "cell_type": "markdown",
   "id": "8069bc7b-c99a-44a9-b61a-d52872b75c9f",
   "metadata": {},
   "source": [
    "# tuple unpacking"
   ]
  },
  {
   "cell_type": "markdown",
   "id": "282f1521-3f33-4115-91a4-c2edf64537cc",
   "metadata": {},
   "source": [
    "\n",
    "a, b = 5, 8"
   ]
  },
  {
   "cell_type": "code",
   "execution_count": 6,
   "id": "571c106f-9186-4f01-bf08-2c05b181d72a",
   "metadata": {},
   "outputs": [
    {
     "data": {
      "text/plain": [
       "5"
      ]
     },
     "execution_count": 6,
     "metadata": {},
     "output_type": "execute_result"
    }
   ],
   "source": [
    "a"
   ]
  },
  {
   "cell_type": "code",
   "execution_count": 7,
   "id": "19ef53c4-6eaa-40a3-890e-edd604a7331b",
   "metadata": {},
   "outputs": [
    {
     "data": {
      "text/plain": [
       "8"
      ]
     },
     "execution_count": 7,
     "metadata": {},
     "output_type": "execute_result"
    }
   ],
   "source": [
    "b"
   ]
  },
  {
   "cell_type": "code",
   "execution_count": 8,
   "id": "5849708c-5666-4b55-a009-00fae9b30b01",
   "metadata": {},
   "outputs": [],
   "source": [
    "a, b =b, a"
   ]
  },
  {
   "cell_type": "code",
   "execution_count": 9,
   "id": "f3856410-c505-4ec1-a830-af555e340e34",
   "metadata": {},
   "outputs": [
    {
     "data": {
      "text/plain": [
       "8"
      ]
     },
     "execution_count": 9,
     "metadata": {},
     "output_type": "execute_result"
    }
   ],
   "source": [
    "a"
   ]
  },
  {
   "cell_type": "code",
   "execution_count": 10,
   "id": "91efe982-6f67-48fb-8980-e9e51484b87e",
   "metadata": {},
   "outputs": [
    {
     "data": {
      "text/plain": [
       "5"
      ]
     },
     "execution_count": 10,
     "metadata": {},
     "output_type": "execute_result"
    }
   ],
   "source": [
    "b"
   ]
  },
  {
   "cell_type": "markdown",
   "id": "04559f1a-86a1-443d-917f-9fffabe2e167",
   "metadata": {},
   "source": [
    "# Tuples understanding\n",
    "## Tuples Are Ordered Squence"
   ]
  },
  {
   "cell_type": "code",
   "execution_count": 11,
   "id": "ae4dc07d-8a62-42c5-8422-d38039d55e97",
   "metadata": {},
   "outputs": [
    {
     "data": {
      "text/plain": [
       "'doggy'"
      ]
     },
     "execution_count": 11,
     "metadata": {},
     "output_type": "execute_result"
    }
   ],
   "source": [
    "dogs[2]"
   ]
  },
  {
   "cell_type": "code",
   "execution_count": 14,
   "id": "458b9492-1721-4f47-a8c9-9f5081c754e7",
   "metadata": {},
   "outputs": [
    {
     "data": {
      "text/plain": [
       "'y'"
      ]
     },
     "execution_count": 14,
     "metadata": {},
     "output_type": "execute_result"
    }
   ],
   "source": [
    "dogs [2] [4]"
   ]
  },
  {
   "cell_type": "code",
   "execution_count": 15,
   "id": "51351d7c-275e-4b79-8e27-8482fbbc6285",
   "metadata": {},
   "outputs": [
    {
     "data": {
      "text/plain": [
       "'t'"
      ]
     },
     "execution_count": 15,
     "metadata": {},
     "output_type": "execute_result"
    }
   ],
   "source": [
    "dogs [1][2]"
   ]
  },
  {
   "cell_type": "code",
   "execution_count": 17,
   "id": "90e49351-8745-4e2c-b290-6bfc5bca6e43",
   "metadata": {},
   "outputs": [],
   "source": [
    "#  there is no change in tuples and strings. (must remember)"
   ]
  },
  {
   "cell_type": "code",
   "execution_count": 18,
   "id": "93422837-98d7-40af-8d11-4b1b84c7b455",
   "metadata": {},
   "outputs": [],
   "source": [
    "li = [1 ,2, 3]"
   ]
  },
  {
   "cell_type": "code",
   "execution_count": 20,
   "id": "09523d2b-6cb5-4d30-b76d-aa23979b424c",
   "metadata": {},
   "outputs": [],
   "source": [
    "li[1] = 100"
   ]
  },
  {
   "cell_type": "code",
   "execution_count": 21,
   "id": "bfe9ea79-eb9c-4e7e-9f8c-845121a96f22",
   "metadata": {},
   "outputs": [
    {
     "data": {
      "text/plain": [
       "[1, 100, 3]"
      ]
     },
     "execution_count": 21,
     "metadata": {},
     "output_type": "execute_result"
    }
   ],
   "source": [
    "li"
   ]
  },
  {
   "cell_type": "code",
   "execution_count": 26,
   "id": "68770b83-491a-4c92-ac7d-6c4dbec05aa2",
   "metadata": {},
   "outputs": [
    {
     "data": {
      "text/plain": [
       "1"
      ]
     },
     "execution_count": 26,
     "metadata": {},
     "output_type": "execute_result"
    }
   ],
   "source": [
    "dogs.count(\"tom\")"
   ]
  },
  {
   "cell_type": "code",
   "execution_count": 33,
   "id": "2198addb-f46b-41f9-b6d5-03128425e4aa",
   "metadata": {},
   "outputs": [],
   "source": [
    "tu = (1, 1, 2, 3 , 1, 5, 6, 5, 7)"
   ]
  },
  {
   "cell_type": "code",
   "execution_count": 43,
   "id": "73ea748e-116d-4fce-b0db-739da084bbeb",
   "metadata": {},
   "outputs": [
    {
     "data": {
      "text/plain": [
       "1"
      ]
     },
     "execution_count": 43,
     "metadata": {},
     "output_type": "execute_result"
    }
   ],
   "source": [
    " tu.count(7)      #count mtlb kitni br no. aaya h"
   ]
  },
  {
   "cell_type": "code",
   "execution_count": 44,
   "id": "e9a25eb0-3346-42f5-9007-20bf7c900977",
   "metadata": {},
   "outputs": [
    {
     "data": {
      "text/plain": [
       "8"
      ]
     },
     "execution_count": 44,
     "metadata": {},
     "output_type": "execute_result"
    }
   ],
   "source": [
    " tu.index(7)       #index mtlb kis place mein h"
   ]
  },
  {
   "cell_type": "markdown",
   "id": "684b719a-40a6-4ef4-a3f1-ecc711d92bf2",
   "metadata": {},
   "source": [
    "#  indexing slicing"
   ]
  },
  {
   "cell_type": "code",
   "execution_count": 45,
   "id": "3259df40-228f-44cc-98cd-ff73bf5658e4",
   "metadata": {},
   "outputs": [
    {
     "data": {
      "text/plain": [
       "(1, 1, 2, 3, 1, 5, 6, 5, 7)"
      ]
     },
     "execution_count": 45,
     "metadata": {},
     "output_type": "execute_result"
    }
   ],
   "source": [
    "tu"
   ]
  },
  {
   "cell_type": "code",
   "execution_count": 46,
   "id": "bfafd58a-d954-4e71-a6ef-9ad43e11dc3f",
   "metadata": {},
   "outputs": [
    {
     "data": {
      "text/plain": [
       "(2, 3, 1)"
      ]
     },
     "execution_count": 46,
     "metadata": {},
     "output_type": "execute_result"
    }
   ],
   "source": [
    "tu[2:5]"
   ]
  },
  {
   "cell_type": "code",
   "execution_count": 47,
   "id": "51f09aa5-0465-4260-88ab-2619a64a0fac",
   "metadata": {},
   "outputs": [],
   "source": [
    "tu = tu[2:5]"
   ]
  },
  {
   "cell_type": "code",
   "execution_count": 48,
   "id": "2b253ca4-f508-4387-9bf9-d85d1953d600",
   "metadata": {},
   "outputs": [
    {
     "data": {
      "text/plain": [
       "(2, 3, 1)"
      ]
     },
     "execution_count": 48,
     "metadata": {},
     "output_type": "execute_result"
    }
   ],
   "source": [
    "tu"
   ]
  },
  {
   "cell_type": "markdown",
   "id": "bf16cc1f-ea37-49ab-bb55-87c655e9ff60",
   "metadata": {},
   "source": [
    "# List is an ordered squence"
   ]
  },
  {
   "cell_type": "code",
   "execution_count": 50,
   "id": "0dec04b1-c740-4de3-94e2-88cde928a59b",
   "metadata": {},
   "outputs": [
    {
     "data": {
      "text/plain": [
       "[8, 4, 6, 2]"
      ]
     },
     "execution_count": 50,
     "metadata": {},
     "output_type": "execute_result"
    }
   ],
   "source": [
    "[8, 4, 6, 2]"
   ]
  },
  {
   "cell_type": "code",
   "execution_count": 51,
   "id": "394b1560-5e1c-4faa-8708-0a27cd8477e8",
   "metadata": {},
   "outputs": [],
   "source": [
    "dogs = [\"tom\", \"kutta\", \"doggy\"]"
   ]
  },
  {
   "cell_type": "code",
   "execution_count": 52,
   "id": "5d30e8bb-55c4-4e65-94c6-a4f4553006c2",
   "metadata": {},
   "outputs": [
    {
     "data": {
      "text/plain": [
       "['tom', 'kutta', 'doggy']"
      ]
     },
     "execution_count": 52,
     "metadata": {},
     "output_type": "execute_result"
    }
   ],
   "source": [
    "dogs"
   ]
  },
  {
   "cell_type": "code",
   "execution_count": 53,
   "id": "121cf8fe-aa88-4649-8fef-7527b97a6c15",
   "metadata": {},
   "outputs": [
    {
     "data": {
      "text/plain": [
       "'tom'"
      ]
     },
     "execution_count": 53,
     "metadata": {},
     "output_type": "execute_result"
    }
   ],
   "source": [
    "dogs[0]"
   ]
  },
  {
   "cell_type": "code",
   "execution_count": 54,
   "id": "82d026fa-92a5-4dd1-87d3-7a86bf414f9c",
   "metadata": {},
   "outputs": [
    {
     "data": {
      "text/plain": [
       "['tom', 'kutta']"
      ]
     },
     "execution_count": 54,
     "metadata": {},
     "output_type": "execute_result"
    }
   ],
   "source": [
    "dogs[0:2]"
   ]
  },
  {
   "cell_type": "code",
   "execution_count": 55,
   "id": "2eb64988-fc6d-4399-9431-fc7cb3821ee0",
   "metadata": {},
   "outputs": [],
   "source": [
    "dogs[0]= \"jerry\""
   ]
  },
  {
   "cell_type": "code",
   "execution_count": 58,
   "id": "e96f012d-6166-4efe-b01d-1b20d5d2a246",
   "metadata": {},
   "outputs": [
    {
     "data": {
      "text/plain": [
       "['jerry', 'kutta', 'doggy']"
      ]
     },
     "execution_count": 58,
     "metadata": {},
     "output_type": "execute_result"
    }
   ],
   "source": [
    "dogs"
   ]
  },
  {
   "cell_type": "code",
   "execution_count": 59,
   "id": "79894a99-4660-4809-9a42-5ab511206c0e",
   "metadata": {},
   "outputs": [],
   "source": [
    "li = [5, 5.3, 6+3j, \"sahil  arora\", (8, 5, 6, 4), [\"sahil\", 4, 6], True, False]"
   ]
  },
  {
   "cell_type": "code",
   "execution_count": 60,
   "id": "a7d3081c-ebad-4da6-8555-dc5fb2b6f57e",
   "metadata": {},
   "outputs": [
    {
     "data": {
      "text/plain": [
       "[5, 5.3, (6+3j), 'sahil arora', (8, 5, 6, 4), ['sahil', 4, 6], True, False]"
      ]
     },
     "execution_count": 60,
     "metadata": {},
     "output_type": "execute_result"
    }
   ],
   "source": [
    "li"
   ]
  },
  {
   "cell_type": "code",
   "execution_count": 61,
   "id": "54c3a32c-3de1-4722-b292-c2df4949d80b",
   "metadata": {},
   "outputs": [
    {
     "data": {
      "text/plain": [
       "'sahil arora'"
      ]
     },
     "execution_count": 61,
     "metadata": {},
     "output_type": "execute_result"
    }
   ],
   "source": [
    "li[3]"
   ]
  },
  {
   "cell_type": "code",
   "execution_count": 62,
   "id": "ab3eb2bf-c0b6-49af-8bbb-d239be6854fb",
   "metadata": {},
   "outputs": [
    {
     "data": {
      "text/plain": [
       "False"
      ]
     },
     "execution_count": 62,
     "metadata": {},
     "output_type": "execute_result"
    }
   ],
   "source": [
    "li[7]"
   ]
  },
  {
   "cell_type": "code",
   "execution_count": 63,
   "id": "a73d7f9e-f958-4206-8527-d35478af2509",
   "metadata": {},
   "outputs": [
    {
     "data": {
      "text/plain": [
       "['sahil', 4, 6]"
      ]
     },
     "execution_count": 63,
     "metadata": {},
     "output_type": "execute_result"
    }
   ],
   "source": [
    "li[5]"
   ]
  },
  {
   "cell_type": "code",
   "execution_count": 64,
   "id": "3688a913-1224-489d-bed2-24c5f557441b",
   "metadata": {},
   "outputs": [
    {
     "data": {
      "text/plain": [
       "'sahil a'"
      ]
     },
     "execution_count": 64,
     "metadata": {},
     "output_type": "execute_result"
    }
   ],
   "source": [
    "li[3][0:7]"
   ]
  },
  {
   "cell_type": "code",
   "execution_count": 65,
   "id": "2940738c-9909-4dfa-a490-a9681c157dba",
   "metadata": {},
   "outputs": [
    {
     "data": {
      "text/plain": [
       "'sahil arora'"
      ]
     },
     "execution_count": 65,
     "metadata": {},
     "output_type": "execute_result"
    }
   ],
   "source": [
    "li[3]"
   ]
  },
  {
   "cell_type": "code",
   "execution_count": 69,
   "id": "f790f3d1-1ae5-42b1-a867-29f726202ada",
   "metadata": {},
   "outputs": [
    {
     "data": {
      "text/plain": [
       "'s'"
      ]
     },
     "execution_count": 69,
     "metadata": {},
     "output_type": "execute_result"
    }
   ],
   "source": [
    "li[3][0] [0]"
   ]
  },
  {
   "cell_type": "code",
   "execution_count": 70,
   "id": "39d1b9c6-5c64-4af7-b56a-40b6c1c707ca",
   "metadata": {},
   "outputs": [
    {
     "data": {
      "text/plain": [
       "['jerry', 'kutta', 'doggy']"
      ]
     },
     "execution_count": 70,
     "metadata": {},
     "output_type": "execute_result"
    }
   ],
   "source": [
    "dogs"
   ]
  },
  {
   "cell_type": "code",
   "execution_count": 71,
   "id": "fde52dbd-89d8-4ebf-9b1b-9a621b3f4c97",
   "metadata": {},
   "outputs": [],
   "source": [
    "dogs.append(\"tom\")"
   ]
  },
  {
   "cell_type": "code",
   "execution_count": 72,
   "id": "1ee366fd-89d9-4716-a6ba-d4786fd4535a",
   "metadata": {},
   "outputs": [
    {
     "data": {
      "text/plain": [
       "['jerry', 'kutta', 'doggy', 'tom']"
      ]
     },
     "execution_count": 72,
     "metadata": {},
     "output_type": "execute_result"
    }
   ],
   "source": [
    "dogs"
   ]
  },
  {
   "cell_type": "code",
   "execution_count": 73,
   "id": "c1db73a7-8cae-482c-81d7-25538313204f",
   "metadata": {},
   "outputs": [
    {
     "data": {
      "text/plain": [
       "['jerry', 'kutta', 'doggy', 'tom']"
      ]
     },
     "execution_count": 73,
     "metadata": {},
     "output_type": "execute_result"
    }
   ],
   "source": [
    "dogs"
   ]
  },
  {
   "cell_type": "code",
   "execution_count": 75,
   "id": "54718932-d7ef-415c-b3c9-057afddc1f50",
   "metadata": {},
   "outputs": [],
   "source": [
    "stu = [\"a\", \"b\", \"c\", \"d\", \"e\", \"f\"]"
   ]
  },
  {
   "cell_type": "code",
   "execution_count": 76,
   "id": "9c0df0e5-f521-4ea1-9a7d-a140c5e678cd",
   "metadata": {},
   "outputs": [],
   "source": [
    "fail = stu"
   ]
  },
  {
   "cell_type": "code",
   "execution_count": 77,
   "id": "b388e9a5-756f-408b-94a3-0427d5b5517f",
   "metadata": {},
   "outputs": [
    {
     "data": {
      "text/plain": [
       "['a', 'b', 'c', 'd', 'e', 'f']"
      ]
     },
     "execution_count": 77,
     "metadata": {},
     "output_type": "execute_result"
    }
   ],
   "source": [
    "fail"
   ]
  },
  {
   "cell_type": "code",
   "execution_count": 79,
   "id": "55140f09-f174-433e-ae48-9bd7784c7f4d",
   "metadata": {},
   "outputs": [],
   "source": [
    "fail[0] = \"shubham\""
   ]
  },
  {
   "cell_type": "code",
   "execution_count": 80,
   "id": "d0a02f22-5337-4f66-b8af-21759382e8b9",
   "metadata": {},
   "outputs": [],
   "source": [
    "fail[2] = \"rony\""
   ]
  },
  {
   "cell_type": "code",
   "execution_count": 81,
   "id": "3ffe95c1-7728-42d5-97cb-90f36ccaba9f",
   "metadata": {},
   "outputs": [
    {
     "data": {
      "text/plain": [
       "['shubham', 'b', 'rony', 'd', 'e', 'f']"
      ]
     },
     "execution_count": 81,
     "metadata": {},
     "output_type": "execute_result"
    }
   ],
   "source": [
    "fail"
   ]
  },
  {
   "cell_type": "code",
   "execution_count": 82,
   "id": "57ae0e81-eed1-45cf-923d-c6edcc5af4d3",
   "metadata": {},
   "outputs": [],
   "source": [
    "a = [1, 5, 3]"
   ]
  },
  {
   "cell_type": "code",
   "execution_count": 83,
   "id": "3628ac2e-065a-4423-a490-7e91beb24348",
   "metadata": {},
   "outputs": [],
   "source": [
    "b = a"
   ]
  },
  {
   "cell_type": "code",
   "execution_count": 84,
   "id": "672a64c5-7663-41b8-b52d-340ba00f8ca0",
   "metadata": {},
   "outputs": [
    {
     "data": {
      "text/plain": [
       "[1, 5, 3]"
      ]
     },
     "execution_count": 84,
     "metadata": {},
     "output_type": "execute_result"
    }
   ],
   "source": [
    "b"
   ]
  },
  {
   "cell_type": "code",
   "execution_count": 85,
   "id": "c0828d40-23be-4312-bf77-db9c1f3262c7",
   "metadata": {},
   "outputs": [],
   "source": [
    "b[1]= 50"
   ]
  },
  {
   "cell_type": "code",
   "execution_count": 86,
   "id": "b669f3c2-a569-4fc0-926e-5dc017672b46",
   "metadata": {},
   "outputs": [
    {
     "data": {
      "text/plain": [
       "[1, 50, 3]"
      ]
     },
     "execution_count": 86,
     "metadata": {},
     "output_type": "execute_result"
    }
   ],
   "source": [
    "a"
   ]
  },
  {
   "cell_type": "code",
   "execution_count": 87,
   "id": "82159b3d-d072-4e29-b508-81510b33763c",
   "metadata": {},
   "outputs": [
    {
     "data": {
      "text/plain": [
       "[1, 50, 3]"
      ]
     },
     "execution_count": 87,
     "metadata": {},
     "output_type": "execute_result"
    }
   ],
   "source": [
    "b"
   ]
  },
  {
   "cell_type": "code",
   "execution_count": 88,
   "id": "ab47b2f9-8bf5-4564-95ea-d215c913c5be",
   "metadata": {},
   "outputs": [],
   "source": [
    "# upper this is called refrence"
   ]
  },
  {
   "cell_type": "code",
   "execution_count": 90,
   "id": "13c7a7f6-41d7-4fdb-9cb1-9d9241dcf47a",
   "metadata": {},
   "outputs": [],
   "source": [
    "b = a.copy()"
   ]
  },
  {
   "cell_type": "code",
   "execution_count": 91,
   "id": "89861823-4493-4b54-a9b8-773596fe6c52",
   "metadata": {},
   "outputs": [
    {
     "data": {
      "text/plain": [
       "[1, 50, 3]"
      ]
     },
     "execution_count": 91,
     "metadata": {},
     "output_type": "execute_result"
    }
   ],
   "source": [
    "b"
   ]
  },
  {
   "cell_type": "code",
   "execution_count": 92,
   "id": "8fe10cd0-090a-491a-a113-ec4510d2e6ca",
   "metadata": {},
   "outputs": [
    {
     "data": {
      "text/plain": [
       "[1, 50, 3]"
      ]
     },
     "execution_count": 92,
     "metadata": {},
     "output_type": "execute_result"
    }
   ],
   "source": [
    "a"
   ]
  },
  {
   "cell_type": "code",
   "execution_count": 93,
   "id": "c81b61b5-0fcf-4f07-83bd-f500d1fa7c1f",
   "metadata": {},
   "outputs": [],
   "source": [
    "b[1]=5"
   ]
  },
  {
   "cell_type": "code",
   "execution_count": 94,
   "id": "eef7db3d-b207-4d58-a9af-a3be14cda320",
   "metadata": {},
   "outputs": [
    {
     "data": {
      "text/plain": [
       "[1, 5, 3]"
      ]
     },
     "execution_count": 94,
     "metadata": {},
     "output_type": "execute_result"
    }
   ],
   "source": [
    "b"
   ]
  },
  {
   "cell_type": "code",
   "execution_count": 95,
   "id": "82eb6c5a-1a58-4543-9cba-47603b8b8136",
   "metadata": {},
   "outputs": [
    {
     "data": {
      "text/plain": [
       "1"
      ]
     },
     "execution_count": 95,
     "metadata": {},
     "output_type": "execute_result"
    }
   ],
   "source": [
    "dogs.count(\"jerry\")"
   ]
  },
  {
   "cell_type": "code",
   "execution_count": 96,
   "id": "aa58218d-d93a-4403-abc6-6bc5272cac3c",
   "metadata": {},
   "outputs": [
    {
     "data": {
      "text/plain": [
       "['jerry', 'kutta', 'doggy', 'tom']"
      ]
     },
     "execution_count": 96,
     "metadata": {},
     "output_type": "execute_result"
    }
   ],
   "source": [
    "dogs"
   ]
  },
  {
   "cell_type": "code",
   "execution_count": 97,
   "id": "59b9aee3-c644-4059-9718-4a1c12b749a6",
   "metadata": {},
   "outputs": [],
   "source": [
    "friend = [\"jammy\" ,\"rammy\", \"jacob\"]"
   ]
  },
  {
   "cell_type": "code",
   "execution_count": 106,
   "id": "72e2afee-0064-4818-b13f-e834faae2831",
   "metadata": {},
   "outputs": [],
   "source": [
    "dogs.extend(friend)"
   ]
  },
  {
   "cell_type": "code",
   "execution_count": 99,
   "id": "6073a8f8-e2bd-47dc-9c05-5a62879cb8b0",
   "metadata": {},
   "outputs": [
    {
     "data": {
      "text/plain": [
       "['jerry', 'kutta', 'doggy', 'tom', 'jammy', 'rammy', 'jacob']"
      ]
     },
     "execution_count": 99,
     "metadata": {},
     "output_type": "execute_result"
    }
   ],
   "source": [
    "dogs"
   ]
  },
  {
   "cell_type": "code",
   "execution_count": 104,
   "id": "14583c49-77c5-49b7-ac15-dc0e6e166da7",
   "metadata": {},
   "outputs": [
    {
     "data": {
      "text/plain": [
       "'tom'"
      ]
     },
     "execution_count": 104,
     "metadata": {},
     "output_type": "execute_result"
    }
   ],
   "source": [
    "dogs.pop()"
   ]
  },
  {
   "cell_type": "code",
   "execution_count": 101,
   "id": "cc90efde-dd80-4bdd-8694-9a6f6944b91f",
   "metadata": {},
   "outputs": [
    {
     "data": {
      "text/plain": [
       "['jerry', 'kutta', 'doggy', 'tom', 'jammy', 'rammy']"
      ]
     },
     "execution_count": 101,
     "metadata": {},
     "output_type": "execute_result"
    }
   ],
   "source": [
    "dogs"
   ]
  },
  {
   "cell_type": "code",
   "execution_count": 107,
   "id": "0b974054-f955-47f5-b860-fff820b18978",
   "metadata": {},
   "outputs": [
    {
     "data": {
      "text/plain": [
       "['jerry', 'kutta', 'doggy', 'jammy', 'rammy', 'jacob']"
      ]
     },
     "execution_count": 107,
     "metadata": {},
     "output_type": "execute_result"
    }
   ],
   "source": [
    "dogs"
   ]
  },
  {
   "cell_type": "code",
   "execution_count": 108,
   "id": "347cc0c9-41b9-4e26-b67e-702c6764d130",
   "metadata": {},
   "outputs": [
    {
     "data": {
      "text/plain": [
       "'jammy'"
      ]
     },
     "execution_count": 108,
     "metadata": {},
     "output_type": "execute_result"
    }
   ],
   "source": [
    "dogs.pop(3)"
   ]
  },
  {
   "cell_type": "code",
   "execution_count": 109,
   "id": "699c2ccb-36c5-41e1-8f0b-c9194886af2c",
   "metadata": {},
   "outputs": [
    {
     "data": {
      "text/plain": [
       "['jerry', 'kutta', 'doggy', 'rammy', 'jacob']"
      ]
     },
     "execution_count": 109,
     "metadata": {},
     "output_type": "execute_result"
    }
   ],
   "source": [
    "dogs"
   ]
  },
  {
   "cell_type": "code",
   "execution_count": 110,
   "id": "eeba1d2d-be47-4af3-845e-a108ac8ea2db",
   "metadata": {},
   "outputs": [],
   "source": [
    "#  pop and append are very precious and will be used on regular basis."
   ]
  },
  {
   "cell_type": "code",
   "execution_count": 111,
   "id": "0601a4bc-c18c-4b34-998b-4446cadd9828",
   "metadata": {},
   "outputs": [],
   "source": [
    "dogs.append(\"jammy\")"
   ]
  },
  {
   "cell_type": "code",
   "execution_count": 112,
   "id": "ada57fcb-f97d-483a-977e-f4f7e4723bf6",
   "metadata": {},
   "outputs": [
    {
     "data": {
      "text/plain": [
       "['jerry', 'kutta', 'doggy', 'rammy', 'jacob', 'jammy']"
      ]
     },
     "execution_count": 112,
     "metadata": {},
     "output_type": "execute_result"
    }
   ],
   "source": [
    "dogs"
   ]
  },
  {
   "cell_type": "code",
   "execution_count": 114,
   "id": "eb75aba3-115f-4b34-9325-4ca8f6fbdc85",
   "metadata": {},
   "outputs": [],
   "source": [
    "# indexing, slicing, if, else, elif will be used always and 100%"
   ]
  },
  {
   "cell_type": "code",
   "execution_count": 115,
   "id": "a9facfa2-39c8-4ae3-904a-92e55e2ba930",
   "metadata": {},
   "outputs": [],
   "source": [
    "dogs.sort()"
   ]
  },
  {
   "cell_type": "code",
   "execution_count": 116,
   "id": "21964aac-cebe-4c46-8b00-d58f5191d469",
   "metadata": {},
   "outputs": [
    {
     "data": {
      "text/plain": [
       "['doggy', 'jacob', 'jammy', 'jerry', 'kutta', 'rammy']"
      ]
     },
     "execution_count": 116,
     "metadata": {},
     "output_type": "execute_result"
    }
   ],
   "source": [
    "dogs"
   ]
  },
  {
   "cell_type": "code",
   "execution_count": 117,
   "id": "d440223f-302a-4b01-bbd4-0eb8fc02813c",
   "metadata": {},
   "outputs": [],
   "source": [
    "li = [8, 5, 4, 9, 7]"
   ]
  },
  {
   "cell_type": "code",
   "execution_count": 119,
   "id": "a6ebff97-ccb8-433c-afda-9e2266b2aa57",
   "metadata": {},
   "outputs": [],
   "source": [
    "li.sort()"
   ]
  },
  {
   "cell_type": "code",
   "execution_count": 120,
   "id": "1bf0019e-eb34-4519-9e53-477f1ed871e4",
   "metadata": {},
   "outputs": [
    {
     "data": {
      "text/plain": [
       "[4, 5, 7, 8, 9]"
      ]
     },
     "execution_count": 120,
     "metadata": {},
     "output_type": "execute_result"
    }
   ],
   "source": [
    "li"
   ]
  },
  {
   "cell_type": "code",
   "execution_count": 121,
   "id": "a4b49636-b2e9-4e18-b4be-52ba7472de0d",
   "metadata": {},
   "outputs": [],
   "source": [
    "li.reverse()"
   ]
  },
  {
   "cell_type": "code",
   "execution_count": 122,
   "id": "200fbcad-e68c-4e4f-9296-8e50412d54b2",
   "metadata": {},
   "outputs": [
    {
     "data": {
      "text/plain": [
       "[9, 8, 7, 5, 4]"
      ]
     },
     "execution_count": 122,
     "metadata": {},
     "output_type": "execute_result"
    }
   ],
   "source": [
    "li"
   ]
  },
  {
   "cell_type": "code",
   "execution_count": 123,
   "id": "fe955ed8-b75a-417c-a56a-0021d8a4c68f",
   "metadata": {},
   "outputs": [],
   "source": [
    "dogs.reverse()"
   ]
  },
  {
   "cell_type": "code",
   "execution_count": 124,
   "id": "c455c5af-bd1f-40da-bf9a-32f36413b400",
   "metadata": {},
   "outputs": [
    {
     "data": {
      "text/plain": [
       "['rammy', 'kutta', 'jerry', 'jammy', 'jacob', 'doggy']"
      ]
     },
     "execution_count": 124,
     "metadata": {},
     "output_type": "execute_result"
    }
   ],
   "source": [
    "dogs"
   ]
  },
  {
   "cell_type": "code",
   "execution_count": 126,
   "id": "be1d9667-beac-4b2f-b7be-416b2474dea1",
   "metadata": {},
   "outputs": [],
   "source": [
    "dogs.sort()"
   ]
  },
  {
   "cell_type": "code",
   "execution_count": 127,
   "id": "6a102698-e8c5-44ed-b8ee-0e63c7c54c79",
   "metadata": {},
   "outputs": [
    {
     "data": {
      "text/plain": [
       "['doggy', 'jacob', 'jammy', 'jerry', 'kutta', 'rammy']"
      ]
     },
     "execution_count": 127,
     "metadata": {},
     "output_type": "execute_result"
    }
   ],
   "source": [
    "\n",
    "dogs"
   ]
  },
  {
   "cell_type": "code",
   "execution_count": 128,
   "id": "e814f20a-9fe7-4d2d-b1ed-493c4316b408",
   "metadata": {},
   "outputs": [],
   "source": [
    "li.clear()"
   ]
  },
  {
   "cell_type": "code",
   "execution_count": 129,
   "id": "2d444fcb-2da1-4733-8bfd-ffb4f6fc6b2b",
   "metadata": {},
   "outputs": [
    {
     "data": {
      "text/plain": [
       "[]"
      ]
     },
     "execution_count": 129,
     "metadata": {},
     "output_type": "execute_result"
    }
   ],
   "source": [
    "li"
   ]
  },
  {
   "cell_type": "code",
   "execution_count": 130,
   "id": "7aa0086a-7c78-4d9c-9c64-8cd2b6d57210",
   "metadata": {},
   "outputs": [],
   "source": [
    "dogs.clear()"
   ]
  },
  {
   "cell_type": "code",
   "execution_count": 131,
   "id": "0b654f7d-e236-4b7c-8219-e1b1519819ba",
   "metadata": {},
   "outputs": [
    {
     "data": {
      "text/plain": [
       "[]"
      ]
     },
     "execution_count": 131,
     "metadata": {},
     "output_type": "execute_result"
    }
   ],
   "source": [
    "dogs"
   ]
  },
  {
   "cell_type": "code",
   "execution_count": null,
   "id": "364440ae-c291-42c9-9613-6728ec802ce6",
   "metadata": {},
   "outputs": [],
   "source": []
  }
 ],
 "metadata": {
  "kernelspec": {
   "display_name": "Python [conda env:base] *",
   "language": "python",
   "name": "conda-base-py"
  },
  "language_info": {
   "codemirror_mode": {
    "name": "ipython",
    "version": 3
   },
   "file_extension": ".py",
   "mimetype": "text/x-python",
   "name": "python",
   "nbconvert_exporter": "python",
   "pygments_lexer": "ipython3",
   "version": "3.13.5"
  }
 },
 "nbformat": 4,
 "nbformat_minor": 5
}
