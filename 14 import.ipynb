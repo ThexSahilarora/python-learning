{
 "cells": [
  {
   "cell_type": "code",
   "execution_count": 3,
   "id": "c3200562-d53f-4d68-aa99-a82687b20ad3",
   "metadata": {},
   "outputs": [
    {
     "name": "stdout",
     "output_type": "stream",
     "text": [
      "Note: you may need to restart the kernel to use updated packages.\n"
     ]
    },
    {
     "name": "stderr",
     "output_type": "stream",
     "text": [
      "ERROR: Could not find a version that satisfies the requirement request (from versions: none)\n",
      "ERROR: No matching distribution found for request\n"
     ]
    }
   ],
   "source": [
    "\n",
    "pip install request"
   ]
  },
  {
   "cell_type": "code",
   "execution_count": 9,
   "id": "00124b64-57d9-4cd6-8eee-a9980f19964d",
   "metadata": {},
   "outputs": [
    {
     "name": "stdout",
     "output_type": "stream",
     "text": [
      "Requirement already satisfied: django==5.2.5 in c:\\users\\sahil\\anaconda3\\lib\\site-packages (5.2.5)\n",
      "Requirement already satisfied: asgiref>=3.8.1 in c:\\users\\sahil\\anaconda3\\lib\\site-packages (from django==5.2.5) (3.9.1)\n",
      "Requirement already satisfied: sqlparse>=0.3.1 in c:\\users\\sahil\\anaconda3\\lib\\site-packages (from django==5.2.5) (0.5.3)\n",
      "Requirement already satisfied: tzdata in c:\\users\\sahil\\anaconda3\\lib\\site-packages (from django==5.2.5) (2025.2)\n",
      "Note: you may need to restart the kernel to use updated packages.\n"
     ]
    }
   ],
   "source": [
    "pip install django==5.2.5"
   ]
  },
  {
   "cell_type": "code",
   "execution_count": 10,
   "id": "e6e1c41a-3721-4933-b2dc-b0dc7035a0c3",
   "metadata": {},
   "outputs": [],
   "source": [
    "import random"
   ]
  },
  {
   "cell_type": "code",
   "execution_count": 11,
   "id": "00ccfa1f-ff3f-47be-8c21-ac3fb0829f34",
   "metadata": {},
   "outputs": [
    {
     "data": {
      "text/plain": [
       "13"
      ]
     },
     "execution_count": 11,
     "metadata": {},
     "output_type": "execute_result"
    }
   ],
   "source": [
    "random.randint(10,20)"
   ]
  },
  {
   "cell_type": "code",
   "execution_count": 13,
   "id": "9ba0f652-e416-46ed-90c0-21b79e1c4b54",
   "metadata": {},
   "outputs": [
    {
     "name": "stdout",
     "output_type": "stream",
     "text": [
      "Requirement already satisfied: pandas in c:\\users\\sahil\\anaconda3\\lib\\site-packages (2.2.3)\n",
      "Requirement already satisfied: numpy>=1.26.0 in c:\\users\\sahil\\anaconda3\\lib\\site-packages (from pandas) (2.1.3)\n",
      "Requirement already satisfied: python-dateutil>=2.8.2 in c:\\users\\sahil\\anaconda3\\lib\\site-packages (from pandas) (2.9.0.post0)\n",
      "Requirement already satisfied: pytz>=2020.1 in c:\\users\\sahil\\anaconda3\\lib\\site-packages (from pandas) (2024.1)\n",
      "Requirement already satisfied: tzdata>=2022.7 in c:\\users\\sahil\\anaconda3\\lib\\site-packages (from pandas) (2025.2)\n",
      "Requirement already satisfied: six>=1.5 in c:\\users\\sahil\\anaconda3\\lib\\site-packages (from python-dateutil>=2.8.2->pandas) (1.17.0)\n",
      "Note: you may need to restart the kernel to use updated packages.\n"
     ]
    }
   ],
   "source": [
    "pip install pandas"
   ]
  },
  {
   "cell_type": "code",
   "execution_count": 14,
   "id": "685309fc-f299-4981-a7de-0e504fbfde73",
   "metadata": {},
   "outputs": [],
   "source": [
    "import pandas as pd"
   ]
  },
  {
   "cell_type": "code",
   "execution_count": 15,
   "id": "3cd27b0b-d2f2-4785-a2e9-61469c2fa548",
   "metadata": {},
   "outputs": [
    {
     "data": {
      "text/plain": [
       "<module 'pandas' from 'C:\\\\Users\\\\sahil\\\\anaconda3\\\\Lib\\\\site-packages\\\\pandas\\\\__init__.py'>"
      ]
     },
     "execution_count": 15,
     "metadata": {},
     "output_type": "execute_result"
    }
   ],
   "source": [
    "pd."
   ]
  },
  {
   "cell_type": "code",
   "execution_count": 19,
   "id": "128d19bf-93a9-41cb-9427-5c5b6189dc09",
   "metadata": {},
   "outputs": [
    {
     "ename": "NameError",
     "evalue": "name 'choice' is not defined",
     "output_type": "error",
     "traceback": [
      "\u001b[1;31m---------------------------------------------------------------------------\u001b[0m",
      "\u001b[1;31mNameError\u001b[0m                                 Traceback (most recent call last)",
      "Cell \u001b[1;32mIn[19], line 1\u001b[0m\n\u001b[1;32m----> 1\u001b[0m help(choice)\n",
      "\u001b[1;31mNameError\u001b[0m: name 'choice' is not defined"
     ]
    }
   ],
   "source": [
    "help(choice)"
   ]
  },
  {
   "cell_type": "code",
   "execution_count": 20,
   "id": "af6b92be-0890-41d6-bfbb-5f6fd5619e1c",
   "metadata": {},
   "outputs": [
    {
     "ename": "NameError",
     "evalue": "name 'choice' is not defined",
     "output_type": "error",
     "traceback": [
      "\u001b[1;31m---------------------------------------------------------------------------\u001b[0m",
      "\u001b[1;31mNameError\u001b[0m                                 Traceback (most recent call last)",
      "Cell \u001b[1;32mIn[20], line 1\u001b[0m\n\u001b[1;32m----> 1\u001b[0m choice([\u001b[38;5;124m\"\u001b[39m\u001b[38;5;124msahil\u001b[39m\u001b[38;5;124m\"\u001b[39m, \u001b[38;5;124m\"\u001b[39m\u001b[38;5;124mpratham\u001b[39m\u001b[38;5;124m\"\u001b[39m, \u001b[38;5;124m\"\u001b[39m\u001b[38;5;124mprashant\u001b[39m\u001b[38;5;124m\"\u001b[39m])\n",
      "\u001b[1;31mNameError\u001b[0m: name 'choice' is not defined"
     ]
    }
   ],
   "source": [
    "choice([\"sahil\", \"pratham\", \"prashant\"])"
   ]
  },
  {
   "cell_type": "code",
   "execution_count": 22,
   "id": "fd8dc6f6-276d-4d1c-94ca-6cd73b44879f",
   "metadata": {},
   "outputs": [],
   "source": [
    "from datetime import datetime"
   ]
  },
  {
   "cell_type": "code",
   "execution_count": 23,
   "id": "1a5e27ff-9957-40e1-9e49-093cb69118d4",
   "metadata": {},
   "outputs": [
    {
     "data": {
      "text/plain": [
       "datetime.datetime(2025, 8, 19, 13, 14, 52, 252802)"
      ]
     },
     "execution_count": 23,
     "metadata": {},
     "output_type": "execute_result"
    }
   ],
   "source": [
    "datetime.today()"
   ]
  },
  {
   "cell_type": "code",
   "execution_count": 24,
   "id": "c3f7579f-3679-4688-9ac9-e11f85428e83",
   "metadata": {},
   "outputs": [],
   "source": [
    "a = datetime.now()"
   ]
  },
  {
   "cell_type": "code",
   "execution_count": 26,
   "id": "68022b9c-f7f7-4d61-9d61-4e76039b5757",
   "metadata": {},
   "outputs": [
    {
     "name": "stdout",
     "output_type": "stream",
     "text": [
      "Help on int object:\n",
      "\n",
      "class int(object)\n",
      " |  int([x]) -> integer\n",
      " |  int(x, base=10) -> integer\n",
      " |\n",
      " |  Convert a number or string to an integer, or return 0 if no arguments\n",
      " |  are given.  If x is a number, return x.__int__().  For floating-point\n",
      " |  numbers, this truncates towards zero.\n",
      " |\n",
      " |  If x is not a number or if base is given, then x must be a string,\n",
      " |  bytes, or bytearray instance representing an integer literal in the\n",
      " |  given base.  The literal can be preceded by '+' or '-' and be surrounded\n",
      " |  by whitespace.  The base defaults to 10.  Valid bases are 0 and 2-36.\n",
      " |  Base 0 means to interpret the base from the string as an integer literal.\n",
      " |  >>> int('0b100', base=0)\n",
      " |  4\n",
      " |\n",
      " |  Built-in subclasses:\n",
      " |      bool\n",
      " |\n",
      " |  Methods defined here:\n",
      " |\n",
      " |  __abs__(self, /)\n",
      " |      abs(self)\n",
      " |\n",
      " |  __add__(self, value, /)\n",
      " |      Return self+value.\n",
      " |\n",
      " |  __and__(self, value, /)\n",
      " |      Return self&value.\n",
      " |\n",
      " |  __bool__(self, /)\n",
      " |      True if self else False\n",
      " |\n",
      " |  __ceil__(self, /)\n",
      " |      Ceiling of an Integral returns itself.\n",
      " |\n",
      " |  __divmod__(self, value, /)\n",
      " |      Return divmod(self, value).\n",
      " |\n",
      " |  __eq__(self, value, /)\n",
      " |      Return self==value.\n",
      " |\n",
      " |  __float__(self, /)\n",
      " |      float(self)\n",
      " |\n",
      " |  __floor__(self, /)\n",
      " |      Flooring an Integral returns itself.\n",
      " |\n",
      " |  __floordiv__(self, value, /)\n",
      " |      Return self//value.\n",
      " |\n",
      " |  __format__(self, format_spec, /)\n",
      " |      Convert to a string according to format_spec.\n",
      " |\n",
      " |  __ge__(self, value, /)\n",
      " |      Return self>=value.\n",
      " |\n",
      " |  __getattribute__(self, name, /)\n",
      " |      Return getattr(self, name).\n",
      " |\n",
      " |  __getnewargs__(self, /)\n",
      " |\n",
      " |  __gt__(self, value, /)\n",
      " |      Return self>value.\n",
      " |\n",
      " |  __hash__(self, /)\n",
      " |      Return hash(self).\n",
      " |\n",
      " |  __index__(self, /)\n",
      " |      Return self converted to an integer, if self is suitable for use as an index into a list.\n",
      " |\n",
      " |  __int__(self, /)\n",
      " |      int(self)\n",
      " |\n",
      " |  __invert__(self, /)\n",
      " |      ~self\n",
      " |\n",
      " |  __le__(self, value, /)\n",
      " |      Return self<=value.\n",
      " |\n",
      " |  __lshift__(self, value, /)\n",
      " |      Return self<<value.\n",
      " |\n",
      " |  __lt__(self, value, /)\n",
      " |      Return self<value.\n",
      " |\n",
      " |  __mod__(self, value, /)\n",
      " |      Return self%value.\n",
      " |\n",
      " |  __mul__(self, value, /)\n",
      " |      Return self*value.\n",
      " |\n",
      " |  __ne__(self, value, /)\n",
      " |      Return self!=value.\n",
      " |\n",
      " |  __neg__(self, /)\n",
      " |      -self\n",
      " |\n",
      " |  __or__(self, value, /)\n",
      " |      Return self|value.\n",
      " |\n",
      " |  __pos__(self, /)\n",
      " |      +self\n",
      " |\n",
      " |  __pow__(self, value, mod=None, /)\n",
      " |      Return pow(self, value, mod).\n",
      " |\n",
      " |  __radd__(self, value, /)\n",
      " |      Return value+self.\n",
      " |\n",
      " |  __rand__(self, value, /)\n",
      " |      Return value&self.\n",
      " |\n",
      " |  __rdivmod__(self, value, /)\n",
      " |      Return divmod(value, self).\n",
      " |\n",
      " |  __repr__(self, /)\n",
      " |      Return repr(self).\n",
      " |\n",
      " |  __rfloordiv__(self, value, /)\n",
      " |      Return value//self.\n",
      " |\n",
      " |  __rlshift__(self, value, /)\n",
      " |      Return value<<self.\n",
      " |\n",
      " |  __rmod__(self, value, /)\n",
      " |      Return value%self.\n",
      " |\n",
      " |  __rmul__(self, value, /)\n",
      " |      Return value*self.\n",
      " |\n",
      " |  __ror__(self, value, /)\n",
      " |      Return value|self.\n",
      " |\n",
      " |  __round__(self, ndigits=<unrepresentable>, /)\n",
      " |      Rounding an Integral returns itself.\n",
      " |\n",
      " |      Rounding with an ndigits argument also returns an integer.\n",
      " |\n",
      " |  __rpow__(self, value, mod=None, /)\n",
      " |      Return pow(value, self, mod).\n",
      " |\n",
      " |  __rrshift__(self, value, /)\n",
      " |      Return value>>self.\n",
      " |\n",
      " |  __rshift__(self, value, /)\n",
      " |      Return self>>value.\n",
      " |\n",
      " |  __rsub__(self, value, /)\n",
      " |      Return value-self.\n",
      " |\n",
      " |  __rtruediv__(self, value, /)\n",
      " |      Return value/self.\n",
      " |\n",
      " |  __rxor__(self, value, /)\n",
      " |      Return value^self.\n",
      " |\n",
      " |  __sizeof__(self, /)\n",
      " |      Returns size in memory, in bytes.\n",
      " |\n",
      " |  __sub__(self, value, /)\n",
      " |      Return self-value.\n",
      " |\n",
      " |  __truediv__(self, value, /)\n",
      " |      Return self/value.\n",
      " |\n",
      " |  __trunc__(self, /)\n",
      " |      Truncating an Integral returns itself.\n",
      " |\n",
      " |  __xor__(self, value, /)\n",
      " |      Return self^value.\n",
      " |\n",
      " |  as_integer_ratio(self, /)\n",
      " |      Return a pair of integers, whose ratio is equal to the original int.\n",
      " |\n",
      " |      The ratio is in lowest terms and has a positive denominator.\n",
      " |\n",
      " |      >>> (10).as_integer_ratio()\n",
      " |      (10, 1)\n",
      " |      >>> (-10).as_integer_ratio()\n",
      " |      (-10, 1)\n",
      " |      >>> (0).as_integer_ratio()\n",
      " |      (0, 1)\n",
      " |\n",
      " |  bit_count(self, /)\n",
      " |      Number of ones in the binary representation of the absolute value of self.\n",
      " |\n",
      " |      Also known as the population count.\n",
      " |\n",
      " |      >>> bin(13)\n",
      " |      '0b1101'\n",
      " |      >>> (13).bit_count()\n",
      " |      3\n",
      " |\n",
      " |  bit_length(self, /)\n",
      " |      Number of bits necessary to represent self in binary.\n",
      " |\n",
      " |      >>> bin(37)\n",
      " |      '0b100101'\n",
      " |      >>> (37).bit_length()\n",
      " |      6\n",
      " |\n",
      " |  conjugate(self, /)\n",
      " |      Returns self, the complex conjugate of any int.\n",
      " |\n",
      " |  is_integer(self, /)\n",
      " |      Returns True. Exists for duck type compatibility with float.is_integer.\n",
      " |\n",
      " |  to_bytes(self, /, length=1, byteorder='big', *, signed=False)\n",
      " |      Return an array of bytes representing an integer.\n",
      " |\n",
      " |      length\n",
      " |        Length of bytes object to use.  An OverflowError is raised if the\n",
      " |        integer is not representable with the given number of bytes.  Default\n",
      " |        is length 1.\n",
      " |      byteorder\n",
      " |        The byte order used to represent the integer.  If byteorder is 'big',\n",
      " |        the most significant byte is at the beginning of the byte array.  If\n",
      " |        byteorder is 'little', the most significant byte is at the end of the\n",
      " |        byte array.  To request the native byte order of the host system, use\n",
      " |        sys.byteorder as the byte order value.  Default is to use 'big'.\n",
      " |      signed\n",
      " |        Determines whether two's complement is used to represent the integer.\n",
      " |        If signed is False and a negative integer is given, an OverflowError\n",
      " |        is raised.\n",
      " |\n",
      " |  ----------------------------------------------------------------------\n",
      " |  Class methods defined here:\n",
      " |\n",
      " |  from_bytes(bytes, byteorder='big', *, signed=False)\n",
      " |      Return the integer represented by the given array of bytes.\n",
      " |\n",
      " |      bytes\n",
      " |        Holds the array of bytes to convert.  The argument must either\n",
      " |        support the buffer protocol or be an iterable object producing bytes.\n",
      " |        Bytes and bytearray are examples of built-in objects that support the\n",
      " |        buffer protocol.\n",
      " |      byteorder\n",
      " |        The byte order used to represent the integer.  If byteorder is 'big',\n",
      " |        the most significant byte is at the beginning of the byte array.  If\n",
      " |        byteorder is 'little', the most significant byte is at the end of the\n",
      " |        byte array.  To request the native byte order of the host system, use\n",
      " |        sys.byteorder as the byte order value.  Default is to use 'big'.\n",
      " |      signed\n",
      " |        Indicates whether two's complement is used to represent the integer.\n",
      " |\n",
      " |  ----------------------------------------------------------------------\n",
      " |  Static methods defined here:\n",
      " |\n",
      " |  __new__(*args, **kwargs)\n",
      " |      Create and return a new object.  See help(type) for accurate signature.\n",
      " |\n",
      " |  ----------------------------------------------------------------------\n",
      " |  Data descriptors defined here:\n",
      " |\n",
      " |  denominator\n",
      " |      the denominator of a rational number in lowest terms\n",
      " |\n",
      " |  imag\n",
      " |      the imaginary part of a complex number\n",
      " |\n",
      " |  numerator\n",
      " |      the numerator of a rational number in lowest terms\n",
      " |\n",
      " |  real\n",
      " |      the real part of a complex number\n",
      "\n"
     ]
    }
   ],
   "source": [
    "help(a.fold)"
   ]
  },
  {
   "cell_type": "markdown",
   "id": "24d5b8dc-06f4-4ca2-9f37-b4e477b968bd",
   "metadata": {},
   "source": []
  },
  {
   "cell_type": "code",
   "execution_count": 27,
   "id": "7a5b92e6-9f0a-44f2-8869-740174aeaf21",
   "metadata": {},
   "outputs": [
    {
     "data": {
      "text/plain": [
       "datetime.datetime(9999, 12, 31, 23, 59, 59, 999999)"
      ]
     },
     "execution_count": 27,
     "metadata": {},
     "output_type": "execute_result"
    }
   ],
   "source": [
    "a.max"
   ]
  },
  {
   "cell_type": "code",
   "execution_count": 34,
   "id": "21c929b0-7586-4b39-aebd-478e1bc400f4",
   "metadata": {},
   "outputs": [],
   "source": [
    "import datetime"
   ]
  },
  {
   "cell_type": "code",
   "execution_count": 35,
   "id": "b858dc4b-819f-493b-b2c8-6462e325211a",
   "metadata": {},
   "outputs": [],
   "source": [
    "from datetime import datetime\n"
   ]
  },
  {
   "cell_type": "code",
   "execution_count": 37,
   "id": "ba6e8efa-254c-4ccf-a1a7-9712780542bf",
   "metadata": {},
   "outputs": [
    {
     "data": {
      "text/plain": [
       "datetime.datetime(2025, 8, 19, 13, 35, 8, 24209)"
      ]
     },
     "execution_count": 37,
     "metadata": {},
     "output_type": "execute_result"
    }
   ],
   "source": [
    "datetime.today()"
   ]
  },
  {
   "cell_type": "code",
   "execution_count": null,
   "id": "6421c890-7eac-4dce-b428-fdb4e7141fc6",
   "metadata": {},
   "outputs": [],
   "source": []
  }
 ],
 "metadata": {
  "kernelspec": {
   "display_name": "Python [conda env:base] *",
   "language": "python",
   "name": "conda-base-py"
  },
  "language_info": {
   "codemirror_mode": {
    "name": "ipython",
    "version": 3
   },
   "file_extension": ".py",
   "mimetype": "text/x-python",
   "name": "python",
   "nbconvert_exporter": "python",
   "pygments_lexer": "ipython3",
   "version": "3.13.5"
  }
 },
 "nbformat": 4,
 "nbformat_minor": 5
}
