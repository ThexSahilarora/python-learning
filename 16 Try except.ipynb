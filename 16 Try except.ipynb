{
 "cells": [
  {
   "cell_type": "code",
   "execution_count": 1,
   "id": "523b1b4e-b7c2-4ed7-aa30-cc9c167d9b80",
   "metadata": {},
   "outputs": [
    {
     "name": "stdout",
     "output_type": "stream",
     "text": [
      "hi\n"
     ]
    },
    {
     "ename": "ZeroDivisionError",
     "evalue": "division by zero",
     "output_type": "error",
     "traceback": [
      "\u001b[1;31m---------------------------------------------------------------------------\u001b[0m",
      "\u001b[1;31mZeroDivisionError\u001b[0m                         Traceback (most recent call last)",
      "Cell \u001b[1;32mIn[1], line 2\u001b[0m\n\u001b[0;32m      1\u001b[0m \u001b[38;5;28mprint\u001b[39m(\u001b[38;5;124m'\u001b[39m\u001b[38;5;124mhi\u001b[39m\u001b[38;5;124m'\u001b[39m)\n\u001b[1;32m----> 2\u001b[0m \u001b[38;5;28mprint\u001b[39m(\u001b[38;5;241m5\u001b[39m\u001b[38;5;241m/\u001b[39m\u001b[38;5;241m0\u001b[39m)\n\u001b[0;32m      3\u001b[0m \u001b[38;5;28mprint\u001b[39m(\u001b[38;5;124m'\u001b[39m\u001b[38;5;124mhello\u001b[39m\u001b[38;5;124m'\u001b[39m)\n",
      "\u001b[1;31mZeroDivisionError\u001b[0m: division by zero"
     ]
    }
   ],
   "source": [
    "print('hi')\n",
    "print(5/0)\n",
    "print('hello')"
   ]
  },
  {
   "cell_type": "code",
   "execution_count": 2,
   "id": "ab0a683a-6b42-4dfa-a89c-fa114d751424",
   "metadata": {},
   "outputs": [
    {
     "name": "stdout",
     "output_type": "stream",
     "text": [
      "hi\n",
      "nhi chla code\n"
     ]
    }
   ],
   "source": [
    "try:\n",
    "    print(\"hi\")\n",
    "    print(5/0)\n",
    "    print('hello')\n",
    "\n",
    "except:\n",
    "    print('nhi chla code')"
   ]
  },
  {
   "cell_type": "code",
   "execution_count": 5,
   "id": "e5a59811-d5ff-4992-9e8c-85f2af1462fa",
   "metadata": {},
   "outputs": [
    {
     "name": "stdout",
     "output_type": "stream",
     "text": [
      "hi\n",
      "5\n",
      "hello\n",
      "hello, hn chl gya\n",
      "finally run hoga hi hoga if error aaye ya na\n"
     ]
    }
   ],
   "source": [
    "try:\n",
    "    print(\"hi\")\n",
    "    print(5)\n",
    "    print('hello')\n",
    "\n",
    "except:\n",
    "    print('nhi chla code')\n",
    "else:\n",
    "    print('hello, hn chl gya')\n",
    "finally:\n",
    "    print('finally run hoga hi hoga if error aaye ya na')"
   ]
  },
  {
   "cell_type": "code",
   "execution_count": 6,
   "id": "c963bd3b-2490-481a-89d8-11a45ec8943d",
   "metadata": {},
   "outputs": [
    {
     "name": "stdout",
     "output_type": "stream",
     "text": [
      "hi\n",
      "nhi chla code\n",
      "finally run hoga hi hoga if error aaye ya na\n"
     ]
    }
   ],
   "source": [
    "try:\n",
    "    print(\"hi\")\n",
    "    print(5/0)\n",
    "    print('hello')\n",
    "\n",
    "except:\n",
    "    print('nhi chla code')\n",
    "else:\n",
    "    print('hello, hn chl gya')\n",
    "finally:\n",
    "    print('finally run hoga hi hoga if error aaye ya na')"
   ]
  },
  {
   "cell_type": "code",
   "execution_count": 10,
   "id": "829369a2-983f-4936-898f-8dcca19dfbe1",
   "metadata": {},
   "outputs": [
    {
     "name": "stdout",
     "output_type": "stream",
     "text": [
      "hi\n",
      "zerodivisionerror aaya h\n",
      "finally run hoga hi hoga if error aaye ya na\n"
     ]
    }
   ],
   "source": [
    "try:\n",
    "    print(\"hi\")\n",
    "    print(5/0)\n",
    "    print('hello')\n",
    "\n",
    "except ZeroDivisionError:\n",
    "    print(\"zerodivisionerror aaya h\")\n",
    "except:\n",
    "    print('error h')\n",
    "else:\n",
    "    print('hello, hn chl gya')\n",
    "finally:\n",
    "    print('finally run hoga hi hoga if error aaye ya na')"
   ]
  },
  {
   "cell_type": "code",
   "execution_count": 20,
   "id": "6173b34c-56a7-4c02-a1a8-2d2ddb57647b",
   "metadata": {},
   "outputs": [
    {
     "name": "stdin",
     "output_type": "stream",
     "text": [
      " 25\n"
     ]
    },
    {
     "name": "stdout",
     "output_type": "stream",
     "text": [
      "20.0\n",
      "everything worked fine\n",
      "close connection\n"
     ]
    }
   ],
   "source": [
    "try:\n",
    "  a = 500\n",
    "  b = int(input())\n",
    "  c = a/b\n",
    "  print(c)\n",
    "except valueerror as v:\n",
    "    print(v)\n",
    "except zerodivisionerror as z:\n",
    "    print(z)\n",
    "except:\n",
    "    print(\"check something\")\n",
    "else:\n",
    "    print(\"everything worked fine\")\n",
    "finally:\n",
    "    print(\"close connection\")"
   ]
  },
  {
   "cell_type": "code",
   "execution_count": 19,
   "id": "79318798-ac70-4aef-af3e-198ed130d950",
   "metadata": {},
   "outputs": [],
   "source": [
    "# try and except is an important topic\n"
   ]
  },
  {
   "cell_type": "code",
   "execution_count": null,
   "id": "b9865419-cc72-458c-9228-3bb828c85d7f",
   "metadata": {},
   "outputs": [],
   "source": []
  }
 ],
 "metadata": {
  "kernelspec": {
   "display_name": "Python [conda env:base] *",
   "language": "python",
   "name": "conda-base-py"
  },
  "language_info": {
   "codemirror_mode": {
    "name": "ipython",
    "version": 3
   },
   "file_extension": ".py",
   "mimetype": "text/x-python",
   "name": "python",
   "nbconvert_exporter": "python",
   "pygments_lexer": "ipython3",
   "version": "3.13.5"
  }
 },
 "nbformat": 4,
 "nbformat_minor": 5
}
