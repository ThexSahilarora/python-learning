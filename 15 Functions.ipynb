{
 "cells": [
  {
   "cell_type": "markdown",
   "id": "25a34a64-3322-43fb-9a7e-ca3c889ec066",
   "metadata": {},
   "source": [
    "# Functions"
   ]
  },
  {
   "cell_type": "markdown",
   "id": "80cb5544-5de8-4836-bd37-4439f3177ecb",
   "metadata": {},
   "source": [
    "# functions store codes, and it execute the code when called"
   ]
  },
  {
   "cell_type": "code",
   "execution_count": 3,
   "id": "d4d45064-9ce8-4a61-af4b-c8d5f426c0e1",
   "metadata": {},
   "outputs": [],
   "source": [
    "#  define a function\n",
    "\n",
    "def greeting():\n",
    "    print(\"hello everyone nice to meet you\")\n",
    "    # pprint(2+2)"
   ]
  },
  {
   "cell_type": "code",
   "execution_count": 4,
   "id": "853ac4c8-a1d6-4617-8157-c637a691087e",
   "metadata": {},
   "outputs": [
    {
     "name": "stdout",
     "output_type": "stream",
     "text": [
      "hello everyone nice to meet you\n"
     ]
    }
   ],
   "source": [
    "# call a function\n",
    "greeting()"
   ]
  },
  {
   "cell_type": "markdown",
   "id": "0541ff3b-1d1c-4d58-b0c2-2859d7673f29",
   "metadata": {},
   "source": [
    "### Type of functions"
   ]
  },
  {
   "cell_type": "code",
   "execution_count": 6,
   "id": "9272c768-b1e1-4792-8afc-aabb1dd289ff",
   "metadata": {},
   "outputs": [
    {
     "name": "stdout",
     "output_type": "stream",
     "text": [
      "hi\n"
     ]
    },
    {
     "data": {
      "text/plain": [
       "5"
      ]
     },
     "execution_count": 6,
     "metadata": {},
     "output_type": "execute_result"
    }
   ],
   "source": [
    "# built in function\n",
    "print('hi')\n",
    "len('sahil')"
   ]
  },
  {
   "cell_type": "markdown",
   "id": "88ec44b7-5e99-451e-875e-262c9bf889bc",
   "metadata": {},
   "source": [
    "### user defined functions"
   ]
  },
  {
   "cell_type": "code",
   "execution_count": 12,
   "id": "530c1899-bd27-4f57-9f54-2ba410028604",
   "metadata": {},
   "outputs": [],
   "source": [
    "# input functions\n",
    "def greeting(name):\n",
    "    print(f\"hello {name} nice to meet to you\")"
   ]
  },
  {
   "cell_type": "code",
   "execution_count": 13,
   "id": "8aa83719-f142-4568-a2ae-2ec080093938",
   "metadata": {},
   "outputs": [
    {
     "name": "stdout",
     "output_type": "stream",
     "text": [
      "hello sahil nice to meet to you\n"
     ]
    }
   ],
   "source": [
    "greeting(\"sahil\")"
   ]
  },
  {
   "cell_type": "code",
   "execution_count": 14,
   "id": "1bb9ef20-9a43-4850-bc40-229ccb1dc7bc",
   "metadata": {},
   "outputs": [],
   "source": [
    "def area_of_circle(r):\n",
    "    print((22/7)*r*r)"
   ]
  },
  {
   "cell_type": "code",
   "execution_count": 15,
   "id": "9b986c43-e111-49ec-a9ae-89c488515a5b",
   "metadata": {},
   "outputs": [
    {
     "name": "stdout",
     "output_type": "stream",
     "text": [
      "78.57142857142857\n"
     ]
    }
   ],
   "source": [
    "area_of_circle(5)"
   ]
  },
  {
   "cell_type": "markdown",
   "id": "cc85d53a-e6df-4b9b-b1ae-7b97beda1317",
   "metadata": {},
   "source": [
    "### scope"
   ]
  },
  {
   "cell_type": "code",
   "execution_count": 19,
   "id": "aaa67dbf-6fdd-4394-af20-083657ab49d0",
   "metadata": {},
   "outputs": [],
   "source": [
    "\n",
    "# global scope\n",
    "\n",
    "job = \"netmax\"\n",
    "def myprofile():\n",
    "    name = \"sahil\"\n",
    "    age = 24\n",
    "    education = \"B.COM\"\n",
    "    job = \"hunting\"\n",
    "    print(name, age, education, job)"
   ]
  },
  {
   "cell_type": "code",
   "execution_count": 20,
   "id": "f1620e7a-debe-4411-9860-dab1d4c3eec3",
   "metadata": {},
   "outputs": [
    {
     "name": "stdout",
     "output_type": "stream",
     "text": [
      "sahil 24 B.COM hunting\n"
     ]
    }
   ],
   "source": [
    "myprofile()"
   ]
  },
  {
   "cell_type": "code",
   "execution_count": 21,
   "id": "bd7d7bf3-0a70-4590-8ff1-9c72c4d67812",
   "metadata": {},
   "outputs": [
    {
     "data": {
      "text/plain": [
       "'netmax'"
      ]
     },
     "execution_count": 21,
     "metadata": {},
     "output_type": "execute_result"
    }
   ],
   "source": [
    "job"
   ]
  },
  {
   "cell_type": "code",
   "execution_count": 22,
   "id": "1e680a0b-d532-4fb4-acd4-5f07625a10cb",
   "metadata": {},
   "outputs": [
    {
     "ename": "NameError",
     "evalue": "name 'name' is not defined",
     "output_type": "error",
     "traceback": [
      "\u001b[1;31m---------------------------------------------------------------------------\u001b[0m",
      "\u001b[1;31mNameError\u001b[0m                                 Traceback (most recent call last)",
      "Cell \u001b[1;32mIn[22], line 1\u001b[0m\n\u001b[1;32m----> 1\u001b[0m name\n",
      "\u001b[1;31mNameError\u001b[0m: name 'name' is not defined"
     ]
    }
   ],
   "source": [
    "name"
   ]
  },
  {
   "cell_type": "code",
   "execution_count": 24,
   "id": "287f31e0-3d1b-469d-a0b2-516f0d489c36",
   "metadata": {},
   "outputs": [],
   "source": [
    "# default function\n",
    "def greeting(name = \"USER\"):\n",
    "    print(f\"hello {name} nice to meet you\")"
   ]
  },
  {
   "cell_type": "code",
   "execution_count": 25,
   "id": "db97e1ba-ae0e-40ef-8268-def2b1dae0d1",
   "metadata": {},
   "outputs": [
    {
     "name": "stdout",
     "output_type": "stream",
     "text": [
      "hello USER nice to meet you\n"
     ]
    }
   ],
   "source": [
    "greeting()"
   ]
  },
  {
   "cell_type": "code",
   "execution_count": 27,
   "id": "8804dfe7-bc30-418c-a1c6-975c588a7f59",
   "metadata": {},
   "outputs": [
    {
     "name": "stdout",
     "output_type": "stream",
     "text": [
      "hello sahil nice to meet you\n"
     ]
    }
   ],
   "source": [
    "greeting(\"sahil\")"
   ]
  },
  {
   "cell_type": "code",
   "execution_count": 32,
   "id": "bd937e7d-66e5-4ec2-8289-9bbc88264616",
   "metadata": {},
   "outputs": [],
   "source": [
    "# return function\n",
    "\n",
    "def salary_structure(salary, tax_rate):\n",
    "\n",
    "    tax = salary*tax_rate\n",
    "    print(tax)"
   ]
  },
  {
   "cell_type": "code",
   "execution_count": 33,
   "id": "db0b4208-b4c3-4d99-932f-93d73732e2b8",
   "metadata": {},
   "outputs": [
    {
     "name": "stdout",
     "output_type": "stream",
     "text": [
      "9600.0\n"
     ]
    }
   ],
   "source": [
    " salary_structure(80000, 0.12)"
   ]
  },
  {
   "cell_type": "code",
   "execution_count": 34,
   "id": "b2eaf392-653a-446a-93a0-b35ef5c4dacd",
   "metadata": {},
   "outputs": [
    {
     "name": "stdout",
     "output_type": "stream",
     "text": [
      "9600.0\n"
     ]
    }
   ],
   "source": [
    "tax =  salary_structure(80000, 0.12)"
   ]
  },
  {
   "cell_type": "code",
   "execution_count": 37,
   "id": "3d536784-b1b4-41ad-8c41-da36ea2e855b",
   "metadata": {},
   "outputs": [],
   "source": [
    "#  INSIDE ( ) whatever we write in this () is said to be parameter \n",
    "#  like def salary_structure(salary, tax rate is said to be prameter)\n",
    "# whatever \n"
   ]
  },
  {
   "cell_type": "code",
   "execution_count": 45,
   "id": "ab3fb04f-a03b-4afe-af92-7d1ab0f696ae",
   "metadata": {},
   "outputs": [],
   "source": [
    "def volume_of_cuboid(length, width, height):\n",
    "    \"\"\"\n",
    "    this function calculates volume of cuboid\n",
    "    it takes length, width, height, as input and multiplies them\n",
    "    \"\"\"\n",
    "    dimensions = f\"\"\"\n",
    "    length : {length}\n",
    "    width :  {width}\n",
    "    height :  {height}\n",
    "    \"\"\"\n",
    "    print(dimensions)\n",
    "    return length*width*height"
   ]
  },
  {
   "cell_type": "code",
   "execution_count": 46,
   "id": "7145eebe-a063-400e-af57-bd0167c65caa",
   "metadata": {},
   "outputs": [
    {
     "name": "stdout",
     "output_type": "stream",
     "text": [
      "\n",
      "    length : 80\n",
      "    width :  50\n",
      "    height :  100\n",
      "    \n"
     ]
    },
    {
     "data": {
      "text/plain": [
       "400000"
      ]
     },
     "execution_count": 46,
     "metadata": {},
     "output_type": "execute_result"
    }
   ],
   "source": [
    "volume_of_cuboid(80, 50, 100)"
   ]
  },
  {
   "cell_type": "code",
   "execution_count": 47,
   "id": "f7ab6878-9926-45c8-b712-e12249c64ad3",
   "metadata": {},
   "outputs": [
    {
     "name": "stdout",
     "output_type": "stream",
     "text": [
      "Help on function volume_of_cuboid in module __main__:\n",
      "\n",
      "volume_of_cuboid(length, width, height)\n",
      "    this function calculates volume of cuboid\n",
      "    it takes length, width, height, as input and multiplies them\n",
      "\n"
     ]
    }
   ],
   "source": [
    "help(volume_of_cuboid)"
   ]
  },
  {
   "cell_type": "code",
   "execution_count": null,
   "id": "12f9d714-8e81-4a90-9e03-a7af125a16ea",
   "metadata": {},
   "outputs": [],
   "source": []
  }
 ],
 "metadata": {
  "kernelspec": {
   "display_name": "Python [conda env:base] *",
   "language": "python",
   "name": "conda-base-py"
  },
  "language_info": {
   "codemirror_mode": {
    "name": "ipython",
    "version": 3
   },
   "file_extension": ".py",
   "mimetype": "text/x-python",
   "name": "python",
   "nbconvert_exporter": "python",
   "pygments_lexer": "ipython3",
   "version": "3.13.5"
  }
 },
 "nbformat": 4,
 "nbformat_minor": 5
}
