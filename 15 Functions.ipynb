{
 "cells": [
  {
   "cell_type": "markdown",
   "id": "25a34a64-3322-43fb-9a7e-ca3c889ec066",
   "metadata": {},
   "source": [
    "# Functions"
   ]
  },
  {
   "cell_type": "markdown",
   "id": "80cb5544-5de8-4836-bd37-4439f3177ecb",
   "metadata": {},
   "source": [
    "# functions store codes, and it execute the code when called"
   ]
  },
  {
   "cell_type": "code",
   "execution_count": 3,
   "id": "d4d45064-9ce8-4a61-af4b-c8d5f426c0e1",
   "metadata": {},
   "outputs": [],
   "source": [
    "#  define a function\n",
    "\n",
    "def greeting():\n",
    "    print(\"hello everyone nice to meet you\")\n",
    "    # pprint(2+2)"
   ]
  },
  {
   "cell_type": "code",
   "execution_count": 4,
   "id": "853ac4c8-a1d6-4617-8157-c637a691087e",
   "metadata": {},
   "outputs": [
    {
     "name": "stdout",
     "output_type": "stream",
     "text": [
      "hello everyone nice to meet you\n"
     ]
    }
   ],
   "source": [
    "# call a function\n",
    "greeting()"
   ]
  },
  {
   "cell_type": "markdown",
   "id": "0541ff3b-1d1c-4d58-b0c2-2859d7673f29",
   "metadata": {},
   "source": [
    "### Type of functions"
   ]
  },
  {
   "cell_type": "code",
   "execution_count": 6,
   "id": "9272c768-b1e1-4792-8afc-aabb1dd289ff",
   "metadata": {},
   "outputs": [
    {
     "name": "stdout",
     "output_type": "stream",
     "text": [
      "hi\n"
     ]
    },
    {
     "data": {
      "text/plain": [
       "5"
      ]
     },
     "execution_count": 6,
     "metadata": {},
     "output_type": "execute_result"
    }
   ],
   "source": [
    "# built in function\n",
    "print('hi')\n",
    "len('sahil')"
   ]
  },
  {
   "cell_type": "markdown",
   "id": "88ec44b7-5e99-451e-875e-262c9bf889bc",
   "metadata": {},
   "source": [
    "### user defined functions"
   ]
  },
  {
   "cell_type": "code",
   "execution_count": 12,
   "id": "530c1899-bd27-4f57-9f54-2ba410028604",
   "metadata": {},
   "outputs": [],
   "source": [
    "# input functions\n",
    "def greeting(name):\n",
    "    print(f\"hello {name} nice to meet to you\")"
   ]
  },
  {
   "cell_type": "code",
   "execution_count": 13,
   "id": "8aa83719-f142-4568-a2ae-2ec080093938",
   "metadata": {},
   "outputs": [
    {
     "name": "stdout",
     "output_type": "stream",
     "text": [
      "hello sahil nice to meet to you\n"
     ]
    }
   ],
   "source": [
    "greeting(\"sahil\")"
   ]
  },
  {
   "cell_type": "code",
   "execution_count": 14,
   "id": "1bb9ef20-9a43-4850-bc40-229ccb1dc7bc",
   "metadata": {},
   "outputs": [],
   "source": [
    "def area_of_circle(r):\n",
    "    print((22/7)*r*r)"
   ]
  },
  {
   "cell_type": "code",
   "execution_count": 15,
   "id": "9b986c43-e111-49ec-a9ae-89c488515a5b",
   "metadata": {},
   "outputs": [
    {
     "name": "stdout",
     "output_type": "stream",
     "text": [
      "78.57142857142857\n"
     ]
    }
   ],
   "source": [
    "area_of_circle(5)"
   ]
  },
  {
   "cell_type": "markdown",
   "id": "cc85d53a-e6df-4b9b-b1ae-7b97beda1317",
   "metadata": {},
   "source": [
    "### scope"
   ]
  },
  {
   "cell_type": "code",
   "execution_count": 19,
   "id": "aaa67dbf-6fdd-4394-af20-083657ab49d0",
   "metadata": {},
   "outputs": [],
   "source": [
    "\n",
    "# global scope\n",
    "\n",
    "job = \"netmax\"\n",
    "def myprofile():\n",
    "    name = \"sahil\"\n",
    "    age = 24\n",
    "    education = \"B.COM\"\n",
    "    job = \"hunting\"\n",
    "    print(name, age, education, job)"
   ]
  },
  {
   "cell_type": "code",
   "execution_count": 20,
   "id": "f1620e7a-debe-4411-9860-dab1d4c3eec3",
   "metadata": {},
   "outputs": [
    {
     "name": "stdout",
     "output_type": "stream",
     "text": [
      "sahil 24 B.COM hunting\n"
     ]
    }
   ],
   "source": [
    "myprofile()"
   ]
  },
  {
   "cell_type": "code",
   "execution_count": 21,
   "id": "bd7d7bf3-0a70-4590-8ff1-9c72c4d67812",
   "metadata": {},
   "outputs": [
    {
     "data": {
      "text/plain": [
       "'netmax'"
      ]
     },
     "execution_count": 21,
     "metadata": {},
     "output_type": "execute_result"
    }
   ],
   "source": [
    "job"
   ]
  },
  {
   "cell_type": "code",
   "execution_count": 22,
   "id": "1e680a0b-d532-4fb4-acd4-5f07625a10cb",
   "metadata": {},
   "outputs": [
    {
     "ename": "NameError",
     "evalue": "name 'name' is not defined",
     "output_type": "error",
     "traceback": [
      "\u001b[1;31m---------------------------------------------------------------------------\u001b[0m",
      "\u001b[1;31mNameError\u001b[0m                                 Traceback (most recent call last)",
      "Cell \u001b[1;32mIn[22], line 1\u001b[0m\n\u001b[1;32m----> 1\u001b[0m name\n",
      "\u001b[1;31mNameError\u001b[0m: name 'name' is not defined"
     ]
    }
   ],
   "source": [
    "name"
   ]
  },
  {
   "cell_type": "code",
   "execution_count": 24,
   "id": "287f31e0-3d1b-469d-a0b2-516f0d489c36",
   "metadata": {},
   "outputs": [],
   "source": [
    "# default function\n",
    "def greeting(name = \"USER\"):\n",
    "    print(f\"hello {name} nice to meet you\")"
   ]
  },
  {
   "cell_type": "code",
   "execution_count": 25,
   "id": "db97e1ba-ae0e-40ef-8268-def2b1dae0d1",
   "metadata": {},
   "outputs": [
    {
     "name": "stdout",
     "output_type": "stream",
     "text": [
      "hello USER nice to meet you\n"
     ]
    }
   ],
   "source": [
    "greeting()"
   ]
  },
  {
   "cell_type": "code",
   "execution_count": 27,
   "id": "8804dfe7-bc30-418c-a1c6-975c588a7f59",
   "metadata": {},
   "outputs": [
    {
     "name": "stdout",
     "output_type": "stream",
     "text": [
      "hello sahil nice to meet you\n"
     ]
    }
   ],
   "source": [
    "greeting(\"sahil\")"
   ]
  },
  {
   "cell_type": "code",
   "execution_count": 32,
   "id": "bd937e7d-66e5-4ec2-8289-9bbc88264616",
   "metadata": {},
   "outputs": [],
   "source": [
    "# return function\n",
    "\n",
    "def salary_structure(salary, tax_rate):\n",
    "\n",
    "    tax = salary*tax_rate\n",
    "    print(tax)"
   ]
  },
  {
   "cell_type": "code",
   "execution_count": 33,
   "id": "db0b4208-b4c3-4d99-932f-93d73732e2b8",
   "metadata": {},
   "outputs": [
    {
     "name": "stdout",
     "output_type": "stream",
     "text": [
      "9600.0\n"
     ]
    }
   ],
   "source": [
    " salary_structure(80000, 0.12)"
   ]
  },
  {
   "cell_type": "code",
   "execution_count": 34,
   "id": "b2eaf392-653a-446a-93a0-b35ef5c4dacd",
   "metadata": {},
   "outputs": [
    {
     "name": "stdout",
     "output_type": "stream",
     "text": [
      "9600.0\n"
     ]
    }
   ],
   "source": [
    "tax =  salary_structure(80000, 0.12)"
   ]
  },
  {
   "cell_type": "code",
   "execution_count": 37,
   "id": "3d536784-b1b4-41ad-8c41-da36ea2e855b",
   "metadata": {},
   "outputs": [],
   "source": [
    "#  INSIDE ( ) whatever we write in this () is said to be parameter \n",
    "#  like def salary_structure(salary, tax rate is said to be prameter)\n",
    "# whatever \n"
   ]
  },
  {
   "cell_type": "code",
   "execution_count": 45,
   "id": "ab3fb04f-a03b-4afe-af92-7d1ab0f696ae",
   "metadata": {},
   "outputs": [],
   "source": [
    "def volume_of_cuboid(length, width, height):\n",
    "    \"\"\"\n",
    "    this function calculates volume of cuboid\n",
    "    it takes length, width, height, as input and multiplies them\n",
    "    \"\"\"\n",
    "    dimensions = f\"\"\"\n",
    "    length : {length}\n",
    "    width :  {width}\n",
    "    height :  {height}\n",
    "    \"\"\"\n",
    "    print(dimensions)\n",
    "    return length*width*height"
   ]
  },
  {
   "cell_type": "code",
   "execution_count": 46,
   "id": "7145eebe-a063-400e-af57-bd0167c65caa",
   "metadata": {},
   "outputs": [
    {
     "name": "stdout",
     "output_type": "stream",
     "text": [
      "\n",
      "    length : 80\n",
      "    width :  50\n",
      "    height :  100\n",
      "    \n"
     ]
    },
    {
     "data": {
      "text/plain": [
       "400000"
      ]
     },
     "execution_count": 46,
     "metadata": {},
     "output_type": "execute_result"
    }
   ],
   "source": [
    "volume_of_cuboid(80, 50, 100)"
   ]
  },
  {
   "cell_type": "code",
   "execution_count": 47,
   "id": "f7ab6878-9926-45c8-b712-e12249c64ad3",
   "metadata": {},
   "outputs": [
    {
     "name": "stdout",
     "output_type": "stream",
     "text": [
      "Help on function volume_of_cuboid in module __main__:\n",
      "\n",
      "volume_of_cuboid(length, width, height)\n",
      "    this function calculates volume of cuboid\n",
      "    it takes length, width, height, as input and multiplies them\n",
      "\n"
     ]
    }
   ],
   "source": [
    "help(volume_of_cuboid)"
   ]
  },
  {
   "cell_type": "code",
   "execution_count": 5,
   "id": "12f9d714-8e81-4a90-9e03-a7af125a16ea",
   "metadata": {},
   "outputs": [],
   "source": [
    "def greetings(age, name = \"user\"):\n",
    "    return name, age"
   ]
  },
  {
   "cell_type": "code",
   "execution_count": 6,
   "id": "aa61a8d9-3cdb-44b7-ab08-dbc46c295c8e",
   "metadata": {},
   "outputs": [],
   "source": [
    "name, age = greetings(25)"
   ]
  },
  {
   "cell_type": "code",
   "execution_count": 7,
   "id": "f62709e6-6b07-40b5-b68c-b1d34c9737b2",
   "metadata": {},
   "outputs": [
    {
     "data": {
      "text/plain": [
       "25"
      ]
     },
     "execution_count": 7,
     "metadata": {},
     "output_type": "execute_result"
    }
   ],
   "source": [
    "age"
   ]
  },
  {
   "cell_type": "code",
   "execution_count": 8,
   "id": "66a4fc0e-608a-42b4-8609-210c21e651e5",
   "metadata": {},
   "outputs": [],
   "source": [
    "def check_palindrome(n):\n",
    "    return str(n) == str(n) [::-1]"
   ]
  },
  {
   "cell_type": "code",
   "execution_count": 9,
   "id": "78590054-a145-49d2-b5c3-49a2dab790e1",
   "metadata": {},
   "outputs": [
    {
     "data": {
      "text/plain": [
       "True"
      ]
     },
     "execution_count": 9,
     "metadata": {},
     "output_type": "execute_result"
    }
   ],
   "source": [
    "check_palindrome(\"shs\")"
   ]
  },
  {
   "cell_type": "code",
   "execution_count": 10,
   "id": "8ae31068-eeb5-46e3-b832-5c350597d8b8",
   "metadata": {},
   "outputs": [
    {
     "data": {
      "text/plain": [
       "False"
      ]
     },
     "execution_count": 10,
     "metadata": {},
     "output_type": "execute_result"
    }
   ],
   "source": [
    "check_palindrome(\"sahil\")"
   ]
  },
  {
   "cell_type": "code",
   "execution_count": 11,
   "id": "3d283790-953c-4106-a320-8a9bdd6a6c65",
   "metadata": {},
   "outputs": [],
   "source": [
    "def check_palindrome(n=None):\n",
    "    n = n or input()\n",
    "    return str(n).strip().lower() == str(n)[::-1].strip().lower()"
   ]
  },
  {
   "cell_type": "code",
   "execution_count": 12,
   "id": "5dd70699-6ab8-4464-8575-fc8c25991977",
   "metadata": {},
   "outputs": [
    {
     "name": "stdin",
     "output_type": "stream",
     "text": [
      " 121\n"
     ]
    },
    {
     "data": {
      "text/plain": [
       "True"
      ]
     },
     "execution_count": 12,
     "metadata": {},
     "output_type": "execute_result"
    }
   ],
   "source": [
    "check_palindrome()"
   ]
  },
  {
   "cell_type": "code",
   "execution_count": 19,
   "id": "5f0338df-2f5b-4fa0-80f3-fc21a1959314",
   "metadata": {},
   "outputs": [],
   "source": [
    "def checkprime():\n",
    "    pass"
   ]
  },
  {
   "cell_type": "code",
   "execution_count": 17,
   "id": "cbc69b7e-8dd0-49f3-9c18-48dcd60fc704",
   "metadata": {},
   "outputs": [
    {
     "data": {
      "text/plain": [
       "45"
      ]
     },
     "execution_count": 17,
     "metadata": {},
     "output_type": "execute_result"
    }
   ],
   "source": [
    "\"\" or 45"
   ]
  },
  {
   "cell_type": "code",
   "execution_count": 22,
   "id": "a86bca6d-366b-4e52-a5c1-e4c6c5cb21e0",
   "metadata": {},
   "outputs": [
    {
     "data": {
      "text/plain": [
       "21"
      ]
     },
     "execution_count": 22,
     "metadata": {},
     "output_type": "execute_result"
    }
   ],
   "source": [
    "21 or 20"
   ]
  },
  {
   "cell_type": "code",
   "execution_count": 23,
   "id": "474f1890-1eb5-4645-b60b-78d5361c40a9",
   "metadata": {},
   "outputs": [],
   "source": [
    "def checkprime(n):\n",
    "    for i in range(2, n):\n",
    "        if n % 1 == 0:\n",
    "            return False\n",
    "        return True"
   ]
  },
  {
   "cell_type": "code",
   "execution_count": 24,
   "id": "6e7e174d-9513-4e46-89ae-2f0fc749b733",
   "metadata": {},
   "outputs": [
    {
     "data": {
      "text/plain": [
       "False"
      ]
     },
     "execution_count": 24,
     "metadata": {},
     "output_type": "execute_result"
    }
   ],
   "source": [
    "checkprime(7)"
   ]
  },
  {
   "cell_type": "code",
   "execution_count": 27,
   "id": "ea6a1d04-24f1-4a48-8f80-e6bdda26452a",
   "metadata": {},
   "outputs": [],
   "source": [
    "def checkprime(n):\n",
    "    for i in range(2, n):\n",
    "        print(n, i, n%i)\n",
    "        if n % i == 0:\n",
    "            return False\n",
    "        return True"
   ]
  },
  {
   "cell_type": "code",
   "execution_count": 28,
   "id": "6991ebe6-2aba-4567-8e03-a81a1c918bcc",
   "metadata": {},
   "outputs": [
    {
     "name": "stdout",
     "output_type": "stream",
     "text": [
      "25 2 1\n"
     ]
    },
    {
     "data": {
      "text/plain": [
       "True"
      ]
     },
     "execution_count": 28,
     "metadata": {},
     "output_type": "execute_result"
    }
   ],
   "source": [
    "checkprime(25)"
   ]
  },
  {
   "cell_type": "code",
   "execution_count": 33,
   "id": "fc48786f-1438-47a9-8a11-f88c3a8ec734",
   "metadata": {},
   "outputs": [],
   "source": [
    "def checkprime(n):\n",
    "    for i in range(2, int(n**(1/2))+1):\n",
    "        print(n, i, n%i)\n",
    "        if n % i == 0:\n",
    "            return False\n",
    "        return True"
   ]
  },
  {
   "cell_type": "code",
   "execution_count": 36,
   "id": "cba6f60f-d0e4-42d3-9bda-ec7ab68e6be2",
   "metadata": {},
   "outputs": [
    {
     "name": "stdout",
     "output_type": "stream",
     "text": [
      "35 2 1\n"
     ]
    },
    {
     "data": {
      "text/plain": [
       "True"
      ]
     },
     "execution_count": 36,
     "metadata": {},
     "output_type": "execute_result"
    }
   ],
   "source": [
    "checkprime(35)"
   ]
  },
  {
   "cell_type": "code",
   "execution_count": 53,
   "id": "f31c3bb4-e976-4122-8ef6-aae8ba545381",
   "metadata": {},
   "outputs": [
    {
     "ename": "IndentationError",
     "evalue": "unindent does not match any outer indentation level (<string>, line 7)",
     "output_type": "error",
     "traceback": [
      "\u001b[1;36m  File \u001b[1;32m<string>:7\u001b[1;36m\u001b[0m\n\u001b[1;33m    return l\u001b[0m\n\u001b[1;37m            ^\u001b[0m\n\u001b[1;31mIndentationError\u001b[0m\u001b[1;31m:\u001b[0m unindent does not match any outer indentation level\n"
     ]
    }
   ],
   "source": [
    "def primeInrange(RANGE):\n",
    "    l = []\n",
    "    for n in range(RANGE):\n",
    "        if checkprime(n):\n",
    "            l.append(n)\n",
    "\n",
    "       return l"
   ]
  },
  {
   "cell_type": "code",
   "execution_count": 45,
   "id": "c4dc896d-6d8a-4a6c-9ee8-4de839df3204",
   "metadata": {
    "scrolled": true
   },
   "outputs": [
    {
     "ename": "NameError",
     "evalue": "name 'primeinrange' is not defined",
     "output_type": "error",
     "traceback": [
      "\u001b[1;31m---------------------------------------------------------------------------\u001b[0m",
      "\u001b[1;31mNameError\u001b[0m                                 Traceback (most recent call last)",
      "Cell \u001b[1;32mIn[45], line 1\u001b[0m\n\u001b[1;32m----> 1\u001b[0m primeinrange(\u001b[38;5;241m50\u001b[39m)\n",
      "\u001b[1;31mNameError\u001b[0m: name 'primeinrange' is not defined"
     ]
    }
   ],
   "source": [
    "primeinrange(50)"
   ]
  },
  {
   "cell_type": "code",
   "execution_count": 54,
   "id": "aebcb2a8-a68d-42f9-9e9b-3c5fde71b604",
   "metadata": {},
   "outputs": [],
   "source": [
    "def primeInrange(start, end =0):\n",
    "    if start> end:\n",
    "        start, end = end, start\n",
    "    l = []\n",
    "    for n in range(start, end):\n",
    "        if checkprime(n):\n",
    "            l.append(n)\n",
    "\n",
    "        return l"
   ]
  },
  {
   "cell_type": "code",
   "execution_count": 55,
   "id": "8ca93ed4-6fba-4545-b703-5f2e6f546988",
   "metadata": {},
   "outputs": [
    {
     "name": "stdout",
     "output_type": "stream",
     "text": [
      "10 2 0\n"
     ]
    },
    {
     "data": {
      "text/plain": [
       "[]"
      ]
     },
     "execution_count": 55,
     "metadata": {},
     "output_type": "execute_result"
    }
   ],
   "source": [
    "primeInrange(10, 50)"
   ]
  },
  {
   "cell_type": "code",
   "execution_count": 1,
   "id": "2259256d-dcba-46f5-be11-9383ae1195f7",
   "metadata": {},
   "outputs": [
    {
     "data": {
      "text/plain": [
       "map"
      ]
     },
     "execution_count": 1,
     "metadata": {},
     "output_type": "execute_result"
    }
   ],
   "source": [
    " map\n"
   ]
  },
  {
   "cell_type": "code",
   "execution_count": 2,
   "id": "c2c7a4f1-564e-4314-8b2d-aa55b6aaa771",
   "metadata": {},
   "outputs": [],
   "source": [
    "def makesquare(n):\n",
    "    return n**2"
   ]
  },
  {
   "cell_type": "code",
   "execution_count": 10,
   "id": "ba3723f6-d6f0-4a19-bcfc-41081e7b4e4e",
   "metadata": {},
   "outputs": [],
   "source": [
    "a = [1,10,3]"
   ]
  },
  {
   "cell_type": "code",
   "execution_count": 11,
   "id": "f3974b2f-87a5-48ee-b37a-936ce438c9d1",
   "metadata": {},
   "outputs": [],
   "source": [
    "ans = list(map(makesquare,a))"
   ]
  },
  {
   "cell_type": "code",
   "execution_count": 12,
   "id": "01fbbe08-6e1a-41cb-af20-0fd5d7f09559",
   "metadata": {},
   "outputs": [
    {
     "data": {
      "text/plain": [
       "[1, 100, 9]"
      ]
     },
     "execution_count": 12,
     "metadata": {},
     "output_type": "execute_result"
    }
   ],
   "source": [
    "ans"
   ]
  },
  {
   "cell_type": "code",
   "execution_count": 13,
   "id": "7ba4bd79-6302-40a5-b8b3-1166e9f21120",
   "metadata": {},
   "outputs": [
    {
     "data": {
      "text/plain": [
       "['shubhm', 'singh']"
      ]
     },
     "execution_count": 13,
     "metadata": {},
     "output_type": "execute_result"
    }
   ],
   "source": [
    "'shubhm singh'.split()"
   ]
  },
  {
   "cell_type": "code",
   "execution_count": 14,
   "id": "3b069e20-0ead-464b-a409-b6d263625c75",
   "metadata": {},
   "outputs": [],
   "source": [
    "a = \" 5 2  7 8 6 3 1 \".split()"
   ]
  },
  {
   "cell_type": "code",
   "execution_count": 15,
   "id": "039a0597-3871-4151-8aef-26db444e8e61",
   "metadata": {},
   "outputs": [
    {
     "data": {
      "text/plain": [
       "['5', '2', '7', '8', '6', '3', '1']"
      ]
     },
     "execution_count": 15,
     "metadata": {},
     "output_type": "execute_result"
    }
   ],
   "source": [
    "a"
   ]
  },
  {
   "cell_type": "code",
   "execution_count": 16,
   "id": "6e4d340b-f716-41c3-ac70-a3525e1c9630",
   "metadata": {},
   "outputs": [],
   "source": [
    "ans = list(map(int,a))"
   ]
  },
  {
   "cell_type": "code",
   "execution_count": 17,
   "id": "b9cc17dd-082a-4f49-9b59-6214b55a0290",
   "metadata": {},
   "outputs": [
    {
     "data": {
      "text/plain": [
       "[5, 2, 7, 8, 6, 3, 1]"
      ]
     },
     "execution_count": 17,
     "metadata": {},
     "output_type": "execute_result"
    }
   ],
   "source": [
    "ans"
   ]
  },
  {
   "cell_type": "code",
   "execution_count": 22,
   "id": "585ee67d-f876-4e49-a0ca-f06ecc0eced0",
   "metadata": {},
   "outputs": [
    {
     "data": {
      "text/plain": [
       "['1', '5', '9', '4', '3']"
      ]
     },
     "execution_count": 22,
     "metadata": {},
     "output_type": "execute_result"
    }
   ],
   "source": [
    "\"1,5,9,4,3\".split(',')z"
   ]
  },
  {
   "cell_type": "code",
   "execution_count": 24,
   "id": "7fe85eff-7721-457a-a3b6-6395e237d6b4",
   "metadata": {},
   "outputs": [],
   "source": [
    "z = lambda x, y: x*y"
   ]
  },
  {
   "cell_type": "code",
   "execution_count": 25,
   "id": "33f2ebef-a6df-4b7e-b219-74721a555ea8",
   "metadata": {},
   "outputs": [
    {
     "data": {
      "text/plain": [
       "30"
      ]
     },
     "execution_count": 25,
     "metadata": {},
     "output_type": "execute_result"
    }
   ],
   "source": [
    "z(5,6)"
   ]
  },
  {
   "cell_type": "code",
   "execution_count": 26,
   "id": "762410ff-1cfa-49ea-89ee-5f040988cdd0",
   "metadata": {},
   "outputs": [
    {
     "data": {
      "text/plain": [
       "6"
      ]
     },
     "execution_count": 26,
     "metadata": {},
     "output_type": "execute_result"
    }
   ],
   "source": [
    "z(2,3)"
   ]
  },
  {
   "cell_type": "code",
   "execution_count": 27,
   "id": "7c17de21-4889-4519-b813-483a350570fc",
   "metadata": {},
   "outputs": [],
   "source": [
    "p = lambda x, y: x/y"
   ]
  },
  {
   "cell_type": "code",
   "execution_count": 28,
   "id": "deb53dd1-81a7-4158-a497-908a4db9fd6d",
   "metadata": {},
   "outputs": [
    {
     "data": {
      "text/plain": [
       "5.0"
      ]
     },
     "execution_count": 28,
     "metadata": {},
     "output_type": "execute_result"
    }
   ],
   "source": [
    "p(25,5)"
   ]
  },
  {
   "cell_type": "code",
   "execution_count": 29,
   "id": "f066ea8f-ac07-4dc5-9e7f-e200af88860c",
   "metadata": {},
   "outputs": [],
   "source": [
    "j = lambda x: x**2"
   ]
  },
  {
   "cell_type": "code",
   "execution_count": 30,
   "id": "a249a96e-7a44-4de1-bc80-529d0ba92b57",
   "metadata": {},
   "outputs": [],
   "source": [
    "a = [5,2,3]"
   ]
  },
  {
   "cell_type": "code",
   "execution_count": 33,
   "id": "fa2cd653-2e7b-4e4e-b3d9-b4508157a730",
   "metadata": {},
   "outputs": [
    {
     "data": {
      "text/plain": [
       "[25, 4, 9]"
      ]
     },
     "execution_count": 33,
     "metadata": {},
     "output_type": "execute_result"
    }
   ],
   "source": [
    "list(map(j, a))"
   ]
  },
  {
   "cell_type": "code",
   "execution_count": 34,
   "id": "50d264da-42e7-4b43-beb0-75361b97c40f",
   "metadata": {},
   "outputs": [],
   "source": [
    "z = lambda x, y, m: x*y+m"
   ]
  },
  {
   "cell_type": "code",
   "execution_count": 35,
   "id": "70d603b1-fb14-4e3d-ba31-cec8d13ae365",
   "metadata": {},
   "outputs": [
    {
     "data": {
      "text/plain": [
       "14"
      ]
     },
     "execution_count": 35,
     "metadata": {},
     "output_type": "execute_result"
    }
   ],
   "source": [
    "z(4,2,6)"
   ]
  },
  {
   "cell_type": "code",
   "execution_count": null,
   "id": "51bd49b0-959b-426e-baf7-9a65dc57662a",
   "metadata": {},
   "outputs": [],
   "source": []
  }
 ],
 "metadata": {
  "kernelspec": {
   "display_name": "Python [conda env:base] *",
   "language": "python",
   "name": "conda-base-py"
  },
  "language_info": {
   "codemirror_mode": {
    "name": "ipython",
    "version": 3
   },
   "file_extension": ".py",
   "mimetype": "text/x-python",
   "name": "python",
   "nbconvert_exporter": "python",
   "pygments_lexer": "ipython3",
   "version": "3.13.5"
  }
 },
 "nbformat": 4,
 "nbformat_minor": 5
}
