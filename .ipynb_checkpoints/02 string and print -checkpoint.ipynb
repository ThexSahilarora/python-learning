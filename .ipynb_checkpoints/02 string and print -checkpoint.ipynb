{
 "cells": [
  {
   "cell_type": "code",
   "execution_count": 1,
   "id": "b2ce941a-5eda-401e-8cd3-f2521258ce88",
   "metadata": {},
   "outputs": [
    {
     "data": {
      "text/plain": [
       "'Shubham'"
      ]
     },
     "execution_count": 1,
     "metadata": {},
     "output_type": "execute_result"
    }
   ],
   "source": [
    "'Shubham'()"
   ]
  },
  {
   "cell_type": "code",
   "execution_count": 6,
   "id": "0b0f3621-0250-4d67-9508-fcf2cd4d8263",
   "metadata": {},
   "outputs": [
    {
     "data": {
      "text/plain": [
       "' hi nice to meet you my name is sahil '"
      ]
     },
     "execution_count": 6,
     "metadata": {},
     "output_type": "execute_result"
    }
   ],
   "source": [
    "print\n",
    "(\"\"\" hi nice to meet you my name is sahil \"\"\")"
   ]
  },
  {
   "cell_type": "code",
   "execution_count": 7,
   "id": "39978b97-fe87-4684-a264-32fd67db8e26",
   "metadata": {},
   "outputs": [
    {
     "data": {
      "text/plain": [
       "str"
      ]
     },
     "execution_count": 7,
     "metadata": {},
     "output_type": "execute_result"
    }
   ],
   "source": [
    "type (\" shubham\")\n"
   ]
  },
  {
   "cell_type": "code",
   "execution_count": 10,
   "id": "8d92ce9e-99a1-4d3c-823d-46d15f29b790",
   "metadata": {},
   "outputs": [
    {
     "data": {
      "text/plain": [
       "'Shubham'"
      ]
     },
     "execution_count": 10,
     "metadata": {},
     "output_type": "execute_result"
    }
   ],
   "source": [
    "\"shubham\".capitalize()"
   ]
  },
  {
   "cell_type": "code",
   "execution_count": 12,
   "id": "bdb16216-56ca-4cb1-8595-19afb2e80c40",
   "metadata": {},
   "outputs": [
    {
     "data": {
      "text/plain": [
       "'SHUBHAM'"
      ]
     },
     "execution_count": 12,
     "metadata": {},
     "output_type": "execute_result"
    }
   ],
   "source": [
    "\"shubham\".upper() "
   ]
  },
  {
   "cell_type": "code",
   "execution_count": 14,
   "id": "62cee1cb-b0ed-4a15-80cc-0c326f44a63c",
   "metadata": {},
   "outputs": [
    {
     "data": {
      "text/plain": [
       "'shubham'"
      ]
     },
     "execution_count": 14,
     "metadata": {},
     "output_type": "execute_result"
    }
   ],
   "source": [
    "\"sHuBhaM\".lower()"
   ]
  },
  {
   "cell_type": "code",
   "execution_count": 15,
   "id": "5a845ec3-2c4e-4984-8dce-58c680576ad8",
   "metadata": {},
   "outputs": [
    {
     "data": {
      "text/plain": [
       "3"
      ]
     },
     "execution_count": 15,
     "metadata": {},
     "output_type": "execute_result"
    }
   ],
   "source": [
    "\"muskanmam\".count('m')"
   ]
  },
  {
   "cell_type": "code",
   "execution_count": 16,
   "id": "1be24e1c-dfaa-456f-84b0-a00a168bc2ae",
   "metadata": {},
   "outputs": [
    {
     "data": {
      "text/plain": [
       "5"
      ]
     },
     "execution_count": 16,
     "metadata": {},
     "output_type": "execute_result"
    }
   ],
   "source": [
    "\"heheheheheh\".count('e')"
   ]
  },
  {
   "cell_type": "code",
   "execution_count": 17,
   "id": "5aa9f948-4234-4b8b-a9dd-dd36da0d61bf",
   "metadata": {},
   "outputs": [],
   "source": [
    "name = \"sahil Arora\" "
   ]
  },
  {
   "cell_type": "code",
   "execution_count": 21,
   "id": "af8a6b81-5aae-4752-aadd-f757776178fc",
   "metadata": {},
   "outputs": [
    {
     "data": {
      "text/plain": [
       "1"
      ]
     },
     "execution_count": 21,
     "metadata": {},
     "output_type": "execute_result"
    }
   ],
   "source": [
    "name.find('a')"
   ]
  },
  {
   "cell_type": "code",
   "execution_count": 22,
   "id": "25213865-0f5b-4b94-9075-b6b07b7e5cc6",
   "metadata": {},
   "outputs": [
    {
     "data": {
      "text/plain": [
       "11"
      ]
     },
     "execution_count": 22,
     "metadata": {},
     "output_type": "execute_result"
    }
   ],
   "source": [
    "len(name)"
   ]
  },
  {
   "cell_type": "code",
   "execution_count": 23,
   "id": "6939d7c7-e15d-4fb6-b393-3a3cbf333899",
   "metadata": {},
   "outputs": [],
   "source": [
    "first_name = \"sahil\""
   ]
  },
  {
   "cell_type": "code",
   "execution_count": 24,
   "id": "3ad7b14a-409e-4536-800f-d84fb3162b7f",
   "metadata": {},
   "outputs": [],
   "source": [
    "last_name = \"Arora\""
   ]
  },
  {
   "cell_type": "code",
   "execution_count": 26,
   "id": "84a55358-c0af-45a4-ab99-9c953283cf5c",
   "metadata": {},
   "outputs": [
    {
     "data": {
      "text/plain": [
       "'sahil Arora'"
      ]
     },
     "execution_count": 26,
     "metadata": {},
     "output_type": "execute_result"
    }
   ],
   "source": [
    "first_name + \" \" + last_name"
   ]
  },
  {
   "cell_type": "code",
   "execution_count": 27,
   "id": "87102393-c20d-4589-b1bb-75127dacde81",
   "metadata": {},
   "outputs": [
    {
     "data": {
      "text/plain": [
       "'55'"
      ]
     },
     "execution_count": 27,
     "metadata": {},
     "output_type": "execute_result"
    }
   ],
   "source": [
    "\"5\" + \"5\""
   ]
  },
  {
   "cell_type": "code",
   "execution_count": 29,
   "id": "b42b580e-ccd2-4ccf-98b7-16c88c6df5ed",
   "metadata": {},
   "outputs": [
    {
     "ename": "TypeError",
     "evalue": "unsupported operand type(s) for +: 'int' and 'str'",
     "output_type": "error",
     "traceback": [
      "\u001b[1;31m---------------------------------------------------------------------------\u001b[0m",
      "\u001b[1;31mTypeError\u001b[0m                                 Traceback (most recent call last)",
      "Cell \u001b[1;32mIn[29], line 1\u001b[0m\n\u001b[1;32m----> 1\u001b[0m \u001b[38;5;241m5\u001b[39m \u001b[38;5;241m+\u001b[39m \u001b[38;5;124m\"\u001b[39m\u001b[38;5;124m5\u001b[39m\u001b[38;5;124m\"\u001b[39m\n",
      "\u001b[1;31mTypeError\u001b[0m: unsupported operand type(s) for +: 'int' and 'str'"
     ]
    }
   ],
   "source": [
    "5 + \"5\""
   ]
  },
  {
   "cell_type": "code",
   "execution_count": 30,
   "id": "23895a87-e964-4c17-902b-bd0d88fa5cea",
   "metadata": {},
   "outputs": [],
   "source": [
    "name = \"sahil\"\n",
    "salary = 80,00,000"
   ]
  },
  {
   "cell_type": "code",
   "execution_count": 48,
   "id": "6ae4826a-7706-4e18-898f-5a99736dc358",
   "metadata": {},
   "outputs": [
    {
     "ename": "TypeError",
     "evalue": "can only concatenate str (not \"int\") to str",
     "output_type": "error",
     "traceback": [
      "\u001b[1;31m---------------------------------------------------------------------------\u001b[0m",
      "\u001b[1;31mTypeError\u001b[0m                                 Traceback (most recent call last)",
      "Cell \u001b[1;32mIn[48], line 3\u001b[0m\n\u001b[0;32m      1\u001b[0m \u001b[38;5;124m\"\u001b[39m\u001b[38;5;124mhi my  name is \u001b[39m\u001b[38;5;124m\"\u001b[39m\n\u001b[1;32m----> 3\u001b[0m name \u001b[38;5;241m+\u001b[39m\u001b[38;5;124m\"\u001b[39m\u001b[38;5;124m and my salary is \u001b[39m\u001b[38;5;124m\"\u001b[39m \u001b[38;5;241m+\u001b[39m salary\n",
      "\u001b[1;31mTypeError\u001b[0m: can only concatenate str (not \"int\") to str"
     ]
    }
   ],
   "source": [
    "\"hi my  name is \"\n",
    "\n",
    "name +\" and my salary is \" + salary"
   ]
  },
  {
   "cell_type": "code",
   "execution_count": 53,
   "id": "12521bb5-6eb5-424d-8a0a-f9eec8387e72",
   "metadata": {},
   "outputs": [],
   "source": [
    "name = \"sahil\"\n",
    "age = 22\n",
    "place = \"USA\"\n",
    "salary = 80000000"
   ]
  },
  {
   "cell_type": "code",
   "execution_count": 54,
   "id": "36ddb31e-24b0-47da-8c8f-998669b98262",
   "metadata": {},
   "outputs": [
    {
     "data": {
      "text/plain": [
       "'hi my name is sahil and my age is 22 and i live in USA as well as my salary is 80000000'"
      ]
     },
     "execution_count": 54,
     "metadata": {},
     "output_type": "execute_result"
    }
   ],
   "source": [
    "f'hi my name is {name} and my age is {age} and i live in {place} as well as my salary is {salary}'"
   ]
  },
  {
   "cell_type": "code",
   "execution_count": 56,
   "id": "7b80e0ca-9b72-4a43-b3ba-4f52a28ce332",
   "metadata": {},
   "outputs": [
    {
     "data": {
      "text/plain": [
       "'shubham singh'"
      ]
     },
     "execution_count": 56,
     "metadata": {},
     "output_type": "execute_result"
    }
   ],
   "source": [
    "\"SHUBHAM SINGH\".lower()"
   ]
  },
  {
   "cell_type": "code",
   "execution_count": 58,
   "id": "994cdd06-1636-4c19-a4ee-40af35288b4b",
   "metadata": {},
   "outputs": [
    {
     "data": {
      "text/plain": [
       "['TOM', 'JERRY', 'BILLI', 'KUTTA']"
      ]
     },
     "execution_count": 58,
     "metadata": {},
     "output_type": "execute_result"
    }
   ],
   "source": [
    "\"TOM JERRY BILLI KUTTA\".split()"
   ]
  },
  {
   "cell_type": "code",
   "execution_count": 63,
   "id": "440d9303-4412-46fa-9225-79a60a684e2e",
   "metadata": {},
   "outputs": [
    {
     "data": {
      "text/plain": [
       "['TOMJERRYB', 'LL', 'KUTTA']"
      ]
     },
     "execution_count": 63,
     "metadata": {},
     "output_type": "execute_result"
    }
   ],
   "source": [
    "\"TOMJERRYBILLIKUTTA\".split(\"I\")"
   ]
  },
  {
   "cell_type": "code",
   "execution_count": 65,
   "id": "5a68deb5-cbbf-4b4f-b544-9c6444c470c1",
   "metadata": {},
   "outputs": [
    {
     "data": {
      "text/plain": [
       "['hi', 'my', 'name', 'is', 'sahil']"
      ]
     },
     "execution_count": 65,
     "metadata": {},
     "output_type": "execute_result"
    }
   ],
   "source": [
    "\"hi my name is sahil\".split()"
   ]
  },
  {
   "cell_type": "code",
   "execution_count": 67,
   "id": "cd66d1fa-e5d5-481e-9869-c8b713b837fe",
   "metadata": {},
   "outputs": [
    {
     "name": "stdout",
     "output_type": "stream",
     "text": [
      "sahil\n",
      "sahil \n"
     ]
    }
   ],
   "source": [
    "print('sahil')\n",
    "print('sahil ')"
   ]
  },
  {
   "cell_type": "code",
   "execution_count": 69,
   "id": "1754aa85-41ed-45b4-805a-a9cd88d79c8a",
   "metadata": {},
   "outputs": [
    {
     "data": {
      "text/plain": [
       "False"
      ]
     },
     "execution_count": 69,
     "metadata": {},
     "output_type": "execute_result"
    }
   ],
   "source": [
    "\"sahil\".isupper()"
   ]
  },
  {
   "cell_type": "code",
   "execution_count": 71,
   "id": "3ca05ec5-01db-4ecb-a7d2-50e519814277",
   "metadata": {},
   "outputs": [
    {
     "data": {
      "text/plain": [
       "True"
      ]
     },
     "execution_count": 71,
     "metadata": {},
     "output_type": "execute_result"
    }
   ],
   "source": [
    "\"sahil\".isalpha() "
   ]
  },
  {
   "cell_type": "code",
   "execution_count": 73,
   "id": "45eb25f0-f5e0-4a17-af5c-5144519f3c2f",
   "metadata": {},
   "outputs": [
    {
     "data": {
      "text/plain": [
       "False"
      ]
     },
     "execution_count": 73,
     "metadata": {},
     "output_type": "execute_result"
    }
   ],
   "source": [
    "\"sahil\".isdigit()"
   ]
  },
  {
   "cell_type": "code",
   "execution_count": 75,
   "id": "86298458-518f-49c4-9dc5-19b4caf09e47",
   "metadata": {},
   "outputs": [
    {
     "data": {
      "text/plain": [
       "True"
      ]
     },
     "execution_count": 75,
     "metadata": {},
     "output_type": "execute_result"
    }
   ],
   "source": [
    "\"sahil001\". isalnum()"
   ]
  },
  {
   "cell_type": "code",
   "execution_count": 77,
   "id": "301145f8-9901-4130-943c-3ddbe6ddade4",
   "metadata": {},
   "outputs": [
    {
     "data": {
      "text/plain": [
       "False"
      ]
     },
     "execution_count": 77,
     "metadata": {},
     "output_type": "execute_result"
    }
   ],
   "source": [
    "\"sahil arora\".isspace()"
   ]
  },
  {
   "cell_type": "code",
   "execution_count": 80,
   "id": "c578f5f8-e33c-4326-b97a-c6a10d3bc6ed",
   "metadata": {},
   "outputs": [
    {
     "data": {
      "text/plain": [
       "True"
      ]
     },
     "execution_count": 80,
     "metadata": {},
     "output_type": "execute_result"
    }
   ],
   "source": [
    "\" \".isspace()"
   ]
  },
  {
   "cell_type": "code",
   "execution_count": 84,
   "id": "8c4fcb4c-824f-4e4b-8705-d834c5c93df8",
   "metadata": {},
   "outputs": [
    {
     "data": {
      "text/plain": [
       "'s@hil arora'"
      ]
     },
     "execution_count": 84,
     "metadata": {},
     "output_type": "execute_result"
    }
   ],
   "source": [
    "\"sahil arora\".replace(\"a\", \"@\", 1)"
   ]
  },
  {
   "cell_type": "code",
   "execution_count": 85,
   "id": "0cfdc2ac-eeec-448e-8ac9-95660f4dfd9c",
   "metadata": {},
   "outputs": [],
   "source": [
    "name = \"ccyfuvytcuygytugyujxyyrwwertyuxcvb\""
   ]
  },
  {
   "cell_type": "code",
   "execution_count": 86,
   "id": "43da3b5d-ffe6-42a4-872e-09d0591d63a3",
   "metadata": {},
   "outputs": [
    {
     "data": {
      "text/plain": [
       "'ccyfuvytcuygytugyujxyyrwwertyuxcvb'"
      ]
     },
     "execution_count": 86,
     "metadata": {},
     "output_type": "execute_result"
    }
   ],
   "source": [
    "name"
   ]
  },
  {
   "cell_type": "code",
   "execution_count": 3,
   "id": "13fd71da-48bb-44a5-bdab-f37488bc4dbe",
   "metadata": {},
   "outputs": [
    {
     "data": {
      "text/plain": [
       "7"
      ]
     },
     "execution_count": 3,
     "metadata": {},
     "output_type": "execute_result"
    }
   ],
   "source": [
    "len('shubham')"
   ]
  },
  {
   "cell_type": "code",
   "execution_count": 9,
   "id": "1c89d276-98a0-48ba-8184-147da79564c2",
   "metadata": {},
   "outputs": [
    {
     "data": {
      "text/plain": [
       "'a'"
      ]
     },
     "execution_count": 9,
     "metadata": {},
     "output_type": "execute_result"
    }
   ],
   "source": [
    "\"shubham\"[-2]"
   ]
  },
  {
   "cell_type": "code",
   "execution_count": 15,
   "id": "fba97db8-f231-4c7e-98a7-4b04402202cb",
   "metadata": {},
   "outputs": [],
   "source": [
    "name = 'sahil arora'"
   ]
  },
  {
   "cell_type": "code",
   "execution_count": 16,
   "id": "e1c1e2fb-3f69-4fdd-983e-7b9d2578511f",
   "metadata": {},
   "outputs": [
    {
     "data": {
      "text/plain": [
       "'sahil arora'"
      ]
     },
     "execution_count": 16,
     "metadata": {},
     "output_type": "execute_result"
    }
   ],
   "source": [
    "name"
   ]
  },
  {
   "cell_type": "code",
   "execution_count": 19,
   "id": "919e4ebe-b574-47d1-b925-913dc5651ac7",
   "metadata": {},
   "outputs": [
    {
     "data": {
      "text/plain": [
       "'sahil a'"
      ]
     },
     "execution_count": 19,
     "metadata": {},
     "output_type": "execute_result"
    }
   ],
   "source": [
    "name[:7]"
   ]
  },
  {
   "cell_type": "code",
   "execution_count": 23,
   "id": "d69514cd-8e00-42a1-befb-df0b4e693841",
   "metadata": {},
   "outputs": [],
   "source": [
    "greet = \"hello sahil sir nice to meet you\""
   ]
  },
  {
   "cell_type": "code",
   "execution_count": 29,
   "id": "8220aac3-7c2d-4af4-adc1-79917fefc355",
   "metadata": {},
   "outputs": [
    {
     "data": {
      "text/plain": [
       "'hello sahil sir nice to meet you'"
      ]
     },
     "execution_count": 29,
     "metadata": {},
     "output_type": "execute_result"
    }
   ],
   "source": [
    "greet\n"
   ]
  },
  {
   "cell_type": "code",
   "execution_count": 25,
   "id": "a591ba6e-9bb2-472c-9921-92ecb6cffa13",
   "metadata": {},
   "outputs": [
    {
     "data": {
      "text/plain": [
       "'0123456789'"
      ]
     },
     "execution_count": 25,
     "metadata": {},
     "output_type": "execute_result"
    }
   ],
   "source": [
    "\"0123456789\""
   ]
  },
  {
   "cell_type": "code",
   "execution_count": 27,
   "id": "be8832ba-8975-4369-b55a-49ef59d9fd51",
   "metadata": {},
   "outputs": [
    {
     "data": {
      "text/plain": [
       "'4567'"
      ]
     },
     "execution_count": 27,
     "metadata": {},
     "output_type": "execute_result"
    }
   ],
   "source": [
    "\"0123456789\"[4:8]"
   ]
  },
  {
   "cell_type": "code",
   "execution_count": 30,
   "id": "d54f823b-aa4a-413e-98a8-fee11cd35651",
   "metadata": {},
   "outputs": [],
   "source": [
    "s = \"the fox ran\""
   ]
  },
  {
   "cell_type": "code",
   "execution_count": 31,
   "id": "27811cff-9585-4133-82d7-850bd08d94bf",
   "metadata": {},
   "outputs": [
    {
     "data": {
      "text/plain": [
       "'the fox ran'"
      ]
     },
     "execution_count": 31,
     "metadata": {},
     "output_type": "execute_result"
    }
   ],
   "source": [
    "s"
   ]
  },
  {
   "cell_type": "code",
   "execution_count": 32,
   "id": "e48800e4-09d3-4e55-ac8d-0ba9511be39b",
   "metadata": {},
   "outputs": [
    {
     "data": {
      "text/plain": [
       "'fox ran'"
      ]
     },
     "execution_count": 32,
     "metadata": {},
     "output_type": "execute_result"
    }
   ],
   "source": [
    "s[4:]"
   ]
  },
  {
   "cell_type": "code",
   "execution_count": 35,
   "id": "6c2422cd-eeb2-4558-b014-1ea38651cdad",
   "metadata": {},
   "outputs": [],
   "source": [
    "dell = \"we need to dive in into the pool\""
   ]
  },
  {
   "cell_type": "code",
   "execution_count": 36,
   "id": "e4589770-5b70-4b6c-ab4a-d89eb59a5544",
   "metadata": {},
   "outputs": [
    {
     "data": {
      "text/plain": [
       "'we need to dive in into the pool'"
      ]
     },
     "execution_count": 36,
     "metadata": {},
     "output_type": "execute_result"
    }
   ],
   "source": [
    "dell"
   ]
  },
  {
   "cell_type": "code",
   "execution_count": 39,
   "id": "cfdf06d1-4b1f-4b0c-b33f-85cc0d78512d",
   "metadata": {},
   "outputs": [
    {
     "data": {
      "text/plain": [
       "'need to dive'"
      ]
     },
     "execution_count": 39,
     "metadata": {},
     "output_type": "execute_result"
    }
   ],
   "source": [
    "dell[3:15]"
   ]
  },
  {
   "cell_type": "code",
   "execution_count": 40,
   "id": "2bb8c766-2c2f-4089-b5c5-eed82ea6b84d",
   "metadata": {},
   "outputs": [],
   "source": [
    "name = \"dhyanender pratap singh\""
   ]
  },
  {
   "cell_type": "code",
   "execution_count": 45,
   "id": "d096a4ff-7992-4a38-9cf5-dfde7be77939",
   "metadata": {},
   "outputs": [
    {
     "data": {
      "text/plain": [
       "'dhyanender pratap singh'"
      ]
     },
     "execution_count": 45,
     "metadata": {},
     "output_type": "execute_result"
    }
   ],
   "source": [
    "name[:]"
   ]
  },
  {
   "cell_type": "code",
   "execution_count": 50,
   "id": "73b0c78b-3e0a-4a8d-b294-23785352ea1f",
   "metadata": {},
   "outputs": [
    {
     "data": {
      "text/plain": [
       "'dynne'"
      ]
     },
     "execution_count": 50,
     "metadata": {},
     "output_type": "execute_result"
    }
   ],
   "source": [
    "name[0:10:2]\n"
   ]
  },
  {
   "cell_type": "code",
   "execution_count": 51,
   "id": "eb1bb22f-87de-407e-b883-0c1f7dc21fe9",
   "metadata": {},
   "outputs": [
    {
     "data": {
      "text/plain": [
       "'dhyanender pratap'"
      ]
     },
     "execution_count": 51,
     "metadata": {},
     "output_type": "execute_result"
    }
   ],
   "source": [
    "name[:-6]"
   ]
  },
  {
   "cell_type": "code",
   "execution_count": 54,
   "id": "6e5ee5c4-e59e-40a3-9347-77365b067790",
   "metadata": {},
   "outputs": [
    {
     "data": {
      "text/plain": [
       "'ender pratap'"
      ]
     },
     "execution_count": 54,
     "metadata": {},
     "output_type": "execute_result"
    }
   ],
   "source": [
    "name[5:-6]"
   ]
  },
  {
   "cell_type": "code",
   "execution_count": 55,
   "id": "d88d12f2-cdae-4b90-8f14-694e8f7ea99e",
   "metadata": {},
   "outputs": [
    {
     "data": {
      "text/plain": [
       "'edrpaa'"
      ]
     },
     "execution_count": 55,
     "metadata": {},
     "output_type": "execute_result"
    }
   ],
   "source": [
    "name[5:-6:2]"
   ]
  },
  {
   "cell_type": "code",
   "execution_count": 56,
   "id": "fe573078-62b0-4ea2-9e52-a09c2b543835",
   "metadata": {},
   "outputs": [
    {
     "data": {
      "text/plain": [
       "'tap'"
      ]
     },
     "execution_count": 56,
     "metadata": {},
     "output_type": "execute_result"
    }
   ],
   "source": [
    "name[5:-6][6:][3:]"
   ]
  },
  {
   "cell_type": "code",
   "execution_count": 57,
   "id": "036c1777-f5fc-4b99-b5c5-d8a1e337587f",
   "metadata": {},
   "outputs": [
    {
     "data": {
      "text/plain": [
       "'dhyanender pratap singh'"
      ]
     },
     "execution_count": 57,
     "metadata": {},
     "output_type": "execute_result"
    }
   ],
   "source": [
    "name"
   ]
  },
  {
   "cell_type": "code",
   "execution_count": 59,
   "id": "a4ccc3be-e733-4e83-8b47-27798256fcae",
   "metadata": {},
   "outputs": [
    {
     "data": {
      "text/plain": [
       "'hgnis patarp rednenayhd'"
      ]
     },
     "execution_count": 59,
     "metadata": {},
     "output_type": "execute_result"
    }
   ],
   "source": [
    "name[::-1]"
   ]
  },
  {
   "cell_type": "code",
   "execution_count": 60,
   "id": "e49e1746-b92b-4dc1-a147-58d9efd3f282",
   "metadata": {},
   "outputs": [
    {
     "data": {
      "text/plain": [
       "'dhyanender pratap singh'"
      ]
     },
     "execution_count": 60,
     "metadata": {},
     "output_type": "execute_result"
    }
   ],
   "source": [
    "name"
   ]
  },
  {
   "cell_type": "code",
   "execution_count": 63,
   "id": "29bd010d-a8c2-45fb-a0f7-b2f3ea9ce809",
   "metadata": {},
   "outputs": [
    {
     "data": {
      "text/plain": [
       "'patarp'"
      ]
     },
     "execution_count": 63,
     "metadata": {},
     "output_type": "execute_result"
    }
   ],
   "source": [
    "name[11:17][:\n",
    ":-1]"
   ]
  },
  {
   "cell_type": "code",
   "execution_count": 64,
   "id": "d6a34250-d5be-4383-b599-b56da699c6ef",
   "metadata": {},
   "outputs": [
    {
     "data": {
      "text/plain": [
       "'dhyanender pratap singh'"
      ]
     },
     "execution_count": 64,
     "metadata": {},
     "output_type": "execute_result"
    }
   ],
   "source": [
    "name"
   ]
  },
  {
   "cell_type": "code",
   "execution_count": 65,
   "id": "5cf7f18f-5870-4a62-9895-31ab55359fc1",
   "metadata": {},
   "outputs": [
    {
     "data": {
      "text/plain": [
       "'dhyanender pratap singh'"
      ]
     },
     "execution_count": 65,
     "metadata": {},
     "output_type": "execute_result"
    }
   ],
   "source": [
    "name"
   ]
  },
  {
   "cell_type": "code",
   "execution_count": 67,
   "id": "2fab46fb-014e-4e8f-9427-8410bab9973c",
   "metadata": {},
   "outputs": [
    {
     "data": {
      "text/plain": [
       "23"
      ]
     },
     "execution_count": 67,
     "metadata": {},
     "output_type": "execute_result"
    }
   ],
   "source": [
    "len(name)"
   ]
  },
  {
   "cell_type": "code",
   "execution_count": 76,
   "id": "241ac0a3-516a-4990-a11a-44142074ed97",
   "metadata": {},
   "outputs": [
    {
     "data": {
      "text/plain": [
       "'dhyanender '"
      ]
     },
     "execution_count": 76,
     "metadata": {},
     "output_type": "execute_result"
    }
   ],
   "source": [
    "name[0:11] "
   ]
  },
  {
   "cell_type": "code",
   "execution_count": 79,
   "id": "e2ecd6f1-19ce-4e61-9bc3-5643176db26a",
   "metadata": {},
   "outputs": [
    {
     "data": {
      "text/plain": [
       "'r pratap singh'"
      ]
     },
     "execution_count": 79,
     "metadata": {},
     "output_type": "execute_result"
    }
   ],
   "source": [
    "name[9:]"
   ]
  },
  {
   "cell_type": "code",
   "execution_count": 80,
   "id": "209d17a4-cbe8-4430-a63b-fab6ce4d000e",
   "metadata": {},
   "outputs": [
    {
     "data": {
      "text/plain": [
       "'ednenayhdr pratap singh'"
      ]
     },
     "execution_count": 80,
     "metadata": {},
     "output_type": "execute_result"
    }
   ],
   "source": [
    "name[:9][::-1] +name[9:]"
   ]
  },
  {
   "cell_type": "code",
   "execution_count": 81,
   "id": "1e01af9e-b305-4a74-8238-26242f9b1517",
   "metadata": {},
   "outputs": [
    {
     "data": {
      "text/plain": [
       "'dhyanender pratap singh'"
      ]
     },
     "execution_count": 81,
     "metadata": {},
     "output_type": "execute_result"
    }
   ],
   "source": [
    "name"
   ]
  },
  {
   "cell_type": "code",
   "execution_count": null,
   "id": "e048d903-7d3a-48a3-bb3d-154f5c423962",
   "metadata": {},
   "outputs": [],
   "source": []
  }
 ],
 "metadata": {
  "kernelspec": {
   "display_name": "Python [conda env:base] *",
   "language": "python",
   "name": "conda-base-py"
  },
  "language_info": {
   "codemirror_mode": {
    "name": "ipython",
    "version": 3
   },
   "file_extension": ".py",
   "mimetype": "text/x-python",
   "name": "python",
   "nbconvert_exporter": "python",
   "pygments_lexer": "ipython3",
   "version": "3.13.5"
  }
 },
 "nbformat": 4,
 "nbformat_minor": 5
}
