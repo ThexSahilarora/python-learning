{
 "cells": [
  {
   "cell_type": "markdown",
   "id": "17af8409-edbb-4b6f-bb21-6cafcb2ab09d",
   "metadata": {},
   "source": [
    "## TYPE CASTING"
   ]
  },
  {
   "cell_type": "code",
   "execution_count": 2,
   "id": "d0713a34-4415-4bb1-beea-a20b4561ae07",
   "metadata": {},
   "outputs": [
    {
     "data": {
      "text/plain": [
       "'50.6'"
      ]
     },
     "execution_count": 2,
     "metadata": {},
     "output_type": "execute_result"
    }
   ],
   "source": [
    "str(50.6)"
   ]
  },
  {
   "cell_type": "code",
   "execution_count": 3,
   "id": "91906415-6c14-4a1c-9e29-9ab470a6c9d8",
   "metadata": {},
   "outputs": [
    {
     "data": {
      "text/plain": [
       "50"
      ]
     },
     "execution_count": 3,
     "metadata": {},
     "output_type": "execute_result"
    }
   ],
   "source": [
    "int(50.6)"
   ]
  },
  {
   "cell_type": "code",
   "execution_count": 4,
   "id": "083d2d02-d7da-4d82-9fa2-c9a8a1c22d1e",
   "metadata": {},
   "outputs": [
    {
     "data": {
      "text/plain": [
       "50"
      ]
     },
     "execution_count": 4,
     "metadata": {},
     "output_type": "execute_result"
    }
   ],
   "source": [
    "int(float(50.6))"
   ]
  },
  {
   "cell_type": "markdown",
   "id": "f84de66c-560d-4ca9-8124-2c7e2dd3ca97",
   "metadata": {},
   "source": [
    "# PRINT"
   ]
  },
  {
   "cell_type": "code",
   "execution_count": 5,
   "id": "8df90052-e8cd-4249-9bcc-5e61737387c9",
   "metadata": {},
   "outputs": [
    {
     "name": "stdout",
     "output_type": "stream",
     "text": [
      "5\n"
     ]
    }
   ],
   "source": [
    "print(5)"
   ]
  },
  {
   "cell_type": "code",
   "execution_count": 6,
   "id": "3eb69704-c91f-4692-8915-48ea9b6154c2",
   "metadata": {},
   "outputs": [
    {
     "name": "stdout",
     "output_type": "stream",
     "text": [
      "5\n"
     ]
    }
   ],
   "source": [
    "a = print(5)"
   ]
  },
  {
   "cell_type": "code",
   "execution_count": 7,
   "id": "5dd9060f-6ece-4291-8adf-1284e83aa82f",
   "metadata": {},
   "outputs": [],
   "source": [
    "a"
   ]
  },
  {
   "cell_type": "code",
   "execution_count": 9,
   "id": "6c39320f-f915-4a01-bd64-e94bff355022",
   "metadata": {},
   "outputs": [],
   "source": [
    "a = None"
   ]
  },
  {
   "cell_type": "code",
   "execution_count": 10,
   "id": "988d05c4-d72e-41c9-83aa-3bc70f4493cd",
   "metadata": {},
   "outputs": [],
   "source": [
    "a"
   ]
  },
  {
   "cell_type": "code",
   "execution_count": 12,
   "id": "3a92f8a3-e622-474e-bd1d-570ad1c50ca3",
   "metadata": {},
   "outputs": [
    {
     "name": "stdout",
     "output_type": "stream",
     "text": [
      "5 3 shubham singh\n"
     ]
    }
   ],
   "source": [
    "print(5, 3, \"shubham\", \"singh\")"
   ]
  },
  {
   "cell_type": "code",
   "execution_count": 14,
   "id": "7d6c785f-149d-4b13-9f99-2bf3e0e5e392",
   "metadata": {},
   "outputs": [
    {
     "name": "stdout",
     "output_type": "stream",
     "text": [
      "5 * 3 * The * sahil\n"
     ]
    }
   ],
   "source": [
    "print(5, 3, \"The\", \"sahil\", sep = \" * \")"
   ]
  },
  {
   "cell_type": "code",
   "execution_count": 15,
   "id": "b49ebdaf-c910-40df-a66b-a2ada14e89bc",
   "metadata": {},
   "outputs": [
    {
     "name": "stdout",
     "output_type": "stream",
     "text": [
      "50 60 70 80*30 - 40\n"
     ]
    }
   ],
   "source": [
    "print(50, 60, 70 ,80, end = \"*\")\n",
    "print(30, end = \" - \")\n",
    "print(40)\n"
   ]
  },
  {
   "cell_type": "code",
   "execution_count": 16,
   "id": "022dbcbe-1470-41e8-9b73-5756df067797",
   "metadata": {},
   "outputs": [],
   "source": [
    "name = \"shubham\""
   ]
  },
  {
   "cell_type": "code",
   "execution_count": 17,
   "id": "046ef70a-cf05-4a30-8348-6ba4c6758703",
   "metadata": {},
   "outputs": [],
   "source": [
    "age = 22"
   ]
  },
  {
   "cell_type": "code",
   "execution_count": 20,
   "id": "d09725e6-6de1-406e-b5e5-bd961ca3d018",
   "metadata": {},
   "outputs": [
    {
     "name": "stdout",
     "output_type": "stream",
     "text": [
      "shubham  22\n"
     ]
    }
   ],
   "source": [
    "print(f'{name}  {age}')"
   ]
  },
  {
   "cell_type": "code",
   "execution_count": 21,
   "id": "745e3ba4-0117-4073-a751-81ec70160770",
   "metadata": {},
   "outputs": [
    {
     "data": {
      "text/plain": [
       "'hello everyone'"
      ]
     },
     "execution_count": 21,
     "metadata": {},
     "output_type": "execute_result"
    }
   ],
   "source": [
    "\"hello everyone\""
   ]
  },
  {
   "cell_type": "code",
   "execution_count": 23,
   "id": "129c6c7d-8a6b-41f1-a695-c3c9babad258",
   "metadata": {},
   "outputs": [
    {
     "data": {
      "text/plain": [
       "'hello \\neveryone'"
      ]
     },
     "execution_count": 23,
     "metadata": {},
     "output_type": "execute_result"
    }
   ],
   "source": [
    "\"\"\"hello \n",
    "everyone\"\"\""
   ]
  },
  {
   "cell_type": "code",
   "execution_count": 26,
   "id": "43d561a7-92ab-448e-83a1-36c3cb38a138",
   "metadata": {},
   "outputs": [],
   "source": [
    "a = \"hello sah\\til\""
   ]
  },
  {
   "cell_type": "code",
   "execution_count": 27,
   "id": "3c50c64f-7829-47c7-ab35-fcac1cd26d97",
   "metadata": {},
   "outputs": [
    {
     "name": "stdout",
     "output_type": "stream",
     "text": [
      "hello sah\til\n"
     ]
    }
   ],
   "source": [
    "print(a)"
   ]
  },
  {
   "cell_type": "raw",
   "id": "09ab815f-11ee-4473-b19c-8d5b0bf544f3",
   "metadata": {},
   "source": []
  },
  {
   "cell_type": "code",
   "execution_count": 28,
   "id": "81afdd4a-9e20-40f2-a2ab-7a89e48bbdd6",
   "metadata": {},
   "outputs": [
    {
     "name": "stdout",
     "output_type": "stream",
     "text": [
      "a\\ t b\n"
     ]
    }
   ],
   "source": [
    "print('a\\\\ t b')"
   ]
  },
  {
   "cell_type": "code",
   "execution_count": 30,
   "id": "353c8887-c0ea-4828-bc6f-3881b9b81d8e",
   "metadata": {},
   "outputs": [
    {
     "name": "stdout",
     "output_type": "stream",
     "text": [
      "😃\n"
     ]
    }
   ],
   "source": [
    "print(\"\\U0001F603\")"
   ]
  },
  {
   "cell_type": "code",
   "execution_count": 31,
   "id": "91a36dfc-9261-4cbf-b80a-a3d0794afd96",
   "metadata": {},
   "outputs": [
    {
     "name": "stdout",
     "output_type": "stream",
     "text": [
      "😀\n"
     ]
    }
   ],
   "source": [
    "print(\"\\U0001F600\")"
   ]
  },
  {
   "cell_type": "code",
   "execution_count": 32,
   "id": "85be1fdd-eb63-4ec7-8826-b143df510b48",
   "metadata": {},
   "outputs": [
    {
     "ename": "IndentationError",
     "evalue": "unexpected indent (3934395661.py, line 2)",
     "output_type": "error",
     "traceback": [
      "\u001b[1;36m  Cell \u001b[1;32mIn[32], line 2\u001b[1;36m\u001b[0m\n\u001b[1;33m    1 kb =  bytes\u001b[0m\n\u001b[1;37m    ^\u001b[0m\n\u001b[1;31mIndentationError\u001b[0m\u001b[1;31m:\u001b[0m unexpected indent\n"
     ]
    }
   ],
   "source": [
    "#  kb - killo byte\n",
    " 1 kb =  bytes "
   ]
  },
  {
   "cell_type": "code",
   "execution_count": 36,
   "id": "b369e8b7-a836-4d2c-87a1-abb2579f6354",
   "metadata": {},
   "outputs": [
    {
     "data": {
      "text/plain": [
       "b'\\x00\\x00\\x00\\x00\\x00\\x00\\x00\\x00\\x00\\x00'"
      ]
     },
     "execution_count": 36,
     "metadata": {},
     "output_type": "execute_result"
    }
   ],
   "source": [
    "bytes(10)"
   ]
  },
  {
   "cell_type": "code",
   "execution_count": 37,
   "id": "15e2bd40-d278-449a-8819-73eca48e0aa5",
   "metadata": {},
   "outputs": [
    {
     "ename": "SyntaxError",
     "evalue": "invalid decimal literal (1373005651.py, line 1)",
     "output_type": "error",
     "traceback": [
      "\u001b[1;36m  Cell \u001b[1;32mIn[37], line 1\u001b[1;36m\u001b[0m\n\u001b[1;33m    1mb = 1024 KB\u001b[0m\n\u001b[1;37m    ^\u001b[0m\n\u001b[1;31mSyntaxError\u001b[0m\u001b[1;31m:\u001b[0m invalid decimal literal\n"
     ]
    }
   ],
   "source": [
    "1MB = 1024 KB"
   ]
  },
  {
   "cell_type": "code",
   "execution_count": null,
   "id": "8bdcc697-7227-4785-992c-117a5755cb05",
   "metadata": {},
   "outputs": [],
   "source": [
    "0 or 1 - bit\n",
    "8 bit - 1 byte\n",
    "1024  byte - 1 kb\n",
    "1024 kb - 1 mb\n",
    "1024 mb - 1 gb\n",
    "1024 gb- 1 tb\n",
    "1024 tb - 1 pb  \n"
   ]
  },
  {
   "cell_type": "code",
   "execution_count": 39,
   "id": "5c181129-d0f2-40b2-9781-251404b38d54",
   "metadata": {},
   "outputs": [
    {
     "name": "stdout",
     "output_type": "stream",
     "text": [
      "🤣\n"
     ]
    }
   ],
   "source": [
    "print(\"\\U0001F923\")"
   ]
  },
  {
   "cell_type": "code",
   "execution_count": 40,
   "id": "0e1c61ab-6cd7-429d-a38b-f58d9aa9c540",
   "metadata": {},
   "outputs": [
    {
     "data": {
      "text/plain": [
       "129315"
      ]
     },
     "execution_count": 40,
     "metadata": {},
     "output_type": "execute_result"
    }
   ],
   "source": [
    "ord('🤣')"
   ]
  },
  {
   "cell_type": "code",
   "execution_count": 41,
   "id": "177c9819-7a4c-4a01-b085-d93079d1cf9c",
   "metadata": {},
   "outputs": [
    {
     "data": {
      "text/plain": [
       "1"
      ]
     },
     "execution_count": 41,
     "metadata": {},
     "output_type": "execute_result"
    }
   ],
   "source": [
    "0 or 1\n"
   ]
  },
  {
   "cell_type": "code",
   "execution_count": 42,
   "id": "9d4e1717-bf36-4748-95f5-4ee608ce1b31",
   "metadata": {},
   "outputs": [
    {
     "data": {
      "text/plain": [
       "1"
      ]
     },
     "execution_count": 42,
     "metadata": {},
     "output_type": "execute_result"
    }
   ],
   "source": [
    "int(True)"
   ]
  },
  {
   "cell_type": "code",
   "execution_count": 43,
   "id": "bfb593b4-c107-48a0-b063-b85a1b6c7c40",
   "metadata": {},
   "outputs": [
    {
     "data": {
      "text/plain": [
       "0"
      ]
     },
     "execution_count": 43,
     "metadata": {},
     "output_type": "execute_result"
    }
   ],
   "source": [
    "int(False)"
   ]
  },
  {
   "cell_type": "markdown",
   "id": "7ee12476-c686-4d4b-8ae7-96e146e645bd",
   "metadata": {},
   "source": [
    "# BOOLEANS"
   ]
  },
  {
   "cell_type": "code",
   "execution_count": 45,
   "id": "63b4f5a3-5469-4e4d-b8a5-9fdc92df932d",
   "metadata": {},
   "outputs": [
    {
     "data": {
      "text/plain": [
       "True"
      ]
     },
     "execution_count": 45,
     "metadata": {},
     "output_type": "execute_result"
    }
   ],
   "source": [
    "bool(-5)"
   ]
  },
  {
   "cell_type": "code",
   "execution_count": 46,
   "id": "54da9607-451e-4ed0-a821-a460e5c4f8fc",
   "metadata": {},
   "outputs": [
    {
     "data": {
      "text/plain": [
       "False"
      ]
     },
     "execution_count": 46,
     "metadata": {},
     "output_type": "execute_result"
    }
   ],
   "source": [
    "bool(0)"
   ]
  },
  {
   "cell_type": "code",
   "execution_count": 47,
   "id": "0ed75860-2bd1-4e5e-b4b0-0bf9edc7e975",
   "metadata": {},
   "outputs": [
    {
     "data": {
      "text/plain": [
       "True"
      ]
     },
     "execution_count": 47,
     "metadata": {},
     "output_type": "execute_result"
    }
   ],
   "source": [
    "bool(-99)"
   ]
  },
  {
   "cell_type": "code",
   "execution_count": 48,
   "id": "7210e214-90f2-4459-ab59-fa8db7c09cc3",
   "metadata": {},
   "outputs": [
    {
     "data": {
      "text/plain": [
       "bool"
      ]
     },
     "execution_count": 48,
     "metadata": {},
     "output_type": "execute_result"
    }
   ],
   "source": [
    "type(True)"
   ]
  },
  {
   "cell_type": "code",
   "execution_count": 50,
   "id": "19816477-1975-4c65-8303-ff30ee653d34",
   "metadata": {},
   "outputs": [
    {
     "data": {
      "text/plain": [
       "bool"
      ]
     },
     "execution_count": 50,
     "metadata": {},
     "output_type": "execute_result"
    }
   ],
   "source": [
    "type(False)"
   ]
  },
  {
   "cell_type": "code",
   "execution_count": 51,
   "id": "ae7a657d-16ed-4575-a0e6-51c03890dd04",
   "metadata": {},
   "outputs": [
    {
     "data": {
      "text/plain": [
       "False"
      ]
     },
     "execution_count": 51,
     "metadata": {},
     "output_type": "execute_result"
    }
   ],
   "source": [
    "bool(\"\")"
   ]
  },
  {
   "cell_type": "code",
   "execution_count": 52,
   "id": "dfc1a33a-b6c6-419f-85ae-eb9d8d9432fd",
   "metadata": {},
   "outputs": [
    {
     "data": {
      "text/plain": [
       "True"
      ]
     },
     "execution_count": 52,
     "metadata": {},
     "output_type": "execute_result"
    }
   ],
   "source": [
    "bool(\" \")"
   ]
  },
  {
   "cell_type": "code",
   "execution_count": 53,
   "id": "a1538080-da1e-4d87-840c-8d04a31b1154",
   "metadata": {},
   "outputs": [
    {
     "data": {
      "text/plain": [
       "False"
      ]
     },
     "execution_count": 53,
     "metadata": {},
     "output_type": "execute_result"
    }
   ],
   "source": [
    "bool ([])"
   ]
  },
  {
   "cell_type": "code",
   "execution_count": 55,
   "id": "d2bb7045-a51e-444b-8e8a-74f330723984",
   "metadata": {},
   "outputs": [
    {
     "data": {
      "text/plain": [
       "True"
      ]
     },
     "execution_count": 55,
     "metadata": {},
     "output_type": "execute_result"
    }
   ],
   "source": [
    "bool([-10])"
   ]
  },
  {
   "cell_type": "markdown",
   "id": "9cdb4659-5026-48c0-87bf-c91e4f2cfbe1",
   "metadata": {},
   "source": [
    "# IF ELIF ELSE"
   ]
  },
  {
   "cell_type": "code",
   "execution_count": 60,
   "id": "00f39cca-3a29-47bb-8628-e5bd4a55f9b0",
   "metadata": {},
   "outputs": [],
   "source": [
    "age = 17\n"
   ]
  },
  {
   "cell_type": "code",
   "execution_count": 62,
   "id": "c3e40b79-95ec-4592-9187-d89bd7b9d3a0",
   "metadata": {},
   "outputs": [],
   "source": [
    "if age > 18:\n",
    "    print(\"welcome\")"
   ]
  },
  {
   "cell_type": "code",
   "execution_count": 63,
   "id": "68f7d099-a9b0-48a0-a168-5276bc87dcd8",
   "metadata": {},
   "outputs": [
    {
     "data": {
      "text/plain": [
       "False"
      ]
     },
     "execution_count": 63,
     "metadata": {},
     "output_type": "execute_result"
    }
   ],
   "source": [
    "5 > 10"
   ]
  },
  {
   "cell_type": "code",
   "execution_count": 64,
   "id": "a5c5f336-2035-4101-b9bb-c8b24be7c5cf",
   "metadata": {},
   "outputs": [
    {
     "data": {
      "text/plain": [
       "True"
      ]
     },
     "execution_count": 64,
     "metadata": {},
     "output_type": "execute_result"
    }
   ],
   "source": [
    "10 > 5"
   ]
  },
  {
   "cell_type": "code",
   "execution_count": null,
   "id": "1697de2f-45e4-49a0-9e33-af14eb9b379a",
   "metadata": {},
   "outputs": [],
   "source": []
  }
 ],
 "metadata": {
  "kernelspec": {
   "display_name": "Python [conda env:base] *",
   "language": "python",
   "name": "conda-base-py"
  },
  "language_info": {
   "codemirror_mode": {
    "name": "ipython",
    "version": 3
   },
   "file_extension": ".py",
   "mimetype": "text/x-python",
   "name": "python",
   "nbconvert_exporter": "python",
   "pygments_lexer": "ipython3",
   "version": "3.13.5"
  }
 },
 "nbformat": 4,
 "nbformat_minor": 5
}
