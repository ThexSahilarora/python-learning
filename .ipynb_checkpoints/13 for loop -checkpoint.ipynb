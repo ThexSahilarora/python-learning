{
 "cells": [
  {
   "cell_type": "code",
   "execution_count": 15,
   "id": "b3a23fec-1ad7-469d-96a2-d65c102c461e",
   "metadata": {},
   "outputs": [
    {
     "name": "stdout",
     "output_type": "stream",
     "text": [
      "5\n",
      "4\n",
      "3\n",
      "2\n",
      "1\n"
     ]
    }
   ],
   "source": [
    "i = 5\n",
    "n = 0\n",
    "while i > n:\n",
    "    print(i)\n",
    "    i -=1"
   ]
  },
  {
   "cell_type": "code",
   "execution_count": 1,
   "id": "7b5aaeb1-4710-447a-8bdb-f96df44304cb",
   "metadata": {},
   "outputs": [
    {
     "name": "stdout",
     "output_type": "stream",
     "text": [
      "5\n",
      "4\n",
      "3\n",
      "2\n",
      "1\n"
     ]
    }
   ],
   "source": [
    "i = 5\n",
    "while i:\n",
    "    print(i)\n",
    "    i -=1"
   ]
  },
  {
   "cell_type": "code",
   "execution_count": 5,
   "id": "86fe11c1-6a2d-4e11-8c44-e180096edaf9",
   "metadata": {},
   "outputs": [
    {
     "name": "stdout",
     "output_type": "stream",
     "text": [
      "7\n",
      "6\n",
      "5\n",
      "4\n",
      "3\n",
      "2\n",
      "1\n"
     ]
    }
   ],
   "source": [
    "i = 7\n",
    "while i:\n",
    "    print(i)\n",
    "    i -= 1"
   ]
  },
  {
   "cell_type": "code",
   "execution_count": 10,
   "id": "ff146f50-508f-43c0-a186-f2495df5051e",
   "metadata": {},
   "outputs": [
    {
     "name": "stdout",
     "output_type": "stream",
     "text": [
      "4\n",
      "4\n",
      "4\n",
      "4\n",
      "4\n"
     ]
    }
   ],
   "source": [
    "i = 0\n",
    "\n",
    "n = 5\n",
    "while i < n:\n",
    "    print(n-1)\n",
    "    i += 1"
   ]
  },
  {
   "cell_type": "code",
   "execution_count": 11,
   "id": "8c8acda0-6b68-4e2f-968d-b306bc1b2db8",
   "metadata": {},
   "outputs": [],
   "source": [
    "name = \"sahil\"\n"
   ]
  },
  {
   "cell_type": "code",
   "execution_count": 15,
   "id": "120a8a95-7df4-4fd5-a0c8-3d4e0585766f",
   "metadata": {},
   "outputs": [
    {
     "name": "stdout",
     "output_type": "stream",
     "text": [
      "s\n",
      "a\n",
      "h\n",
      "i\n",
      "l\n"
     ]
    }
   ],
   "source": [
    "for alphabet in name:\n",
    "    print(alphabet)"
   ]
  },
  {
   "cell_type": "code",
   "execution_count": 18,
   "id": "fd47326d-b965-4ebc-ae91-76c923d6886f",
   "metadata": {},
   "outputs": [
    {
     "name": "stdout",
     "output_type": "stream",
     "text": [
      "tmatar\n",
      "pyaz\n",
      "aloo\n",
      "bhindi\n"
     ]
    }
   ],
   "source": [
    "parchi = ['tmatar', 'pyaz', 'aloo', 'bhindi']\n",
    "for sabzi in parchi:\n",
    "    print(sabzi)"
   ]
  },
  {
   "cell_type": "code",
   "execution_count": 21,
   "id": "570b15b9-405c-47b7-a2c1-df0bab582668",
   "metadata": {},
   "outputs": [
    {
     "name": "stdout",
     "output_type": "stream",
     "text": [
      "hi shubhu\n",
      "hi sahil\n",
      "hi varun\n",
      "hi rahul\n"
     ]
    }
   ],
   "source": [
    "course = ['shubhu', 'sahil', 'varun', 'rahul']\n",
    "for person in course:\n",
    "    print(\"hi\", person)"
   ]
  },
  {
   "cell_type": "code",
   "execution_count": 23,
   "id": "2e7049c5-0237-4a7e-880b-6ae172b38441",
   "metadata": {},
   "outputs": [
    {
     "name": "stdout",
     "output_type": "stream",
     "text": [
      "5\n",
      "1\n",
      "4\n",
      "6\n",
      "9\n"
     ]
    }
   ],
   "source": [
    "s = [5,1,4,6,9]\n",
    "\n",
    "for numbers in s:\n",
    " print (numbers)\n",
    "\n"
   ]
  },
  {
   "cell_type": "code",
   "execution_count": 25,
   "id": "aa09384e-ee87-4bdc-86e3-e4844acd38f6",
   "metadata": {},
   "outputs": [
    {
     "name": "stdout",
     "output_type": "stream",
     "text": [
      "3\n",
      "4\n",
      "5\n",
      "6\n",
      "7\n",
      "8\n",
      "9\n"
     ]
    }
   ],
   "source": [
    "for i in range (3, 10):\n",
    "    print(i)"
   ]
  },
  {
   "cell_type": "code",
   "execution_count": 26,
   "id": "036a282a-f18b-4c29-b2b0-0e5b5cf85db0",
   "metadata": {},
   "outputs": [
    {
     "name": "stdout",
     "output_type": "stream",
     "text": [
      "3\n",
      "5\n",
      "7\n",
      "9\n"
     ]
    }
   ],
   "source": [
    "for i in range (3, 10,2):\n",
    "    print(i)"
   ]
  },
  {
   "cell_type": "code",
   "execution_count": 27,
   "id": "825cde30-6eac-4446-bf20-4b9f37cdf26d",
   "metadata": {},
   "outputs": [
    {
     "name": "stdout",
     "output_type": "stream",
     "text": [
      "s\n",
      "a\n",
      "h\n",
      "i\n",
      "l\n"
     ]
    }
   ],
   "source": [
    "name = \"sahil\"\n",
    "for i in range(len(name)):\n",
    "    print(name[i])\n"
   ]
  },
  {
   "cell_type": "code",
   "execution_count": 2,
   "id": "d1829aae-71fb-4e47-8a9f-ed9af587d587",
   "metadata": {},
   "outputs": [],
   "source": [
    "names = ['xavier', 'sahil', 'rahul']"
   ]
  },
  {
   "cell_type": "code",
   "execution_count": 3,
   "id": "6906a035-a0b5-4290-be39-7a822b42092d",
   "metadata": {},
   "outputs": [
    {
     "name": "stdout",
     "output_type": "stream",
     "text": [
      "xavier\n",
      "sahil\n",
      "rahul\n"
     ]
    }
   ],
   "source": [
    "for name in names:\n",
    "    print(name)"
   ]
  },
  {
   "cell_type": "code",
   "execution_count": 6,
   "id": "4105be43-f5ee-4f71-9fb9-2dce2835afef",
   "metadata": {},
   "outputs": [
    {
     "name": "stdout",
     "output_type": "stream",
     "text": [
      "Requirement already satisfied: pandas in c:\\users\\sahil\\anaconda3\\lib\\site-packages (2.2.3)\n",
      "Requirement already satisfied: numpy>=1.26.0 in c:\\users\\sahil\\anaconda3\\lib\\site-packages (from pandas) (2.1.3)\n",
      "Requirement already satisfied: python-dateutil>=2.8.2 in c:\\users\\sahil\\anaconda3\\lib\\site-packages (from pandas) (2.9.0.post0)\n",
      "Requirement already satisfied: pytz>=2020.1 in c:\\users\\sahil\\anaconda3\\lib\\site-packages (from pandas) (2024.1)\n",
      "Requirement already satisfied: tzdata>=2022.7 in c:\\users\\sahil\\anaconda3\\lib\\site-packages (from pandas) (2025.2)\n",
      "Requirement already satisfied: six>=1.5 in c:\\users\\sahil\\anaconda3\\lib\\site-packages (from python-dateutil>=2.8.2->pandas) (1.17.0)\n",
      "Note: you may need to restart the kernel to use updated packages.\n"
     ]
    }
   ],
   "source": [
    "pip install pandas"
   ]
  },
  {
   "cell_type": "code",
   "execution_count": 4,
   "id": "c680f866-20cb-43ec-8890-921573de4900",
   "metadata": {},
   "outputs": [],
   "source": [
    "import random"
   ]
  },
  {
   "cell_type": "code",
   "execution_count": 5,
   "id": "ed3a320f-c2c1-4ad3-bca7-a6fec89abdd8",
   "metadata": {},
   "outputs": [
    {
     "data": {
      "text/plain": [
       "'random.py'"
      ]
     },
     "execution_count": 5,
     "metadata": {},
     "output_type": "execute_result"
    }
   ],
   "source": [
    "\"random.py\""
   ]
  },
  {
   "cell_type": "code",
   "execution_count": 13,
   "id": "ab860ab6-b614-4056-a1c4-74655cf489f5",
   "metadata": {},
   "outputs": [
    {
     "data": {
      "text/plain": [
       "6"
      ]
     },
     "execution_count": 13,
     "metadata": {},
     "output_type": "execute_result"
    }
   ],
   "source": [
    "random.randint(1,12)"
   ]
  },
  {
   "cell_type": "code",
   "execution_count": 14,
   "id": "9804bf86-92b7-470f-8257-daee3aaa62c2",
   "metadata": {},
   "outputs": [
    {
     "name": "stdout",
     "output_type": "stream",
     "text": [
      "9 6 5 10 2 1 3 4 2 9 5 6 5 9 8 "
     ]
    },
    {
     "data": {
      "text/plain": [
       "[9, 6, 5, 10, 2, 1, 3, 4, 2, 9, 5, 6, 5, 9, 8]"
      ]
     },
     "execution_count": 14,
     "metadata": {},
     "output_type": "execute_result"
    }
   ],
   "source": [
    "li = []\n",
    "\n",
    "\n",
    "for i in range(15):\n",
    "    num = random.randint(1, 10)\n",
    "    print(num, end = \" \")\n",
    "    li.append(num)\n",
    "\n",
    "li"
   ]
  },
  {
   "cell_type": "code",
   "execution_count": 17,
   "id": "dad2e37f-89fd-457e-9a55-0057db8571e9",
   "metadata": {},
   "outputs": [
    {
     "name": "stdout",
     "output_type": "stream",
     "text": [
      "[2, 3, 4, 5]\n",
      "[4, 9, 16, 25]\n"
     ]
    }
   ],
   "source": [
    "li = [2,3,4,5]\n",
    "a = []\n",
    "for i in li:\n",
    "    s = i ** 2\n",
    "    a.append(s)\n",
    "\n",
    "print(li)\n",
    "print(a)"
   ]
  },
  {
   "cell_type": "code",
   "execution_count": 20,
   "id": "b48acea7-c2c0-4e04-921b-097a183d261f",
   "metadata": {},
   "outputs": [
    {
     "data": {
      "text/plain": [
       "[3, 1, 6, 1, 7]"
      ]
     },
     "execution_count": 20,
     "metadata": {},
     "output_type": "execute_result"
    }
   ],
   "source": [
    "a = []\n",
    "for i in range(5):\n",
    "    a.append(random.randint(1,10))\n",
    "a"
   ]
  },
  {
   "cell_type": "code",
   "execution_count": 36,
   "id": "c02f4597-497f-43d6-b6dc-6f821d2ee878",
   "metadata": {},
   "outputs": [
    {
     "data": {
      "text/plain": [
       "[10, 5, 9, 1, 2]"
      ]
     },
     "execution_count": 36,
     "metadata": {},
     "output_type": "execute_result"
    }
   ],
   "source": [
    "a = [random.randint(1,10) for i in range(5)]\n",
    "a"
   ]
  },
  {
   "cell_type": "code",
   "execution_count": 25,
   "id": "7b2ed4ef-52d8-4302-828c-9adea94bf95b",
   "metadata": {},
   "outputs": [
    {
     "data": {
      "text/plain": [
       "[0, 1, 2, 3, 4]"
      ]
     },
     "execution_count": 25,
     "metadata": {},
     "output_type": "execute_result"
    }
   ],
   "source": [
    "a = [i for i in range(5)]\n",
    "a"
   ]
  },
  {
   "cell_type": "code",
   "execution_count": 37,
   "id": "7f0adde4-3683-4c77-a824-0c767bddf12d",
   "metadata": {},
   "outputs": [
    {
     "data": {
      "text/plain": [
       "[10, 5, 9, 1, 2]"
      ]
     },
     "execution_count": 37,
     "metadata": {},
     "output_type": "execute_result"
    }
   ],
   "source": [
    "a"
   ]
  },
  {
   "cell_type": "code",
   "execution_count": 43,
   "id": "5b92b15a-3317-4d2f-867b-e621457f3442",
   "metadata": {},
   "outputs": [
    {
     "data": {
      "text/plain": [
       "4"
      ]
     },
     "execution_count": 43,
     "metadata": {},
     "output_type": "execute_result"
    }
   ],
   "source": [
    "l = [i for i in a]\n",
    "i"
   ]
  },
  {
   "cell_type": "code",
   "execution_count": 44,
   "id": "a3b57803-e785-4006-a91b-6300cc28d891",
   "metadata": {},
   "outputs": [],
   "source": [
    "name = ['shubham', 'sahil', 'jatin']\n",
    "age = [ 20,25,30]"
   ]
  },
  {
   "cell_type": "code",
   "execution_count": 46,
   "id": "cfc12863-4c47-40a3-b07c-6c806a62b0fb",
   "metadata": {},
   "outputs": [],
   "source": [
    "d = {}\n",
    "for i, j in zip(name,age):\n",
    "    d[i]= j\n"
   ]
  },
  {
   "cell_type": "code",
   "execution_count": 47,
   "id": "e01cf0f4-19e2-47fd-bdba-b247e08112a3",
   "metadata": {},
   "outputs": [
    {
     "data": {
      "text/plain": [
       "{'shubham': 20, 'sahil': 25, 'jatin': 30}"
      ]
     },
     "execution_count": 47,
     "metadata": {},
     "output_type": "execute_result"
    }
   ],
   "source": [
    "d"
   ]
  },
  {
   "cell_type": "code",
   "execution_count": null,
   "id": "47268c0e-379d-45f9-a06d-566c34a1a1e6",
   "metadata": {},
   "outputs": [],
   "source": []
  }
 ],
 "metadata": {
  "kernelspec": {
   "display_name": "Python [conda env:base] *",
   "language": "python",
   "name": "conda-base-py"
  },
  "language_info": {
   "codemirror_mode": {
    "name": "ipython",
    "version": 3
   },
   "file_extension": ".py",
   "mimetype": "text/x-python",
   "name": "python",
   "nbconvert_exporter": "python",
   "pygments_lexer": "ipython3",
   "version": "3.13.5"
  }
 },
 "nbformat": 4,
 "nbformat_minor": 5
}
