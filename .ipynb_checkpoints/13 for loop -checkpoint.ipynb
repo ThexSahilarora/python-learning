{
 "cells": [
  {
   "cell_type": "code",
   "execution_count": 15,
   "id": "b3a23fec-1ad7-469d-96a2-d65c102c461e",
   "metadata": {},
   "outputs": [
    {
     "name": "stdout",
     "output_type": "stream",
     "text": [
      "5\n",
      "4\n",
      "3\n",
      "2\n",
      "1\n"
     ]
    }
   ],
   "source": [
    "i = 5\n",
    "n = 0\n",
    "while i > n:\n",
    "    print(i)\n",
    "    i -=1"
   ]
  },
  {
   "cell_type": "code",
   "execution_count": 1,
   "id": "7b5aaeb1-4710-447a-8bdb-f96df44304cb",
   "metadata": {},
   "outputs": [
    {
     "name": "stdout",
     "output_type": "stream",
     "text": [
      "5\n",
      "4\n",
      "3\n",
      "2\n",
      "1\n"
     ]
    }
   ],
   "source": [
    "i = 5\n",
    "while i:\n",
    "    print(i)\n",
    "    i -=1"
   ]
  },
  {
   "cell_type": "code",
   "execution_count": 5,
   "id": "86fe11c1-6a2d-4e11-8c44-e180096edaf9",
   "metadata": {},
   "outputs": [
    {
     "name": "stdout",
     "output_type": "stream",
     "text": [
      "7\n",
      "6\n",
      "5\n",
      "4\n",
      "3\n",
      "2\n",
      "1\n"
     ]
    }
   ],
   "source": [
    "i = 7\n",
    "while i:\n",
    "    print(i)\n",
    "    i -= 1"
   ]
  },
  {
   "cell_type": "code",
   "execution_count": 10,
   "id": "ff146f50-508f-43c0-a186-f2495df5051e",
   "metadata": {},
   "outputs": [
    {
     "name": "stdout",
     "output_type": "stream",
     "text": [
      "4\n",
      "4\n",
      "4\n",
      "4\n",
      "4\n"
     ]
    }
   ],
   "source": [
    "i = 0\n",
    "\n",
    "n = 5\n",
    "while i < n:\n",
    "    print(n-1)\n",
    "    i += 1"
   ]
  },
  {
   "cell_type": "code",
   "execution_count": 11,
   "id": "8c8acda0-6b68-4e2f-968d-b306bc1b2db8",
   "metadata": {},
   "outputs": [],
   "source": [
    "name = \"sahil\"\n"
   ]
  },
  {
   "cell_type": "code",
   "execution_count": 15,
   "id": "120a8a95-7df4-4fd5-a0c8-3d4e0585766f",
   "metadata": {},
   "outputs": [
    {
     "name": "stdout",
     "output_type": "stream",
     "text": [
      "s\n",
      "a\n",
      "h\n",
      "i\n",
      "l\n"
     ]
    }
   ],
   "source": [
    "for alphabet in name:\n",
    "    print(alphabet)"
   ]
  },
  {
   "cell_type": "code",
   "execution_count": 18,
   "id": "fd47326d-b965-4ebc-ae91-76c923d6886f",
   "metadata": {},
   "outputs": [
    {
     "name": "stdout",
     "output_type": "stream",
     "text": [
      "tmatar\n",
      "pyaz\n",
      "aloo\n",
      "bhindi\n"
     ]
    }
   ],
   "source": [
    "parchi = ['tmatar', 'pyaz', 'aloo', 'bhindi']\n",
    "for sabzi in parchi:\n",
    "    print(sabzi)"
   ]
  },
  {
   "cell_type": "code",
   "execution_count": 21,
   "id": "570b15b9-405c-47b7-a2c1-df0bab582668",
   "metadata": {},
   "outputs": [
    {
     "name": "stdout",
     "output_type": "stream",
     "text": [
      "hi shubhu\n",
      "hi sahil\n",
      "hi varun\n",
      "hi rahul\n"
     ]
    }
   ],
   "source": [
    "course = ['shubhu', 'sahil', 'varun', 'rahul']\n",
    "for person in course:\n",
    "    print(\"hi\", person)"
   ]
  },
  {
   "cell_type": "code",
   "execution_count": 23,
   "id": "2e7049c5-0237-4a7e-880b-6ae172b38441",
   "metadata": {},
   "outputs": [
    {
     "name": "stdout",
     "output_type": "stream",
     "text": [
      "5\n",
      "1\n",
      "4\n",
      "6\n",
      "9\n"
     ]
    }
   ],
   "source": [
    "s = [5,1,4,6,9]\n",
    "\n",
    "for numbers in s:\n",
    " print (numbers)\n",
    "\n"
   ]
  },
  {
   "cell_type": "code",
   "execution_count": 25,
   "id": "aa09384e-ee87-4bdc-86e3-e4844acd38f6",
   "metadata": {},
   "outputs": [
    {
     "name": "stdout",
     "output_type": "stream",
     "text": [
      "3\n",
      "4\n",
      "5\n",
      "6\n",
      "7\n",
      "8\n",
      "9\n"
     ]
    }
   ],
   "source": [
    "for i in range (3, 10):\n",
    "    print(i)"
   ]
  },
  {
   "cell_type": "code",
   "execution_count": 26,
   "id": "036a282a-f18b-4c29-b2b0-0e5b5cf85db0",
   "metadata": {},
   "outputs": [
    {
     "name": "stdout",
     "output_type": "stream",
     "text": [
      "3\n",
      "5\n",
      "7\n",
      "9\n"
     ]
    }
   ],
   "source": [
    "for i in range (3, 10,2):\n",
    "    print(i)"
   ]
  },
  {
   "cell_type": "code",
   "execution_count": 27,
   "id": "825cde30-6eac-4446-bf20-4b9f37cdf26d",
   "metadata": {},
   "outputs": [
    {
     "name": "stdout",
     "output_type": "stream",
     "text": [
      "s\n",
      "a\n",
      "h\n",
      "i\n",
      "l\n"
     ]
    }
   ],
   "source": [
    "name = \"sahil\"\n",
    "for i in range(len(name)):\n",
    "    print(name[i])\n"
   ]
  },
  {
   "cell_type": "code",
   "execution_count": null,
   "id": "bb691635-f8e7-40de-a2ee-a99cba4f1afc",
   "metadata": {},
   "outputs": [],
   "source": []
  }
 ],
 "metadata": {
  "kernelspec": {
   "display_name": "Python [conda env:base] *",
   "language": "python",
   "name": "conda-base-py"
  },
  "language_info": {
   "codemirror_mode": {
    "name": "ipython",
    "version": 3
   },
   "file_extension": ".py",
   "mimetype": "text/x-python",
   "name": "python",
   "nbconvert_exporter": "python",
   "pygments_lexer": "ipython3",
   "version": "3.13.5"
  }
 },
 "nbformat": 4,
 "nbformat_minor": 5
}
